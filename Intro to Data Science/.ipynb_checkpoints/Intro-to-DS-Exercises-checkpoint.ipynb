{
 "metadata": {
  "name": "",
  "signature": "sha256:2b13541197dd200f49348424fbad4091d66f090345215739b50d678fd4d9aab9"
 },
 "nbformat": 3,
 "nbformat_minor": 0,
 "worksheets": [
  {
   "cells": [
    {
     "cell_type": "markdown",
     "metadata": {},
     "source": [
      "# Udacity \n",
      "\n",
      "## Intro to Data Science Solutions\n"
     ]
    },
    {
     "cell_type": "code",
     "collapsed": false,
     "input": [
      "import pandas as pd\n",
      "import pandasql\n",
      "import csv\n",
      "filename=\"turnstile_data_master_with_weather.csv\""
     ],
     "language": "python",
     "metadata": {},
     "outputs": [],
     "prompt_number": 3
    },
    {
     "cell_type": "code",
     "collapsed": false,
     "input": [
      "from sympy import init_printing\n",
      "init_printing()\n",
      "import sympy as sym\n",
      "from sympy import *"
     ],
     "language": "python",
     "metadata": {},
     "outputs": [],
     "prompt_number": 9
    },
    {
     "cell_type": "markdown",
     "metadata": {},
     "source": [
      "## Question 2.1"
     ]
    },
    {
     "cell_type": "code",
     "collapsed": false,
     "input": [
      "def num_rainy_days(filename):\n",
      "    '''\n",
      "    This function should run a SQL query on a dataframe of\n",
      "    weather data.  The SQL query should return one column and\n",
      "    one row - a count of the number of days in the dataframe where\n",
      "    the rain column is equal to 1 (i.e., the number of days it\n",
      "    rained).  The dataframe will be titled 'weather_data'. You'll\n",
      "    need to provide the SQL query.  You might find SQL's count function\n",
      "    useful for this exercise.  You can read more about it here:\n",
      "    \n",
      "    https://dev.mysql.com/doc/refman/5.1/en/counting-rows.html\n",
      "    \n",
      "    You might also find that interpreting numbers as integers or floats may not\n",
      "    work initially.  In order to get around this issue, it may be equal to cast\n",
      "    these numbers as integers.  This can be done by writing cast(column as integer).\n",
      "    So for example, if we wanted to cast the maxtempi column as an integer, we would actually\n",
      "    write something like where cast(maxtempi as integer) = 76, as opposed to simply \n",
      "    where maxtempi = 76.\n",
      "    '''\n",
      "    weather_data = pd.read_csv(filename)\n",
      "    weather_data.rename(columns = lambda x: x.replace(' ', '_').lower(), inplace=True)\n",
      "## Correct Grader Solution:    \n",
      "#    q = \"\"\"\n",
      "#    SELECT count(*)\n",
      "#    FROM weather_data\n",
      "#    WHERE cast(rain as integer) = 1\n",
      "#    \"\"\"    \n",
      "## \n",
      "\n",
      "    \n",
      "## Correct grader solution only works on the very small 30x70 dataframe with unique dates. \n",
      "## Below query works on full turnstile dataset provided to us.    \n",
      "    \n",
      "    q = \"\"\"\n",
      "    SELECT COUNT(DISTINCT DATEn) as 'count(*)'\n",
      "    FROM weather_data \n",
      "    WHERE cast(rain as integer) = 1\n",
      "    \"\"\"\n",
      "    \n",
      "    #Execute your SQL command against the pandas frame\n",
      "    rainy_days = pandasql.sqldf(q, locals())\n",
      "    return rainy_days\n",
      "\n",
      "print num_rainy_days(filename)"
     ],
     "language": "python",
     "metadata": {},
     "outputs": [
      {
       "output_type": "stream",
       "stream": "stdout",
       "text": [
        "   count(*)\n",
        "0        10\n"
       ]
      }
     ],
     "prompt_number": 16
    },
    {
     "cell_type": "markdown",
     "metadata": {},
     "source": [
      "## Question 2.2"
     ]
    },
    {
     "cell_type": "code",
     "collapsed": false,
     "input": [
      "def max_temp_aggregate_by_fog(filename):\n",
      "    '''\n",
      "    This function should run a SQL query on a dataframe of\n",
      "    weather data.  The SQL query should return two columns and\n",
      "    two rows - whether it was foggy or not (0 or 1) and the max\n",
      "    maxtempi for that fog value (i.e., the maximum max temperature\n",
      "    for both foggy and non-foggy days).  The dataframe will be \n",
      "    titled 'weather_data'. You'll need to provide the SQL query.\n",
      "    \n",
      "    You might also find that interpreting numbers as integers or floats may not\n",
      "    work initially.  In order to get around this issue, it may be useful to cast\n",
      "    these numbers as integers.  This can be done by writing cast(column as integer).\n",
      "    So for example, if we wanted to cast the maxtempi column as an integer, we would actually\n",
      "    write something like where cast(maxtempi as integer) = 76, as opposed to simply \n",
      "    where maxtempi = 76.\n",
      "    '''\n",
      "    weather_data = pd.read_csv(filename)\n",
      "    weather_data.rename(columns = lambda x: x.replace(' ', '_').lower(), inplace=True)    \n",
      "    \n",
      "    q = \"\"\"\n",
      "    SELECT fog, max(cast (maxtempi as integer)) as MaxTemp \n",
      "    FROM weather_data \n",
      "    GROUP BY fog;\n",
      "    \"\"\"\n",
      "    \n",
      "    #Execute your SQL command against the pandas frame\n",
      "    rainy_days = pandasql.sqldf(q, locals())\n",
      "    return rainy_days\n",
      "\n",
      "print max_temp_aggregate_by_fog(filename)"
     ],
     "language": "python",
     "metadata": {},
     "outputs": [
      {
       "output_type": "stream",
       "stream": "stdout",
       "text": [
        "   fog  MaxTemp\n",
        "0    0       86\n",
        "1    1       81\n"
       ]
      }
     ],
     "prompt_number": 17
    },
    {
     "cell_type": "markdown",
     "metadata": {},
     "source": [
      "## Question 2.3"
     ]
    },
    {
     "cell_type": "code",
     "collapsed": false,
     "input": [
      "def avg_min_temperature(filename):\n",
      "    '''\n",
      "    This function should run a SQL query on a dataframe of\n",
      "    weather data.  The SQL query should return one column and\n",
      "    one row - the average meantempi on days that are a Saturday\n",
      "    or Sunday (i.e., the the average mean temperature on weekends).\n",
      "    The dataframe will be titled 'weather_data' and the you can access\n",
      "    the date in the dataframe via the 'date' column.\n",
      "    \n",
      "    You'll need to provide  the SQL query.\n",
      "    \n",
      "    You might also find that interpreting numbers as integers or floats may not\n",
      "    work initially.  In order to get around this issue, it may be equal to cast\n",
      "    these numbers as integers.  This can be done by writing cast(column as integer).\n",
      "    So for example, if we wanted to cast the maxtempi column as an integer, we would actually\n",
      "    write something like where cast(maxtempi as integer) = 76, as opposed to simply \n",
      "    where maxtempi = 76.\n",
      "    \n",
      "    Also, you can convert dates t\\\n",
      "    the week via the 'strftime' keyword in SQL.\n",
      "    For example, cast (strftime('%w', date) as integer) will return 0 if the date\n",
      "    is a Sunday or 6 if the date is a Saturday.\n",
      "    '''\n",
      "    weather_data = pd.read_csv(filename)\n",
      "    weather_data.rename(columns = lambda x: x.replace(' ', '_').lower(), inplace=True)\n",
      "\n",
      "## Correct Grader Solution:\n",
      "#    q = \"\"\"\n",
      "#    SELECT AVG(cast (meantempi as integer))\n",
      "#    FROM weather_data \n",
      "#    WHERE cast (strftime('%w', date) as integer) in (0, 6)\n",
      "##  \n",
      "\n",
      "    q = \"\"\"\n",
      "    SELECT AVG(cast (meantempi as integer))\n",
      "    FROM weather_data \n",
      "    WHERE cast (strftime('%w', DATEn) as integer) in (0, 6)\n",
      "    \"\"\"\n",
      "    \n",
      "    #Execute your SQL command against the pandas frame\n",
      "    mean_temp_weekends = pandasql.sqldf(q, locals())\n",
      "    return mean_temp_weekends\n",
      "\n",
      "print avg_min_temperature(filename)"
     ],
     "language": "python",
     "metadata": {},
     "outputs": [
      {
       "output_type": "stream",
       "stream": "stdout",
       "text": [
        "   AVG(cast (meantempi as integer))\n",
        "0                         65.100667\n"
       ]
      }
     ],
     "prompt_number": 18
    },
    {
     "cell_type": "markdown",
     "metadata": {},
     "source": [
      "## Question 2.4"
     ]
    },
    {
     "cell_type": "code",
     "collapsed": false,
     "input": [
      "def avg_min_temperature(filename):\n",
      "    '''\n",
      "    This function should run a SQL query on a dataframe of\n",
      "    weather data. More specifically you want to find the average\n",
      "    minimum temperature on rainy days where the minimum temperature\n",
      "    is greater than 55 degrees.\n",
      "    \n",
      "    You might also find that interpreting numbers as integers or floats may not\n",
      "    work initially.  In order to get around this issue, it may be equal to cast\n",
      "    these numbers as integers.  This can be done by writing cast(column as integer).\n",
      "    So for example, if we wanted to cast the maxtempi column as an integer, we would actually\n",
      "    write something like where cast(maxtempi as integer) = 76, as opposed to simply \n",
      "    where maxtempi = 76.\n",
      "    '''\n",
      "    weather_data = pd.read_csv(filename)\n",
      "    weather_data.rename(columns = lambda x: x.replace(' ', '_').lower(), inplace=True)\n",
      "\n",
      "    q = \"\"\"\n",
      "    SELECT AVG(cast (mintempi as integer)) \n",
      "    FROM weather_data \n",
      "    WHERE mintempi > 55 \n",
      "    AND rain = 1\n",
      "    \"\"\"\n",
      "    \n",
      "    #Execute your SQL command against the pandas frame\n",
      "    mean_temp_weekends = pandasql.sqldf(q, locals())\n",
      "    return mean_temp_weekends\n",
      "\n",
      "print avg_min_temperature(filename)"
     ],
     "language": "python",
     "metadata": {},
     "outputs": [
      {
       "output_type": "stream",
       "stream": "stdout",
       "text": [
        "   AVG(cast (mintempi as integer))\n",
        "0                         61.23886\n"
       ]
      }
     ],
     "prompt_number": 19
    },
    {
     "cell_type": "markdown",
     "metadata": {},
     "source": [
      "## Question 2.5"
     ]
    },
    {
     "cell_type": "code",
     "collapsed": false,
     "input": [
      "def split_seq(seq, size):\n",
      "    \"\"\" Split up seq in pieces of size \"\"\"\n",
      "    return [seq[i:i+size] for i in range(0, len(seq), size)]\n",
      "\n",
      "filename=[\"turnstile_110528.txt\"]\n",
      "\n",
      "def fix_turnstile_data(filenames):\n",
      "    '''\n",
      "    Filenames is a list of MTA Subway turnstile text files. A link to an example\n",
      "    MTA Subway turnstile text file can be seen at the URL below:\n",
      "    http://web.mta.info/developers/data/nyct/turnstile/turnstile_110507.txt\n",
      "    \n",
      "    As you can see, there are numerous data points included in each row of the\n",
      "    a MTA Subway turnstile text file. \n",
      "    You want to write a function that will update each row in the text\n",
      "    file so there is only one entry per row. A few examples below:\n",
      "    A002,R051,02-00-00,05-28-11,00:00:00,REGULAR,003178521,001100739\n",
      "    A002,R051,02-00-00,05-28-11,04:00:00,REGULAR,003178541,001100746\n",
      "    A002,R051,02-00-00,05-28-11,08:00:00,REGULAR,003178559,001100775\n",
      "    \n",
      "    Write the updates to a different text file in the format of \"updated_\" + filename.\n",
      "    For example:\n",
      "        1) if you read in a text file called \"turnstile_110521.txt\"\n",
      "        2) you should write the updated data to \"updated_turnstile_110521.txt\"\n",
      "    The order of the fields should be preserved. \n",
      "    \n",
      "    You can see a sample of the turnstile text file that's passed into this function\n",
      "    and the the corresponding updated file in the links below:\n",
      "    \n",
      "    Sample input file:\n",
      "    https://www.dropbox.com/s/mpin5zv4hgrx244/turnstile_110528.txt\n",
      "    Sample updated file:\n",
      "    https://www.dropbox.com/s/074xbgio4c39b7h/solution_turnstile_110528.txt\n",
      "    '''\n",
      "    for one_file in filenames:\n",
      "\n",
      "        with open(one_file, \"r\") as read_data:\n",
      "              # Get rid of extra blank line.\n",
      "              # Open outfile with mode 'wb' instead of 'w'.\n",
      "              # The csv.writer writes \\r\\n into the file directly.\n",
      "              # If you don't open the file in binary mode,\n",
      "              #  it will write \\r\\r\\n because on Windows text mode will translate each \\n into \\r\\n.\n",
      "            with open(\"updated_{}\".format(one_file), \"wb\") as write_data:\n",
      "                reader = csv.reader(read_data)\n",
      "                writer = csv.writer(write_data)\n",
      "                for line in reader:\n",
      "                    header = line[:3]\n",
      "                    clean_line = [s.strip() for s in line]\n",
      "                    rest = [clean_line[i:i+5] for i in range(3, len(clean_line), 5)]\n",
      "\n",
      "                    for each_one in rest:\n",
      "                        writer.writerow(header + each_one)\n",
      "            write_data.close()\n",
      "        read_data.close()\n",
      "\n",
      "fix_turnstile_data(filename)"
     ],
     "language": "python",
     "metadata": {},
     "outputs": [],
     "prompt_number": 21
    },
    {
     "cell_type": "markdown",
     "metadata": {},
     "source": [
      "## Question 2.6"
     ]
    },
    {
     "cell_type": "code",
     "collapsed": false,
     "input": [
      "## Locally, I only have a copy of turnstile_110528.txt, so I'll update by concatenating a copy of itself.\n",
      "filenames = [\"updated_turnstile_110528.txt\", \"updated_turnstile_110528.txt\"]\n",
      "\n",
      "output_file = \"output.txt\"\n",
      "\n",
      "def create_master_turnstile_file(filenames, output_file):\n",
      "    '''\n",
      "    Write a function that takes the files in the list filenames, which all have the \n",
      "    columns 'C/A, UNIT, SCP, DATEn, TIMEn, DESCn, ENTRIESn, EXITSn', and consolidates\n",
      "    them into one file located at output file.  There should be ONE row with the column\n",
      "    headers, located at the top of the file.\n",
      "    \n",
      "    For example, if file_1 has:\n",
      "    'C/A, UNIT, SCP, DATEn, TIMEn, DESCn, ENTRIESn, EXITSn'\n",
      "    line 1 ...\n",
      "    line 2 ...\n",
      "    \n",
      "    and another file, file_2 has:\n",
      "    'C/A, UNIT, SCP, DATEn, TIMEn, DESCn, ENTRIESn, EXITSn'\n",
      "    line 3 ...\n",
      "    line 4 ...\n",
      "    line 5 ...\n",
      "    \n",
      "    We need to combine file_1 and file_2 into a master_file like below:\n",
      "     'C/A, UNIT, SCP, DATEn, TIMEn, DESCn, ENTRIESn, EXITSn'\n",
      "    line 1 ...\n",
      "    line 2 ...\n",
      "    line 3 ...\n",
      "    line 4 ...\n",
      "    line 5 ...\n",
      "    '''\n",
      "    with open(output_file, 'w') as master_file:\n",
      "       master_file.write('C/A,UNIT,SCP,DATEn,TIMEn,DESCn,ENTRIESn,EXITSn\\n')\n",
      "       for filename in filenames:\n",
      "                with open(filename, 'r') as f:\n",
      "                    ## discard header\n",
      "                    f.readline()\n",
      "                    content = f.read()\n",
      "                    master_file.write(content)\n",
      "                    f.close()\n",
      "       master_file.close()\n",
      "\n",
      "create_master_turnstile_file(filenames, output_file)"
     ],
     "language": "python",
     "metadata": {},
     "outputs": [],
     "prompt_number": 22
    },
    {
     "cell_type": "markdown",
     "metadata": {},
     "source": [
      "## Question 2.7"
     ]
    },
    {
     "cell_type": "code",
     "collapsed": false,
     "input": [
      "filename = filename=\"output.txt\"\n",
      "\n",
      "def filter_by_regular(filename):\n",
      "    '''\n",
      "    This function should read the csv file located at filename into a pandas dataframe,\n",
      "    and filter the dataframe to only rows where the 'DESCn' column has the value 'REGULAR'.\n",
      "    \n",
      "    For eample, if the pandas dataframe is as follows:\n",
      "    ,C/A,UNIT,SCP,DATEn,TIMEn,DESCn,ENTRIESn,EXITSn\n",
      "    0,A002,R051,02-00-00,05-01-11,00:00:00,REGULAR,3144312,1088151\n",
      "    1,A002,R051,02-00-00,05-01-11,04:00:00,DOOR,3144335,1088159\n",
      "    2,A002,R051,02-00-00,05-01-11,08:00:00,REGULAR,3144353,1088177\n",
      "    3,A002,R051,02-00-00,05-01-11,12:00:00,DOOR,3144424,1088231\n",
      "    \n",
      "    The dataframe will look like below after filtering to only rows where DESCn column\n",
      "    has the value 'REGULAR':\n",
      "    0,A002,R051,02-00-00,05-01-11,00:00:00,REGULAR,3144312,1088151\n",
      "    2,A002,R051,02-00-00,05-01-11,08:00:00,REGULAR,3144353,1088177\n",
      "    '''\n",
      "    \n",
      "    turnstile_data = pd.read_csv(filename)\n",
      "    #for DESCn, row in turnstile_data.iterrows():\n",
      "    #    if row['DESCn'] == 'REGULAR'\n",
      "    turnstile_data = turnstile_data[turnstile_data.DESCn == 'REGULAR']        \n",
      "    \n",
      "    \n",
      "    return turnstile_data\n",
      "\n",
      "print filter_by_regular(filename).head()  \n",
      "print filter_by_regular(filename).tail()"
     ],
     "language": "python",
     "metadata": {},
     "outputs": [
      {
       "output_type": "stream",
       "stream": "stdout",
       "text": [
        "    C/A  UNIT       SCP     DATEn     TIMEn    DESCn  ENTRIESn   EXITSn\n",
        "0  A002  R051  02-00-00  05-21-11  04:00:00  REGULAR   3169415  1097588\n",
        "1  A002  R051  02-00-00  05-21-11  08:00:00  REGULAR   3169431  1097607\n",
        "2  A002  R051  02-00-00  05-21-11  12:00:00  REGULAR   3169506  1097686\n",
        "3  A002  R051  02-00-00  05-21-11  16:00:00  REGULAR   3169693  1097734\n",
        "4  A002  R051  02-00-00  05-21-11  20:00:00  REGULAR   3169998  1097769\n",
        "        C/A  UNIT       SCP     DATEn     TIMEn    DESCn  ENTRIESn   EXITSn\n",
        "14679  A042  R086  01-00-04  05-27-11  04:00:00  REGULAR    915737  4179675\n",
        "14680  A042  R086  01-00-04  05-27-11  08:00:00  REGULAR    915743  4179820\n",
        "14681  A042  R086  01-00-04  05-27-11  12:00:00  REGULAR    915806  4180746\n",
        "14682  A042  R086  01-00-04  05-27-11  16:00:00  REGULAR    916090  4181746\n",
        "14683  A042  R086  01-00-04  05-27-11  20:00:00  REGULAR    916517  4182631\n"
       ]
      }
     ],
     "prompt_number": 27
    },
    {
     "cell_type": "markdown",
     "metadata": {},
     "source": [
      "## Question 2.8"
     ]
    },
    {
     "cell_type": "code",
     "collapsed": false,
     "input": [
      "filename=\"output.txt\"\n",
      "df = pd.read_csv(filename)\n",
      "df = df[(df['SCP'] == '02-00-00') & (df['C/A']=='A002') & (df['UNIT']=='R051')]\n",
      "\n",
      "def get_hourly_entries(df):\n",
      "    '''\n",
      "    The data in the MTA Subway Turnstile data reports on the cumulative\n",
      "    number of entries and exits per row.  Assume that you have a dataframe\n",
      "    called df that contains only the rows for a particular turnstile machine\n",
      "    (i.e., unique SCP, C/A, and UNIT).  This function should change\n",
      "    these cumulative entry numbers to a count of entries since the last reading\n",
      "    (i.e., entries since the last row in the dataframe).\n",
      "    \n",
      "    More specifically, you want to do two things:\n",
      "       1) Create a new column called ENTRIESn_hourly\n",
      "       2) Assign to the column the difference between ENTRIESn of the current row \n",
      "          and the previous row. If there is any NaN, fill/replace it with 1.\n",
      "    \n",
      "    You may find the pandas functions shift() and fillna() to be helpful in this exercise.\n",
      "    \n",
      "    Examples of what your dataframe should look like at the end of this exercise:\n",
      "    \n",
      "           C/A  UNIT       SCP     DATEn     TIMEn    DESCn  ENTRIESn    EXITSn  ENTRIESn_hourly\n",
      "    0     A002  R051  02-00-00  05-01-11  00:00:00  REGULAR   3144312   1088151                1\n",
      "    1     A002  R051  02-00-00  05-01-11  04:00:00  REGULAR   3144335   1088159               23\n",
      "    2     A002  R051  02-00-00  05-01-11  08:00:00  REGULAR   3144353   1088177               18\n",
      "    3     A002  R051  02-00-00  05-01-11  12:00:00  REGULAR   3144424   1088231               71\n",
      "    4     A002  R051  02-00-00  05-01-11  16:00:00  REGULAR   3144594   1088275              170\n",
      "    5     A002  R051  02-00-00  05-01-11  20:00:00  REGULAR   3144808   1088317              214\n",
      "    6     A002  R051  02-00-00  05-02-11  00:00:00  REGULAR   3144895   1088328               87\n",
      "    7     A002  R051  02-00-00  05-02-11  04:00:00  REGULAR   3144905   1088331               10\n",
      "    8     A002  R051  02-00-00  05-02-11  08:00:00  REGULAR   3144941   1088420               36\n",
      "    9     A002  R051  02-00-00  05-02-11  12:00:00  REGULAR   3145094   1088753              153\n",
      "    10    A002  R051  02-00-00  05-02-11  16:00:00  REGULAR   3145337   1088823              243\n",
      "    ...\n",
      "    ...\n",
      "    '''\n",
      "    df['temp'] = df.ENTRIESn.shift(1)\n",
      "    # df['ENTRIESn_hourly'] = 0\n",
      "    #\n",
      "    df['ENTRIESn_hourly'] = (df['ENTRIESn'] - df['temp'])\n",
      "    # df = df.drop('ENTRIESn',1)\n",
      "    del df['temp']\n",
      "    df['ENTRIESn_hourly'].fillna(1, inplace=True)\n",
      "    return df\n",
      "\n",
      "df = get_hourly_entries(df)\n",
      "print df.head()"
     ],
     "language": "python",
     "metadata": {},
     "outputs": [
      {
       "output_type": "stream",
       "stream": "stdout",
       "text": [
        "    C/A  UNIT       SCP     DATEn     TIMEn    DESCn  ENTRIESn   EXITSn  \\\n",
        "0  A002  R051  02-00-00  05-21-11  04:00:00  REGULAR   3169415  1097588   \n",
        "1  A002  R051  02-00-00  05-21-11  08:00:00  REGULAR   3169431  1097607   \n",
        "2  A002  R051  02-00-00  05-21-11  12:00:00  REGULAR   3169506  1097686   \n",
        "3  A002  R051  02-00-00  05-21-11  16:00:00  REGULAR   3169693  1097734   \n",
        "4  A002  R051  02-00-00  05-21-11  20:00:00  REGULAR   3169998  1097769   \n",
        "\n",
        "   ENTRIESn_hourly  \n",
        "0                1  \n",
        "1               16  \n",
        "2               75  \n",
        "3              187  \n",
        "4              305  \n"
       ]
      }
     ],
     "prompt_number": 31
    },
    {
     "cell_type": "markdown",
     "metadata": {},
     "source": [
      "## Question 2.9"
     ]
    },
    {
     "cell_type": "code",
     "collapsed": false,
     "input": [
      "def get_hourly_exits(df):\n",
      "    '''\n",
      "    The data in the MTA Subway Turnstile data reports on the cumulative\n",
      "    number of entries and exits per row.  Assume that you have a dataframe\n",
      "    called df that contains only the rows for a particular turnstile machine\n",
      "    (i.e., unique SCP, C/A, and UNIT).  This function should change\n",
      "    these cumulative exit numbers to a count of exits since the last reading\n",
      "    (i.e., exits since the last row in the dataframe).\n",
      "    \n",
      "    More specifically, you want to do two things:\n",
      "       1) Create a new column called EXITSn_hourly\n",
      "       2) Assign to the column the difference between EXITSn of the current row \n",
      "          and the previous row. If there is any NaN, fill/replace it with 0.\n",
      "    \n",
      "    You may find the pandas functions shift() and fillna() to be helpful in this exercise.\n",
      "    \n",
      "    Example dataframe below:\n",
      "          Unnamed: 0   C/A  UNIT       SCP     DATEn     TIMEn    DESCn  ENTRIESn    EXITSn  ENTRIESn_hourly  EXITSn_hourly\n",
      "    0              0  A002  R051  02-00-00  05-01-11  00:00:00  REGULAR   3144312   1088151                0              0\n",
      "    1              1  A002  R051  02-00-00  05-01-11  04:00:00  REGULAR   3144335   1088159               23              8\n",
      "    2              2  A002  R051  02-00-00  05-01-11  08:00:00  REGULAR   3144353   1088177               18             18\n",
      "    3              3  A002  R051  02-00-00  05-01-11  12:00:00  REGULAR   3144424   1088231               71             54\n",
      "    4              4  A002  R051  02-00-00  05-01-11  16:00:00  REGULAR   3144594   1088275              170             44\n",
      "    5              5  A002  R051  02-00-00  05-01-11  20:00:00  REGULAR   3144808   1088317              214             42\n",
      "    6              6  A002  R051  02-00-00  05-02-11  00:00:00  REGULAR   3144895   1088328               87             11\n",
      "    7              7  A002  R051  02-00-00  05-02-11  04:00:00  REGULAR   3144905   1088331               10              3\n",
      "    8              8  A002  R051  02-00-00  05-02-11  08:00:00  REGULAR   3144941   1088420               36             89\n",
      "    9              9  A002  R051  02-00-00  05-02-11  12:00:00  REGULAR   3145094   1088753              153            333\n",
      "    '''\n",
      "    \n",
      "    df['temp'] = df.EXITSn.shift(1)\n",
      "    df['EXITSn_hourly'] = (df['EXITSn'] - df['temp'])\n",
      "    del df['temp']\n",
      "    df['EXITSn_hourly'].fillna(0, inplace=True)\n",
      "    return df\n",
      "\n",
      "df = get_hourly_exits(df)\n",
      "print df.head()\n"
     ],
     "language": "python",
     "metadata": {},
     "outputs": [
      {
       "output_type": "stream",
       "stream": "stdout",
       "text": [
        "    C/A  UNIT       SCP     DATEn     TIMEn    DESCn  ENTRIESn   EXITSn  \\\n",
        "0  A002  R051  02-00-00  05-21-11  04:00:00  REGULAR   3169415  1097588   \n",
        "1  A002  R051  02-00-00  05-21-11  08:00:00  REGULAR   3169431  1097607   \n",
        "2  A002  R051  02-00-00  05-21-11  12:00:00  REGULAR   3169506  1097686   \n",
        "3  A002  R051  02-00-00  05-21-11  16:00:00  REGULAR   3169693  1097734   \n",
        "4  A002  R051  02-00-00  05-21-11  20:00:00  REGULAR   3169998  1097769   \n",
        "\n",
        "   ENTRIESn_hourly  EXITSn_hourly  \n",
        "0                1              0  \n",
        "1               16             19  \n",
        "2               75             79  \n",
        "3              187             48  \n",
        "4              305             35  \n"
       ]
      }
     ],
     "prompt_number": 32
    },
    {
     "cell_type": "markdown",
     "metadata": {},
     "source": [
      "## Question 2.10"
     ]
    },
    {
     "cell_type": "code",
     "collapsed": false,
     "input": [
      "time = df['TIMEn'][0]\n",
      "\n",
      "def time_to_hour(time):\n",
      "    '''\n",
      "    Given an input variable time that represents time in the format of:\n",
      "    00:00:00 (hour:minutes:seconds)\n",
      "    \n",
      "    Write a function to extract the hour part from the input variable time\n",
      "    and return it as an integer. For example:\n",
      "        1) if hour is 00, your code should return 0\n",
      "        2) if hour is 01, your code should return 1\n",
      "        3) if hour is 21, your code should return 21\n",
      "        \n",
      "    Please return hour as an integer.\n",
      "    '''\n",
      "    \n",
      "    hour = int(time[:2])\n",
      "    return hour\n",
      "    \n",
      "print \"Time:\", time_to_hour(time)"
     ],
     "language": "python",
     "metadata": {},
     "outputs": [
      {
       "output_type": "stream",
       "stream": "stdout",
       "text": [
        "Time: 4\n"
       ]
      }
     ],
     "prompt_number": 33
    },
    {
     "cell_type": "markdown",
     "metadata": {},
     "source": [
      "## Question 2.11"
     ]
    },
    {
     "cell_type": "code",
     "collapsed": false,
     "input": [
      "import datetime\n",
      "\n",
      "date = df['DATEn'][0]\n",
      "\n",
      "def reformat_subway_dates(date):\n",
      "    '''\n",
      "    The dates in our subway data are formatted in the format month-day-year.\n",
      "    The dates in our weather underground data are formatted year-month-day.\n",
      "    \n",
      "    In order to join these two data sets together, we'll want the dates formatted\n",
      "    the same way.  Write a function that takes as its input a date in the MTA Subway\n",
      "    data format, and returns a date in the weather underground format.\n",
      "    \n",
      "    Hint: \n",
      "    There is a useful function in the datetime library called strptime. \n",
      "    More info can be seen here:\n",
      "    http://docs.python.org/2/library/datetime.html#datetime.datetime.strptime\n",
      "    '''\n",
      "\n",
      "    date_formatted = datetime.datetime.strptime(date, \"%m-%d-%y\").strftime(\"%Y-%m-%d\")\n",
      "    return date_formatted\n",
      "\n",
      "print \"Old format: \", date\n",
      "print \"New format: \", reformat_subway_dates(date)"
     ],
     "language": "python",
     "metadata": {},
     "outputs": [
      {
       "output_type": "stream",
       "stream": "stdout",
       "text": [
        " Old format:  05-21-11\n",
        "New format:  2011-05-21\n"
       ]
      }
     ],
     "prompt_number": 35
    },
    {
     "cell_type": "markdown",
     "metadata": {},
     "source": [
      "## Question 3.1"
     ]
    },
    {
     "cell_type": "code",
     "collapsed": false,
     "input": [
      "%matplotlib inline\n",
      "\n",
      "import numpy as np\n",
      "import matplotlib.pyplot as plt\n",
      "\n",
      "\n",
      "filename=\"turnstile_data_master_with_weather.csv\"\n",
      "weather_data = pd.read_csv(filename)\n",
      "\n",
      "def entries_histogram(turnstile_weather):\n",
      "    '''\n",
      "    Before we perform any analysis, it might be useful to take a\n",
      "    look at the data we're hoping to analyze. More specifically, let's \n",
      "    examine the hourly entries in our NYC subway data and determine what\n",
      "    distribution the data follows. This data is stored in a dataframe\n",
      "    called turnstile_weather under the ['ENTRIESn_hourly'] column.\n",
      "    \n",
      "    Let's plot two histograms on the same axes to show hourly\n",
      "    entries when raining vs. when not raining. Here's an example on how\n",
      "    to plot histograms with pandas and matplotlib:\n",
      "    turnstile_weather['column_to_graph'].hist()\n",
      "    \n",
      "    Your histograph may look similar to bar graph in the instructor notes below.\n",
      "    \n",
      "    You can read a bit about using matplotlib and pandas to plot histograms here:\n",
      "    http://pandas.pydata.org/pandas-docs/stable/visualization.html#histograms\n",
      "    \n",
      "    You can see the information contained within the turnstile weather data here:\n",
      "    https://www.dropbox.com/s/meyki2wl9xfa7yk/turnstile_data_master_with_weather.csv\n",
      "    '''\n",
      "    \n",
      "    plt.figure()\n",
      "    \n",
      "    turnstile_weather[turnstile_weather['rain'] == 0]['ENTRIESn_hourly'].hist(bins=200, label=\"No rain\").set_xlim([0, 6000]) # your code here to plot a historgram for hourly entries when it is not raining\n",
      "    turnstile_weather[turnstile_weather['rain'] == 1]['ENTRIESn_hourly'].hist(bins=200, label=\"Rain\").set_xlim([0, 6000]) # your code here to plot a historgram for hourly entries when it is raining\n",
      "    plt.legend()\n",
      "    return plt\n",
      "\n",
      "print entries_histogram(weather_data)"
     ],
     "language": "python",
     "metadata": {},
     "outputs": [
      {
       "output_type": "stream",
       "stream": "stdout",
       "text": [
        "<module 'matplotlib.pyplot' from 'c:\\Users\\fch80_000\\Anaconda\\lib\\site-packages\\matplotlib\\pyplot.pyc'>\n"
       ]
      },
      {
       "metadata": {},
       "output_type": "display_data",
       "png": "[encoded data removed]",
       "text": [
        "<matplotlib.figure.Figure at 0x3ad9048>"
       ]
      }
     ],
     "prompt_number": 4
    },
    {
     "cell_type": "markdown",
     "metadata": {},
     "source": [
      "## Question 3.2\n",
      "\n",
      "If we had a small sample size, we could not use Welch's T test, \n",
      "but since we have a sufficiently large enough sample size;\n",
      "we can use it although the Mann-Whitney would help bolster our claims \n",
      "since it is a non-parametric test used for non-normal distribution comparisons."
     ]
    },
    {
     "cell_type": "code",
     "collapsed": false,
     "input": [
      "import scipy\n",
      "import scipy.stats\n",
      "\n",
      "def mann_whitney_plus_means(turnstile_weather):\n",
      "    '''\n",
      "    This function will consume the turnstile_weather dataframe containing\n",
      "    our final turnstile weather data. \n",
      "    \n",
      "    You will want to take the means and run the Mann Whitney U-test on the \n",
      "    ENTRIESn_hourly column in the turnstile_weather dataframe.\n",
      "    \n",
      "    This function should return:\n",
      "        1) the mean of entries with rain\n",
      "        2) the mean of entries without rain\n",
      "        3) the Mann-Whitney U-statistic and p-value comparing the number of entries\n",
      "           with rain and the number of entries without rain\n",
      "    \n",
      "    You should feel free to use scipy's Mann-Whitney implementation, and you \n",
      "    might also find it useful to use numpy's mean function.\n",
      "    \n",
      "    Here are the functions' documentation:\n",
      "    http://docs.scipy.org/doc/scipy/reference/generated/scipy.stats.mannwhitneyu.html\n",
      "    http://docs.scipy.org/doc/numpy/reference/generated/numpy.mean.html\n",
      "    \n",
      "    You can look at the final turnstile weather data at the link below:\n",
      "    https://www.dropbox.com/s/meyki2wl9xfa7yk/turnstile_data_master_with_weather.csv\n",
      "    '''\n",
      "    \n",
      "    with_rain = turnstile_weather[turnstile_weather['rain'] == 0]['ENTRIESn_hourly'].reset_index(drop=True)\n",
      "    without_rain = turnstile_weather[turnstile_weather['rain'] == 1]['ENTRIESn_hourly'].reset_index(drop=True)\n",
      "    U, p = scipy.stats.mannwhitneyu(without_rain, with_rain)\n",
      "     \n",
      "    return without_rain.mean(),with_rain.mean(), U, p # Grader output for means are reversed compared to instructions\n",
      "\n",
      "\n",
      "print mann_whitney_plus_means(weather_data)"
     ],
     "language": "python",
     "metadata": {},
     "outputs": [
      {
       "output_type": "stream",
       "stream": "stdout",
       "text": [
        "(1105.4463767458733, 1090.278780151855, 1924409167.0, 0.019309634413792565)\n"
       ]
      }
     ],
     "prompt_number": 38
    },
    {
     "cell_type": "markdown",
     "metadata": {},
     "source": [
      "## Question 3.4\n",
      "\n",
      "I ran the Mann-Whiteney U-test and got a difference with (p = 0.019) chance of the difference being due to chance; the result is statistically significant.\n",
      "We can reject the  null hypothesis that two populations are the same."
     ]
    },
    {
     "cell_type": "markdown",
     "metadata": {},
     "source": [
      "## Question 3.5"
     ]
    },
    {
     "cell_type": "code",
     "collapsed": false,
     "input": [
      "import pandas\n",
      "from ggplot import *\n",
      "\n",
      "\"\"\"\n",
      "In this question, you need to:\n",
      "1) implement the compute_cost() and gradient_descent() procedures\n",
      "2) Select features (in the predictions procedure) and make predictions.\n",
      "\"\"\"\n",
      "\n",
      "def normalize_features(array):\n",
      "   \"\"\"\n",
      "   Normalize the features in the data set.\n",
      "   \"\"\"\n",
      "   mu = array.mean()\n",
      "   sigma = array.std()\n",
      "   array_normalized = (array - mu)/ sigma\n",
      "\n",
      "\n",
      "   return array_normalized, mu, sigma\n",
      "\n",
      "def compute_cost(features, values, theta):\n",
      "    \"\"\"\n",
      "    Compute the cost function given a set of features / values, \n",
      "    and the values for our thetas.\n",
      "    \n",
      "    This can be the same code as the compute_cost function in the lesson #3 exercises,\n",
      "    but feel free to implement your own.\n",
      "    \"\"\"\n",
      "    m = len(values)\n",
      "    sum_of_square_errors = np.square(np.dot(features, theta) - values).sum()\n",
      "    cost = sum_of_square_errors / (2*m)\n",
      "\n",
      "    return cost\n",
      "\n",
      "def gradient_descent(features, values, theta, alpha, num_iterations):\n",
      "    \"\"\"\n",
      "    Perform gradient descent given a data set with an arbitrary number of features.\n",
      "    \n",
      "    This can be the same gradient descent code as in the lesson #3 exercises,\n",
      "    but feel free to implement your own.\n",
      "    \"\"\"\n",
      "    \n",
      "    m = len(values)\n",
      "    cost_history = []\n",
      "\n",
      "    for i in range(num_iterations):\n",
      "        cost_history.append(compute_cost(features, values, theta))\n",
      "        theta = theta + (alpha/m)* np.dot((values - np.dot(features, theta)), features)\n",
      "    \n",
      "    return theta, pandas.Series(cost_history)\n",
      "\n",
      "def predictions(dataframe):\n",
      "    '''\n",
      "    The NYC turnstile data is stored in a pandas dataframe called weather_turnstile.\n",
      "    Using the information stored in the dataframe, let's predict the ridership of\n",
      "    the NYC subway using linear regression with gradient descent.\n",
      "    \n",
      "    You can download the complete turnstile weather dataframe here:\n",
      "    https://www.dropbox.com/s/meyki2wl9xfa7yk/turnstile_data_master_with_weather.csv    \n",
      "    \n",
      "    Your prediction should have a R^2 value of 0.20 or better.\n",
      "    You need to experiment using various input features contained in the dataframe. \n",
      "    We recommend that you don't use the EXITSn_hourly feature as an input to the \n",
      "    linear model because we cannot use it as a predictor: we cannot use exits \n",
      "    counts as a way to predict entry counts. \n",
      "    \n",
      "    Note: Due to the memory and CPU limitation of our Amazon EC2 instance, we will\n",
      "    give you a random subet (~15%) of the data contained in \n",
      "    turnstile_data_master_with_weather.csv. You are encouraged to experiment with \n",
      "    this computer on your own computer, locally. \n",
      "    \n",
      "    \n",
      "    If you'd like to view a plot of your cost history, uncomment the call to \n",
      "    plot_cost_history below. The slowdown from plotting is significant, so if you \n",
      "    are timing out, the first thing to do is to comment out the plot command again.\n",
      "    \n",
      "    If you receive a \"server has encountered an error\" message, that means you are \n",
      "    hitting the 30-second limit that's placed on running your program. Try using a \n",
      "    smaller number for num_iterations if that's the case.\n",
      "    \n",
      "    If you are using your own algorithm/models, see if you can optimize your code so \n",
      "    that it runs faster.\n",
      "    '''\n",
      "    # Select Features (try different features!)\n",
      "    features = dataframe[['rain', 'precipi', 'Hour', 'meantempi']]\n",
      "    \n",
      "    # Add UNIT to features using dummy variables\n",
      "    dummy_units = pandas.get_dummies(dataframe['UNIT'], prefix='unit')\n",
      "    features = features.join(dummy_units)\n",
      "    \n",
      "    # Values\n",
      "    values = dataframe['ENTRIESn_hourly']\n",
      "    m = len(values)\n",
      "\n",
      "    features, mu, sigma = normalize_features(features)\n",
      "    features['ones'] = np.ones(m) # Add a column of 1s (y intercept)\n",
      "    \n",
      "    # Convert features and values to numpy arrays\n",
      "    features_array = np.array(features)\n",
      "    values_array = np.array(values)\n",
      "\n",
      "    # Set values for alpha, number of iterations.\n",
      "    alpha = 0.2 # please feel free to change this value\n",
      "    num_iterations = 15 # please feel free to change this value\n",
      "\n",
      "    # Initialize theta, perform gradient descent\n",
      "    theta_gradient_descent = np.zeros(len(features.columns))\n",
      "    theta_gradient_descent, cost_history = gradient_descent(features_array, \n",
      "                                                            values_array, \n",
      "                                                            theta_gradient_descent, \n",
      "                                                            alpha, \n",
      "                                                            num_iterations)\n",
      "    \n",
      "    plot = None\n",
      "    # -------------------------------------------------\n",
      "    # Uncomment the next line to see your cost history\n",
      "    # -------------------------------------------------\n",
      "    plot = plot_cost_history(alpha, cost_history)\n",
      "    # \n",
      "    # Please note, there is a possibility that plotting\n",
      "    # this in addition to your calculation will exceed \n",
      "    # the 30 second limit on the compute servers.\n",
      "    \n",
      "    predictions = np.dot(features_array, theta_gradient_descent)\n",
      "    return predictions, plot\n",
      "\n",
      "\n",
      "def plot_cost_history(alpha, cost_history):\n",
      "   \"\"\"This function is for viewing the plot of your cost history.\n",
      "   You can run it by uncommenting this\n",
      "       plot_cost_history(alpha, cost_history) \n",
      "   call in predictions.\n",
      "   \n",
      "   If you want to run this locally, you should print the return value\n",
      "   from this function.\n",
      "   \"\"\"\n",
      "   cost_df = pandas.DataFrame({\n",
      "      'Cost_History': cost_history,\n",
      "      'Iteration': range(len(cost_history))\n",
      "   })\n",
      "   return ggplot(cost_df, aes('Iteration', 'Cost_History')) + \\\n",
      "      geom_point() + ggtitle('Cost History for alpha = %.3f' % alpha )\n",
      "\n",
      "\n",
      "filename=\"turnstile_data_master_with_weather.csv\"\n",
      "weather_data = pd.read_csv(filename)\n",
      "\n",
      "preds, plot1 = predictions(weather_data)\n",
      "print preds\n",
      "print plot1"
     ],
     "language": "python",
     "metadata": {},
     "outputs": [
      {
       "output_type": "stream",
       "stream": "stdout",
       "text": [
        " [ 3276.37267659  3531.98838746  3787.60409834 ...,   822.01639556\n",
        "   822.01639556   822.01639556]\n"
       ]
      },
      {
       "metadata": {},
       "output_type": "display_data",
       "png": "[encoded data removed]",
       "text": [
        "<matplotlib.figure.Figure at 0x3ad9080>"
       ]
      },
      {
       "output_type": "stream",
       "stream": "stdout",
       "text": [
        "<ggplot: (24056748)>\n"
       ]
      }
     ],
     "prompt_number": 6
    },
    {
     "cell_type": "markdown",
     "metadata": {},
     "source": [
      "## Question 3.6"
     ]
    },
    {
     "cell_type": "code",
     "collapsed": false,
     "input": [
      "def plot_residuals(turnstile_weather, predictions):\n",
      "    '''\n",
      "    Using the same methods that we used to plot a histogram of entries\n",
      "    per hour for our data, why don't you make a histogram of the residuals\n",
      "    (that is, the difference between the original hourly entry data and the predicted values).\n",
      "    Based on this residual histogram, do you have any insight into how our model\n",
      "    performed?  Reading a bit on this webpage might be useful:\n",
      "    http://www.itl.nist.gov/div898/handbook/pri/section2/pri24.htm\n",
      "    '''\n",
      "    \n",
      "    plt.figure()\n",
      "    (turnstile_weather['ENTRIESn_hourly'] - predictions).hist(bins = 100)\n",
      "    return plt\n",
      "    \n",
      "print plot_residuals(weather_data, preds)"
     ],
     "language": "python",
     "metadata": {},
     "outputs": [
      {
       "output_type": "stream",
       "stream": "stdout",
       "text": [
        "<module 'matplotlib.pyplot' from 'c:\\Users\\fch80_000\\Anaconda\\lib\\site-packages\\matplotlib\\pyplot.pyc'>\n"
       ]
      },
      {
       "metadata": {},
       "output_type": "display_data",
       "png": "[encoded data removed]",
       "text": [
        "<matplotlib.figure.Figure at 0x155f48d0>"
       ]
      }
     ],
     "prompt_number": 7
    },
    {
     "cell_type": "markdown",
     "metadata": {},
     "source": [
      "## Question 3.7"
     ]
    },
    {
     "cell_type": "code",
     "collapsed": false,
     "input": [
      "import sys\n",
      "\n",
      "def compute_r_squared(data, predictions):\n",
      "    '''\n",
      "    In exercise 5, we calculated the R^2 value for you. But why don't you try and\n",
      "    and calculate the R^2 value yourself.\n",
      "    \n",
      "    Given a list of original data points, and also a list of predicted data points,\n",
      "    write a function that will compute and return the coefficient of determination (R^2)\n",
      "    for this data.  numpy.mean() and numpy.sum() might both be useful here, but\n",
      "    not necessary.\n",
      "    Documentation about numpy.mean() and numpy.sum() below:\n",
      "    http://docs.scipy.org/doc/numpy/reference/generated/numpy.mean.html\n",
      "    http://docs.scipy.org/doc/numpy/reference/generated/numpy.sum.html\n",
      "    '''\n",
      "    \n",
      "    r_squared = 1 - np.sum(np.square(data - predictions)) / np.sum(np.square(data - np.mean(data)))\n",
      "    #r_squared = 1 - np.square(data - predictions).sum() / np.square(data - np.mean(data)).sum()\n",
      "    \n",
      "    return r_squared\n",
      "\n",
      "print \"R^2: \", compute_r_squared(weather_data['ENTRIESn_hourly'], preds)\n",
      "\n",
      "R_ = sym.symbols(\"R\")\n"
     ],
     "language": "python",
     "metadata": {},
     "outputs": [
      {
       "output_type": "stream",
       "stream": "stdout",
       "text": [
        "R^2:  0.457135808138\n"
       ]
      }
     ],
     "prompt_number": 11
    },
    {
     "cell_type": "code",
     "collapsed": false,
     "input": [
      "R_**2, compute_r_squared(weather_data['ENTRIESn_hourly'], preds)"
     ],
     "language": "python",
     "metadata": {},
     "outputs": [
      {
       "latex": [
        "$$\\begin{pmatrix}R^{2}, & 0.457135808138\\end{pmatrix}$$"
       ],
       "metadata": {},
       "output_type": "pyout",
       "png": "[encoded data removed]",
       "prompt_number": 14,
       "text": [
        "\u239b 2                \u239e\n",
        "\u239dR , 0.457135808138\u23a0"
       ]
      }
     ],
     "prompt_number": 14
    },
    {
     "cell_type": "markdown",
     "metadata": {},
     "source": [
      "## Question 3.8"
     ]
    },
    {
     "cell_type": "code",
     "collapsed": false,
     "input": [
      "import statsmodels.formula.api as smf\n",
      "\n",
      "\"\"\"\n",
      "In this optional exercise, you should complete the function called \n",
      "predictions(turnstile_weather). This function takes in our pandas \n",
      "turnstile weather dataframe, and returns a set of predicted ridership values,\n",
      "based on the other information in the dataframe.  \n",
      "In exercise 3.5 we used Gradient Descent in order to compute the coefficients\n",
      "theta used for the ridership prediction. Here you should attempt to implement \n",
      "another way of computing the coeffcients theta. You may also try using a reference implementation such as: \n",
      "http://statsmodels.sourceforge.net/devel/generated/statsmodels.regression.linear_model.OLS.html\n",
      "One of the advantages of the statsmodels implementation is that it gives you\n",
      "easy access to the values of the coefficients theta. This can help you infer relationships \n",
      "between variables in the dataset.\n",
      "You may also experiment with polynomial terms as part of the input variables.  \n",
      "The following links might be useful: \n",
      "http://en.wikipedia.org/wiki/Ordinary_least_squares\n",
      "http://en.wikipedia.org/w/index.php?title=Linear_least_squares_(mathematics)\n",
      "http://en.wikipedia.org/wiki/Polynomial_regression\n",
      "This is your playground. Go wild!\n",
      "How does your choice of linear regression compare to linear regression\n",
      "with gradient descent computed in Exercise 3.5?\n",
      "You can look at the information contained in the turnstile_weather dataframe below:\n",
      "https://www.dropbox.com/s/meyki2wl9xfa7yk/turnstile_data_master_with_weather.csv\n",
      "Note: due to the memory and CPU limitation of our amazon EC2 instance, we will\n",
      "give you a random subset (~10%) of the data contained in turnstile_data_master_with_weather.csv\n",
      "If you receive a \"server has encountered an error\" message, that means you are hitting \n",
      "the 30 second limit that's placed on running your program. See if you can optimize your code so it\n",
      "runs faster.\n",
      "\"\"\"\n",
      "\n",
      "def predictions(weather_turnstile):\n",
      " \n",
      "    #print weather_turnstile\n",
      "    #unit_groups = weather_turnstile.groupby(['UNIT'])\n",
      "    #weather_turnstile['popularity'] = unit_groups[['ENTRIESn_hourly']].transform(sum).sort('ENTRIESn_hourly', ascending=False)\n",
      "    ## Not used in exercise problem. Hour here is 0-23 and much less predictive than hour in the version 2 of the dataset.\n",
      "    model = smf.ols(formula=\"ENTRIESn_hourly ~ UNIT + C(Hour)\", data=weather_turnstile)\n",
      "\n",
      "    results = model.fit()\n",
      "    predictions = results.predict()\n",
      "    #print predictions\n",
      "    #print results.summary()\n",
      "    return predictions \n",
      "    \n",
      "pred2 = predictions(weather_data)\n",
      "\n",
      "print \"R^2: \", compute_r_squared(weather_data['ENTRIESn_hourly'], pred2)\n",
      "R_**2, compute_r_squared(weather_data['ENTRIESn_hourly'], pred2)"
     ],
     "language": "python",
     "metadata": {},
     "outputs": [
      {
       "output_type": "stream",
       "stream": "stdout",
       "text": [
        "R^2:  0.500879030117\n"
       ]
      },
      {
       "latex": [
        "$$\\begin{pmatrix}R^{2}, & 0.500879030117\\end{pmatrix}$$"
       ],
       "metadata": {},
       "output_type": "pyout",
       "png": "[encoded data removed]",
       "prompt_number": 15,
       "text": [
        "\u239b 2                \u239e\n",
        "\u239dR , 0.500879030117\u23a0"
       ]
      }
     ],
     "prompt_number": 15
    },
    {
     "cell_type": "markdown",
     "metadata": {},
     "source": [
      "## Question 4.1/4.2"
     ]
    },
    {
     "cell_type": "code",
     "collapsed": false,
     "input": [
      "from pandas import *\n",
      "\n",
      "    ## \"The server encountered an error. Please try running again.\" encountered a lot.\n",
      "    ## ggplot for python is missing many features. Only basic plots shown for inbrowser exercises.\n",
      "\n",
      "def plot_weather_data(turnstile_weather):\n",
      "    '''\n",
      "    plot_weather_data is passed a dataframe called turnstile_weather. \n",
      "    Use turnstile_weather along with ggplot to make a data visualization\n",
      "    focused on the MTA and weather data we used in Project 3.\n",
      "    \n",
      "    You should feel free to implement something that we discussed in class \n",
      "    (e.g., scatterplots, line plots, or histograms) or attempt to implement\n",
      "    something more advanced if you'd like.\n",
      "    Here are some suggestions for things to investigate and illustrate:\n",
      "     * Ridership by time-of-day or day-of-week\n",
      "     * How ridership varies by subway station\n",
      "     * Which stations have more exits or entries at different times of day\n",
      "    If you'd like to learn more about ggplot and its capabilities, take\n",
      "    a look at the documentation at:\n",
      "    https://pypi.python.org/pypi/ggplot/\n",
      "     \n",
      "    You can check out the link \n",
      "    https://www.dropbox.com/s/meyki2wl9xfa7yk/turnstile_data_master_with_weather.csv\n",
      "    to see all the columns and data points included in the turnstile_weather \n",
      "    dataframe.\n",
      "     \n",
      "    However, due to the limitation of our Amazon EC2 server, we will give you only \n",
      "    about 1/3 of the actual data in the turnstile_weather dataframe.\n",
      "    '''\n",
      "    \n",
      "    ## Q4.1    \n",
      "    plot = ggplot(turnstile_weather, aes('ENTRIESn_hourly', fill='rain')) + geom_bar(binwidth=100) + xlim(low=0, high=5000) + \\\n",
      "    xlab(\"Hourly Entries - Bins of Size 100\") + \\\n",
      "    ylab(\"Hourly Entries - Count in each bin\") + \\\n",
      "    ggtitle(\"Hourly Entries Histogram - Rain vs. No Rain (Stacked)\")\n",
      "    ## Q. 4.2\n",
      "    plot2 = ggplot(weather_data, aes('Hour', 'ENTRIESn_hourly', fill='rain')) + geom_bar() + \\\n",
      "        xlab(\"Hour of the day\") + ggtitle(\"Distribution of ridership throughout the day - Rain (Blue) / No Rain (Red)\") + ylab(\"Entries\")    \n",
      "    \n",
      "    return plot, plot2\n",
      "    \n",
      "print plot_weather_data(weather_data)"
     ],
     "language": "python",
     "metadata": {},
     "outputs": []
    },
    {
     "cell_type": "code",
     "collapsed": false,
     "input": [
      "from IPython import utils\n",
      "from IPython.core.display import HTML\n",
      "import os\n",
      "def css_styling():\n",
      "    \"\"\"Load default custom.css file from ipython profile\"\"\"\n",
      "    base = utils.path.get_ipython_dir()\n",
      "    styles = \"<style>\\n%s\\n</style>\" % (open(os.path.join(base,'profile_custom1/static/custom/custom.css'),'r').read())\n",
      "    return HTML(styles)\n",
      "css_styling()"
     ],
     "language": "python",
     "metadata": {},
     "outputs": []
    }
   ],
   "metadata": {}
  }
 ]
}