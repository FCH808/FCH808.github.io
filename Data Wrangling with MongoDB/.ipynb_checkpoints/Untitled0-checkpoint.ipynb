{
 "metadata": {
  "name": "",
  "signature": "sha256:27ef10d3ba58be58346c73df7edfd67606199ac8dbb3b2607c6d5a3ea00f41bc"
 },
 "nbformat": 3,
 "nbformat_minor": 0,
 "worksheets": []
}