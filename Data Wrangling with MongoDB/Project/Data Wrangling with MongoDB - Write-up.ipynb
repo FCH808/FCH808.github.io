{
 "cells": [
  {
   "cell_type": "markdown",
   "metadata": {},
   "source": [
    "# **OpenStreetMap Project - Data Wrangling with MongoDB**\n",
    "## Fernando Hernandez<a name=\"top\"></a>\n",
    "<hr>"
   ]
  },
  {
   "cell_type": "markdown",
   "metadata": {},
   "source": [
    "Data used -<a href=https://mapzen.com/metro-extracts/> MapZen Weekly OpenStreetMaps Metro Extracts</a>\n",
    "\n",
    "Data Cleaning Source Code: <a href=http://fch808.github.io/Data%20Wrangling%20with%20MongoDB%20-%20Code.html>ipython notebook</a>, <a href=https://github.com/FCH808/FCH808.github.io/tree/master/Data%20Wrangling%20with%20MongoDB>github</a>\n",
    "\n",
    "My Nanodegree Portal: <a href=http://fch808.github.io/>fch808.github.io</a><br>\n",
    "All Data Wrangling Exercises: <a href=http://fch808.github.io/Data%20Wrangling%20with%20MongoDB%20-%20Exercises.html> ipython notebook</a>\n",
    "\n",
    "Map Areas:\n",
    "- <a href=https://s3.amazonaws.com/metro-extracts.mapzen.com/honolulu_hawaii.osm.bz2>Honolulu, HI, U.S.A. </a> \n",
    "- <a href=https://s3.amazonaws.com/metro-extracts.mapzen.com/albuquerque_new-mexico.osm.bz2> Albuquerque, NM, U.S.A. </a>\n",
    "          \n",
    "\n",
    "        "
   ]
  },
  {
   "cell_type": "markdown",
   "metadata": {},
   "source": [
    "<hr>"
   ]
  },
  {
   "cell_type": "markdown",
   "metadata": {},
   "source": [
    "Table of Contents\n",
    "----\n",
    "1. [Problems encountered](#problems)\n",
    "  - [Address abbreviations](#abbr)\n",
    "  - [Zip codes](#zipcodes)\n",
    "  - [Combining multiple cities](#combine_cities)\n",
    "2. [Data Overview](#data_overview)\n",
    "3. [Additional Data Exploration using MongoDB](#exploration)\n",
    "4.  [Conclusion](#conclusion)"
   ]
  },
  {
   "cell_type": "markdown",
   "metadata": {},
   "source": [
    "<hr>"
   ]
  },
  {
   "cell_type": "markdown",
   "metadata": {},
   "source": [
    "<h2><a name=\"problems\"></a> **1. Problems Encountered**</h2>\n",
    "\n",
    "After loading the smallest city, Honolulu, three main problems with the data showed up:"
   ]
  },
  {
   "cell_type": "markdown",
   "metadata": {},
   "source": [
    "- Street names with different types of abbreviations. (i.e. 'Clark Ave SE' or 'Eubank Northeast Ste E-18') \n",
    "- Inconsistent postal codes ('HI96826', '96826-0007', '89197')\n",
    "- Multiple cities needed to be accessed from one database"
   ]
  },
  {
   "cell_type": "markdown",
   "metadata": {},
   "source": [
    "<hr>"
   ]
  },
  {
   "cell_type": "markdown",
   "metadata": {},
   "source": [
    "### **Address abbreviations**<a name=\"abbr\"></a>\n",
    "\n",
    "The initial cleaning script had a check for before and after address cleaning. This showed some new abbreviations which needed to be accounted for, such as directions (S,E,SE,etc) and location specific (Ste,Lp,etc.)"
   ]
  },
  {
   "cell_type": "code",
   "execution_count": null,
   "metadata": {
    "collapsed": false
   },
   "outputs": [],
   "source": [
    "for st_type, ways in abq_st_types.iteritems():\n",
    "    for name in ways:\n",
    "        better_name = update_name(name, mapping)\n",
    "        if name != better_name:\n",
    "            print name, \"=>\", better_name"
   ]
  },
  {
   "cell_type": "code",
   "execution_count": null,
   "metadata": {
    "collapsed": false
   },
   "outputs": [],
   "source": [
    "Honolulu:\n",
    "Kalakaua Ave => Kalakaua Avenue\n",
    "Lusitania St. => Lusitania Street\n",
    "...\n",
    "\n",
    "Albuquerque:\n",
    "Valley View Dr NW => Valley View Drive Northwest\n",
    "Eubank Northeast Ste E-18 => Eubank Northeast Suite E-18\n",
    "..."
   ]
  },
  {
   "cell_type": "markdown",
   "metadata": {},
   "source": [
    "<hr>\n",
    "### **Zip codes**<a name=\"zipcodes\"></a>"
   ]
  },
  {
   "cell_type": "markdown",
   "metadata": {},
   "source": [
    "Initially, some cleanup was needed for the zip codes. \n",
    "This included\n",
    "1. Removing the 4 digit postcode suffix.\n",
    "2. Removing state letters from postcode \n",
    "3. Converting to int (not strictly required)\n",
    "\n",
    "After adding a zip code cleaning function, all zip codes adhered to a 5 digit code, but a few (such as 89197 and 87100) with only 1 entry may have been entered incorrectly since they may belong to other countries.\n",
    "<a name=\"pipeline_function\"></a>"
   ]
  },
  {
   "cell_type": "code",
   "execution_count": null,
   "metadata": {
    "collapsed": false
   },
   "outputs": [],
   "source": [
    "def map_aggregate(db, collection, pipeline):\n",
    "    db_collection = db[collection]\n",
    "    result = db_collection.aggregate(pipeline)\n",
    "    return result\n",
    "\n",
    "# This function will be reused in further MongoDB explorations.\n",
    "# Only the pipeline will need to be updated.\n",
    "def make_city_pipeline(city):\n",
    "    pipeline = [{\"$match\":{\"address.postcode\":{\"$exists\":1},\n",
    "                                          \"city_name\":city}},   \n",
    "                 {\"$group\": {\"_id\": {\"City\":\"$city_name\",\n",
    "                                     \"Zip\":\"$address.postcode\"},\n",
    "                            \"count\": {\"$sum\": 1}}},\n",
    "                 {\"$project\": {'_id':0,\n",
    "                               \"City\":\"$_id.City\",\n",
    "                               \"Zipcode\":\"$_id.Zip\",\n",
    "                               \"Count\":\"$count\"}},\n",
    "                 {\"$sort\": {\"Count\": -1}},\n",
    "                 {\"$limit\" : 10 }]\n",
    "    return pipeline\n",
    "\n",
    "pipeline = make_city_pipeline('honolulu')\n",
    "result1 = map_aggregate(db, 'cities', pipeline)\n",
    "pipeline = make_city_pipeline('albuquerque')\n",
    "result2 = map_aggregate(db, 'cities', pipeline)"
   ]
  },
  {
   "cell_type": "code",
   "execution_count": null,
   "metadata": {
    "collapsed": false
   },
   "outputs": [],
   "source": [
    " u'result': [{u'City': u'honolulu', u'Count': 219, u'Zipcode': 96815\n",
    "              ...} \n",
    " u'result': [{u'City': u'albuquerque', u'Count': 476, u'Zipcode': 87123\n",
    "              ...}]}"
   ]
  },
  {
   "cell_type": "markdown",
   "metadata": {},
   "source": [
    "<hr>"
   ]
  },
  {
   "cell_type": "markdown",
   "metadata": {},
   "source": [
    "### **Combining multiple cities**<a name=\"combine_cities\"></a>"
   ]
  },
  {
   "cell_type": "markdown",
   "metadata": {},
   "source": [
    "Two cities were chosen for this project. One city, Albuquerque, was my birth city, and the other, Honolulu, is where I had lived for the last 7 years. It would be interesting to compare the different distributions present in each city. This also posed a small problem of modifying the initial MongoDB loading script to accommodate multiple cities.\n",
    "\n",
    "The solution was to add a 'city_name' tag name to be passed in with the json data when loading. We could then easily add this key-value pair to each record. We can also make use of projections to clean up what's returned since we are having to match cities first, then group by multiple conditions."
   ]
  },
  {
   "cell_type": "markdown",
   "metadata": {},
   "source": [
    "[<div align=\"center\">Back to top</div>](#top)"
   ]
  },
  {
   "cell_type": "markdown",
   "metadata": {},
   "source": [
    "<hr>"
   ]
  },
  {
   "cell_type": "markdown",
   "metadata": {},
   "source": [
    "## **2. Data Overview**<a name=\"data_overview\"></a>"
   ]
  },
  {
   "cell_type": "markdown",
   "metadata": {},
   "source": [
    "First, we can see some statistics for our dataset through MongoDB pymongo queries."
   ]
  },
  {
   "cell_type": "markdown",
   "metadata": {},
   "source": [
    "### **File Sizes**"
   ]
  },
  {
   "cell_type": "code",
   "execution_count": null,
   "metadata": {
    "collapsed": false
   },
   "outputs": [],
   "source": [
    "albuquerque_new-mexico.osm - 53.8 MB\n",
    "albuquerque_new-mexico.osm.json - 65.7 MBm\n",
    "honolulu_hawaii.osm - 43.8 MB\n",
    "honolulu_hawaii.osm.json - 54.4 MB"
   ]
  },
  {
   "cell_type": "markdown",
   "metadata": {},
   "source": [
    "#### **Number of documents**"
   ]
  },
  {
   "cell_type": "code",
   "execution_count": 6,
   "metadata": {
    "collapsed": false
   },
   "outputs": [],
   "source": [
    "print \"Both Cities:\", db.cities.find().count() \n",
    "print \"Honolulu:\", db.cities.find({'city_name':'honolulu'}).count()\n",
    "print \"Albuquerque:\", db.cities.find({'city_name':'albuquerque'}).count()"
   ]
  },
  {
   "cell_type": "code",
   "execution_count": 1,
   "metadata": {
    "collapsed": false
   },
   "outputs": [],
   "source": [
    "Both Cities: 489274\n",
    "Honolulu: 227752\n",
    "Albuquerque: 261522"
   ]
  },
  {
   "cell_type": "markdown",
   "metadata": {},
   "source": [
    "#### **Number of node nodes.**"
   ]
  },
  {
   "cell_type": "code",
   "execution_count": null,
   "metadata": {
    "collapsed": false
   },
   "outputs": [],
   "source": [
    "print \"Both Cities:\", db.cities.find({'type':'node'}).count()\n",
    "print \"Honolulu:\", db.cities.find({'type':'node', 'city_name':'honolulu'}).count()\n",
    "print \"Albuquerque:\", db.cities.find({'type':'node','city_name':'albuquerque'}).count()"
   ]
  },
  {
   "cell_type": "code",
   "execution_count": 1,
   "metadata": {
    "collapsed": false
   },
   "outputs": [],
   "source": [
    "Both Cities: 432587\n",
    "Honolulu: 206262\n",
    "Albuquerque: 226325"
   ]
  },
  {
   "cell_type": "markdown",
   "metadata": {},
   "source": [
    "#### **Number of way nodes.**"
   ]
  },
  {
   "cell_type": "code",
   "execution_count": 1,
   "metadata": {
    "collapsed": false
   },
   "outputs": [],
   "source": [
    "print \"Both Cities:\", db.cities.find({'type':'way'}).count()\n",
    "print \"Honolulu:\", db.cities.find({'type':'way', 'city_name':'honolulu'}).count()\n",
    "print \"Albuquerque:\", db.cities.find({'type':'way', 'city_name':'albuquerque'}).count()"
   ]
  },
  {
   "cell_type": "code",
   "execution_count": 1,
   "metadata": {
    "collapsed": false
   },
   "outputs": [],
   "source": [
    "Both Cities: 56648\n",
    "Honolulu: 21459\n",
    "Albuquerque: 35189"
   ]
  },
  {
   "cell_type": "markdown",
   "metadata": {},
   "source": [
    "#### **Total Number of contributors.**"
   ]
  },
  {
   "cell_type": "code",
   "execution_count": 1,
   "metadata": {
    "collapsed": false
   },
   "outputs": [],
   "source": [
    "print \"Contributors:\", len(db.cities.distinct(\"created.user\"))"
   ]
  },
  {
   "cell_type": "code",
   "execution_count": 1,
   "metadata": {
    "collapsed": false
   },
   "outputs": [],
   "source": [
    "Contributors: 611"
   ]
  },
  {
   "cell_type": "markdown",
   "metadata": {},
   "source": [
    "<hr>"
   ]
  },
  {
   "cell_type": "markdown",
   "metadata": {},
   "source": [
    "[<div align=\"center\">Back to top</div>](#top)"
   ]
  },
  {
   "cell_type": "markdown",
   "metadata": {},
   "source": [
    "## **3. Additional Data Exploration using MongoDB**<a name=\"exploration\"></a>\n",
    "Since we are reusing the [make_city_pipeline() function defined earlier](#pipeline_function) when examining zip codes, we can just show the pipeline that is passed in for our new MongoDB pymongo queries. Everything else would remain the same."
   ]
  },
  {
   "cell_type": "markdown",
   "metadata": {},
   "source": [
    "<hr>"
   ]
  },
  {
   "cell_type": "markdown",
   "metadata": {},
   "source": [
    "**Parking is by far the most reported amenity in either city.** It seem that it is most important to find places to park our automobiles, even on small islands."
   ]
  },
  {
   "cell_type": "code",
   "execution_count": null,
   "metadata": {
    "collapsed": false
   },
   "outputs": [],
   "source": [
    "pipeline = [{\"$match\":{\"amenity\":{\"$exists\":1}, \"city_name\":city}},\n",
    "            {\"$group\": {\"_id\": {\"City\":\"$city_name\", \"Amenity\":\"$amenity\"},\n",
    "                        \"count\": {\"$sum\": 1}}},\n",
    "            {\"$project\": {'_id':0,\"City\":\"$_id.City\",\n",
    "                          \"Amenity\":\"$_id.Amenity\", \"Count\":\"$count\"}},\n",
    "            {\"$sort\": {\"Count\": -1}},\n",
    "            {\"$limit\" : 5 }]"
   ]
  },
  {
   "cell_type": "code",
   "execution_count": null,
   "metadata": {
    "collapsed": false
   },
   "outputs": [],
   "source": [
    "u'result': [{u'Amenity': u'parking', u'City': u'honolulu', u'Count': 280},\n",
    "            {u'Amenity': u'restaurant', u'City': u'honolulu', u'Count': 123},..}\n",
    "u'result': [{u'Amenity': u'parking', u'City': u'albuquerque',u'Count': 1270},\n",
    "             {u'Amenity': u'school', u'City': u'albuquerque', u'Count': 258},..}"
   ]
  },
  {
   "cell_type": "markdown",
   "metadata": {},
   "source": [
    "<hr>"
   ]
  },
  {
   "cell_type": "markdown",
   "metadata": {},
   "source": [
    "**The top contributor for each city made up the lion's share of the edits.** Interestingly, woodpeck_fixbot showed up in both cites taking the #3 spot in Honolulu and #5 spot in Albuquerque."
   ]
  },
  {
   "cell_type": "code",
   "execution_count": null,
   "metadata": {
    "collapsed": false
   },
   "outputs": [],
   "source": [
    "pipeline = [{\"$match\":{\"created.user\":{\"$exists\":1},\n",
    "                       \"city_name\":city}},\n",
    "            {\"$group\": {\"_id\": {\"City\":\"$city_name\", \"User\":\"$created.user\"},\n",
    "                        \"count\": {\"$sum\": 1}}}, \n",
    "            {\"$project\": {'_id':0, \"City\":\"$_id.City\",\n",
    "                          \"User\":\"$_id.User\", \"Count\":\"$count\"}},\n",
    "            {\"$sort\": {\"Count\": -1}},\n",
    "            {\"$limit\" : 5 }]"
   ]
  },
  {
   "cell_type": "code",
   "execution_count": null,
   "metadata": {
    "collapsed": false
   },
   "outputs": [],
   "source": [
    " u'result': [{u'City': u'honolulu', u'Count': 98401, u'User': u'Tom_Holland'},\n",
    "             {u'City': u'honolulu', u'Count': 13051, u'User': u'ikiya'},...}\n",
    " u'result': [{u'City': u'albuquerque', u'Count': 88041, u'User': u'EdHillsman'},\n",
    "             {u'City': u'albuquerque', u'Count': 37604, u'User': u'anjbe'},...}"
   ]
  },
  {
   "cell_type": "markdown",
   "metadata": {},
   "source": [
    "<hr>"
   ]
  },
  {
   "cell_type": "markdown",
   "metadata": {},
   "source": [
    "**Religion is bigger and more one-sided in the Southwest.** \n",
    "Albuquerque is very Christian with plentiful churches. Honolulu doesn't report many churches and includes Buddhism as a major relative percentage of those entered."
   ]
  },
  {
   "cell_type": "code",
   "execution_count": null,
   "metadata": {
    "collapsed": false
   },
   "outputs": [],
   "source": [
    "pipeline = [{\"$match\":{\"amenity\":{\"$exists\":1},\n",
    "                       \"amenity\":\"place_of_worship\", \"city_name\":city}},\n",
    "            {\"$group\":{\"_id\": {\"City\":\"$city_name\", \"Religion\":\"$religion\"},\n",
    "                       \"count\":{\"$sum\":1}}},\n",
    "            {\"$project\":{\"_id\":0, \"City\":\"$_id.City\",\n",
    "                         \"Religion\":\"$_id.Religion\", \"Count\":\"$count\"}},\n",
    "            {\"$sort\":{\"Count\":-1}},\n",
    "            {\"$limit\":6}]"
   ]
  },
  {
   "cell_type": "code",
   "execution_count": null,
   "metadata": {
    "collapsed": false
   },
   "outputs": [],
   "source": [
    " u'result': [{u'City': u'honolulu', u'Count': 14, u'Religion': u'christian'},\n",
    "             {u'City': u'honolulu', u'Count': 5, u'Religion': u'buddhist'},..}\n",
    " u'result': [{u'City': u'albuquerque', u'Count': 186,u'Religion': u'christian'},\n",
    "             {u'City': u'albuquerque', u'Count': 36, u'Religion': 'NoNameGiven'},..}"
   ]
  },
  {
   "cell_type": "markdown",
   "metadata": {},
   "source": [
    "<hr>"
   ]
  },
  {
   "cell_type": "markdown",
   "metadata": {},
   "source": [
    " **For restaurants, pizza is most popular in the isles; regional mexican in the SW.**"
   ]
  },
  {
   "cell_type": "code",
   "execution_count": null,
   "metadata": {
    "collapsed": false
   },
   "outputs": [],
   "source": [
    "pipeline = [{\"$match\":{\"amenity\":{\"$exists\":1},\n",
    "                       \"amenity\":\"restaurant\", \"city_name\":city}},\n",
    "            {\"$group\":{\"_id\":{\"City\":\"$city_name\",\"Food\":\"$cuisine\"},\n",
    "                       \"count\":{\"$sum\":1}}},\n",
    "            {\"$project\":{\"_id\":0, \"City\":\"$_id.City\",\n",
    "                         \"Food\":\"$_id.Food\", \"Count\":\"$count\"}},\n",
    "            {\"$sort\":{\"Count\":-1}}, \n",
    "            {\"$limit\":6}]"
   ]
  },
  {
   "cell_type": "code",
   "execution_count": null,
   "metadata": {
    "collapsed": false
   },
   "outputs": [],
   "source": [
    " u'result': [{u'City': u'honolulu', u'Count': 7, u'Food': u'pizza'},\n",
    "             {u'City': u'honolulu', u'Count': 3, u'Food': u'regional'},\n",
    "             {u'City': u'honolulu', u'Count': 3, u'Food': u'japanese'}...}\n",
    " u'result': [{u'City': u'albuquerque', u'Count': 16, u'Food': u'mexican'},\n",
    "             {u'City': u'albuquerque', u'Count': 10, u'Food': u'pizza'},\n",
    "             {u'City': u'albuquerque', u'Count': 6, u'Food': u'american'}...}"
   ]
  },
  {
   "cell_type": "markdown",
   "metadata": {},
   "source": [
    "<hr>"
   ]
  },
  {
   "cell_type": "markdown",
   "metadata": {},
   "source": [
    "**Far-away cities have similar types of fast food entrenchment, until the third choice.** Next, let's see who these chains are.."
   ]
  },
  {
   "cell_type": "code",
   "execution_count": null,
   "metadata": {
    "collapsed": false
   },
   "outputs": [],
   "source": [
    "pipeline = [{\"$match\":{\"amenity\":{\"$exists\":1},\n",
    "                       \"amenity\":\"fast_food\", \"city_name\":city}},\n",
    "            {\"$group\":{\"_id\":{\"City\":\"$city_name\", \"Food\":\"$cuisine\"},\n",
    "                       \"count\":{\"$sum\":1}}},\n",
    "            {\"$project\":{\"_id\":0, \"City\":\"$_id.City\",\n",
    "                         \"Food\":\"$_id.Food\",\n",
    "                         \"Count\":\"$count\"}},\n",
    "            {\"$sort\":{\"Count\":-1}}, \n",
    "            {\"$limit\":6}]"
   ]
  },
  {
   "cell_type": "code",
   "execution_count": null,
   "metadata": {
    "collapsed": false
   },
   "outputs": [],
   "source": [
    " u'result': [{u'City': u'honolulu', u'Count': 13, u'Food': u'burger'},\n",
    "             {u'City': u'honolulu', u'Count': 2, u'Food': u'sandwich'},\n",
    "             {u'City': u'honolulu', u'Count': 2, u'Food': u'sushi'},...}\n",
    "\n",
    "{u'ok': 1.0,\n",
    " u'result': [{u'City': u'albuquerque', u'Count': 31, u'Food': u'burger'},\n",
    "             {u'City': u'albuquerque', u'Count': 16, u'Food': u'sandwich'},\n",
    "             {u'City': u'albuquerque', u'Count': 6, u'Food': u'pizza'},...}"
   ]
  },
  {
   "cell_type": "markdown",
   "metadata": {},
   "source": [
    "<hr>"
   ]
  },
  {
   "cell_type": "markdown",
   "metadata": {},
   "source": [
    "**Ubiquitous McDonald's and Subway have a far reach.** "
   ]
  },
  {
   "cell_type": "code",
   "execution_count": null,
   "metadata": {
    "collapsed": false
   },
   "outputs": [],
   "source": [
    "pipeline = [{\"$match\":{\"amenity\":{\"$exists\":1},\n",
    "                       \"amenity\":\"fast_food\",\"city_name\":city}},\n",
    "            {\"$group\":{\"_id\":{\"City\":\"$city_name\",\n",
    "                                        \"Name\":\"$name\"},\n",
    "                                 \"count\":{\"$sum\":1}}},\n",
    "            {\"$project\":{\"_id\":0,\n",
    "                                  \"City\":\"$_id.City\",\n",
    "                                  \"Name\":\"$_id.Name\",\n",
    "                                  \"Count\":\"$count\"}},\n",
    "            {\"$sort\":{\"Count\":-1}}, \n",
    "            {\"$limit\":6}]"
   ]
  },
  {
   "cell_type": "code",
   "execution_count": null,
   "metadata": {
    "collapsed": false
   },
   "outputs": [],
   "source": [
    " u'result': [{u'City': u'honolulu', u'Count': 8, u'Name': u\"McDonald's\"},\n",
    "             {u'City': u'honolulu', u'Count': 4, u'Name': u'Subway'},\n",
    "             {u'City': u'honolulu', u'Count': 3, u'Name': u'Burger King'},..}\n",
    " u'result': [{u'City': u'albuquerque', u'Count': 23, u'Name': u'Subway'},\n",
    "             {u'City': u'albuquerque', u'Count': 12, u'Name': u\"Blake's Lotaburger\"},\n",
    "             {u'City': u'albuquerque', u'Count': 11, u'Name': u\"McDonald's\"},...}"
   ]
  },
  {
   "cell_type": "markdown",
   "metadata": {},
   "source": [
    "<hr>"
   ]
  },
  {
   "cell_type": "markdown",
   "metadata": {},
   "source": [
    "**Auto repair shops are more popular in the expansive southwest.**\n",
    "This makes sense since many more miles are put onto automobiles in the much larger state of New Mexico.\n"
   ]
  },
  {
   "cell_type": "code",
   "execution_count": null,
   "metadata": {
    "collapsed": false
   },
   "outputs": [],
   "source": [
    "    pipeline = [{\"$match\":{\"shop\":{\"$exists\":1}, \"city_name\":city}},\n",
    "                {\"$group\":{\"_id\":{\"City\":\"$city_name\", \"Shop\":\"$shop\"},\n",
    "                           \"count\":{\"$sum\":1}}},\n",
    "                {\"$project\": {'_id':0, \"City\":\"$_id.City\",\n",
    "                              \"Shop\":\"$_id.Shop\", \"Count\":\"$count\"}},\n",
    "                {\"$sort\":{\"Count\":-1}},\n",
    "                {\"$limit\":10}]"
   ]
  },
  {
   "cell_type": "code",
   "execution_count": null,
   "metadata": {
    "collapsed": false
   },
   "outputs": [],
   "source": [
    " u'result': [{u'City': u'honolulu', u'Count': 50, u'Shop': u'supermarket'},\n",
    "             {u'City': u'honolulu', u'Count': 24, u'Shop': u'convenience'},\n",
    "             {u'City': u'honolulu', u'Count': 18, u'Shop': u'clothes'},...}\n",
    " u'result': [{u'City': u'albuquerque', u'Count': 66, u'Shop': u'convenience'},\n",
    "             {u'City': u'albuquerque', u'Count': 46, u'Shop': u'supermarket'},\n",
    "             {u'City': u'albuquerque', u'Count': 22, u'Shop': u'car_repair'},...}"
   ]
  },
  {
   "cell_type": "markdown",
   "metadata": {},
   "source": [
    "<hr>"
   ]
  },
  {
   "cell_type": "markdown",
   "metadata": {},
   "source": [
    "**The most popular convenience stores are regional.** "
   ]
  },
  {
   "cell_type": "code",
   "execution_count": null,
   "metadata": {
    "collapsed": false
   },
   "outputs": [],
   "source": [
    "pipeline = [{\"$match\":{\"shop\":{\"$exists\":1},\n",
    "                       \"city_name\":city, \"shop\":\"convenience\"}},\n",
    "            {\"$group\":{\"_id\":{\"City\":\"$city_name\", \"Name\":\"$name\"},\n",
    "                       \"count\":{\"$sum\":1}}},\n",
    "            {\"$project\": {'_id':0, \"City\":\"$_id.City\",\n",
    "                          \"Name\":\"$_id.Name\", \"Count\":\"$count\"}},\n",
    "            {\"$sort\":{\"Count\":-1}},\n",
    "            {\"$limit\":5}]"
   ]
  },
  {
   "cell_type": "code",
   "execution_count": null,
   "metadata": {
    "collapsed": false
   },
   "outputs": [],
   "source": [
    "u'result': [{u'City': u'honolulu', u'Count': 7, u'Name': u'ABC Store'},...}\n",
    "u'result': [{u'City': u'albuquerque', u'Count': 14, u'Name': u'Circle K'}...}"
   ]
  },
  {
   "cell_type": "markdown",
   "metadata": {},
   "source": [
    "[<div align=\"center\">Back to top</div>](#top)"
   ]
  },
  {
   "cell_type": "markdown",
   "metadata": {},
   "source": [
    "<hr>"
   ]
  },
  {
   "cell_type": "markdown",
   "metadata": {},
   "source": [
    "## **4. Conclusion**<a name=\"conclusion\"></a>"
   ]
  },
  {
   "cell_type": "markdown",
   "metadata": {},
   "source": [
    "When checking the output of the data as it was being cleaned, I found that a lot of the earlier data was already cleaned fairly well. This makes sense since these are weekly extracts of data so newer data would not have had time to be cleaned by anyone.\n",
    "\n",
    "It was also amazing to me how easily multiple cities could be aggregated, and how quickly new cleaning functions could be added into different sub-stages of cleaning.\n",
    "\n",
    "It doesn't seem that it would be too hard to flesh out more robust cleaning algorithms, and run a script semi-regularly to clean the data automatically.\n",
    "\n",
    "Also, I did not get a chance to use MongoDB's geospatial querying, but there is a fair amount of lat/lon data that might be able to use this type of querying. \n",
    "\n",
    "These two cities are fairly small when compared to other more active cities in OpenStreetMap, so API pulls from other databases like google maps might be able to better populate points of interest for the less active areas."
   ]
  },
  {
   "cell_type": "markdown",
   "metadata": {},
   "source": [
    "[<div align=\"center\">Back to top</div>](#top)"
   ]
  },
  {
   "cell_type": "markdown",
   "metadata": {},
   "source": [
    "<hr>"
   ]
  },
  {
   "cell_type": "code",
   "execution_count": 19,
   "metadata": {
    "collapsed": false
   },
   "outputs": [
    {
     "data": {
      "text/html": [
       "<style>\n",
       "@import url('http://fonts.googleapis.com/css?family=Crimson+Text');\n",
       "@import url('http://fonts.googleapis.com/css?family=Kameron');\n",
       "@import url('http://fonts.googleapis.com/css?family=Lato:200');\n",
       "@import url('http://fonts.googleapis.com/css?family=Lato:300');\n",
       "@import url('http://fonts.googleapis.com/css?family=Lato:400');\n",
       "@import url('http://fonts.googleapis.com/css?family=Source+Code+Pro');\n",
       "\n",
       "/* Change code font */\n",
       ".CodeMirror pre {\n",
       "    font-family: 'Source Code Pro', Consolas, monocco, monospace;\n",
       "}\n",
       "\n",
       "div.input_area {\n",
       "    border-color: rgba(0,0,0,0.10);\n",
       "    background: rbga(0,0,0,0.5);\n",
       "}\n",
       "\n",
       "div.text_cell {\n",
       "    max-width: 105ex; /* instead of 100%, */\n",
       "}\n",
       "\n",
       "div.text_cell_render {\n",
       "    font-family: \"Crimson Text\";\n",
       "    font-size: 12pt;\n",
       "    line-height: 145%; /* added for some line spacing of text. */\n",
       "}\n",
       "\n",
       "div.text_cell_render h1,\n",
       "div.text_cell_render h2,\n",
       "div.text_cell_render h3,\n",
       "div.text_cell_render h4,\n",
       "div.text_cell_render h5,\n",
       "div.text_cell_render h6 {\n",
       "    font-family: 'Kameron';\n",
       "    font-weight: 300;\n",
       "}\n",
       "\n",
       "div.text_cell_render h1 {\n",
       "    font-size: 24pt;\n",
       "}\n",
       "\n",
       "div.text_cell_render h2 {\n",
       "    font-size: 18pt;\n",
       "}\n",
       "\n",
       "div.text_cell_render h3 {\n",
       "    font-size: 14pt;\n",
       "}\n",
       "\n",
       ".rendered_html pre,\n",
       ".rendered_html code {\n",
       "    font-size: medium;\n",
       "}\n",
       "\n",
       ".rendered_html ol {\n",
       "    list-style:decimal;\n",
       "    margin: 1em 2em;\n",
       "}\n",
       "\n",
       ".prompt.input_prompt {\n",
       "    color: rgba(0,0,0,0.5);\n",
       "}\n",
       "\n",
       ".cell.command_mode.selected {\n",
       "    border-color: rgba(0,0,0,0.1);\n",
       "}\n",
       "\n",
       ".cell.edit_mode.selected {\n",
       "    border-color: rgba(0,0,0,0.15);\n",
       "    box-shadow: 0px 0px 5px #f0f0f0;\n",
       "    -webkit-box-shadow: 0px 0px 5px #f0f0f0;\n",
       "}\n",
       "\n",
       "div.output_scroll {\n",
       "    -webkit-box-shadow: inset 0 2px 8px rgba(0,0,0,0.1);\n",
       "    box-shadow: inset 0 2px 8px rgba(0,0,0,0.1);\n",
       "    border-radious: 2px;\n",
       "}\n",
       "\n",
       "#menubar .navbar-inner {\n",
       "    background: #fff;\n",
       "    -webkit-box-shadow: none;\n",
       "    box-shadow: none;\n",
       "    border-radius: 0;\n",
       "    border: none;\n",
       "    font-family: lato;\n",
       "    font-weight: 400;\n",
       "}\n",
       "\n",
       ".navbar-fixed-top .navbar-inner,\n",
       ".navbar-static-top .navbar-inner {\n",
       "    box-shadow: none;\n",
       "    -webkit-box-shadow: none;\n",
       "    border: none;\n",
       "}\n",
       "\n",
       "div#notebook_panel {\n",
       "    box-shadow: none;\n",
       "    -webkit-box-shadow: none;\n",
       "    border-top: none;\n",
       "}\n",
       "\n",
       "div#notebook {\n",
       "    border-top: 1px solid rgba(0,0,0,0.15);\n",
       "}\n",
       "\n",
       "#menubar .navbar .navbar-inner,\n",
       ".toolbar-inner {\n",
       "    padding-left: 0;\n",
       "    padding-right: 0;\n",
       "}\n",
       "\n",
       "#checkpoint_status,\n",
       "#autosave_status {\n",
       "    color: rgba(0,0,0,0.5);\n",
       "}\n",
       "\n",
       "#header {\n",
       "    font-family: lato;\n",
       "}\n",
       "\n",
       "#notebook_name {\n",
       "    font-weight: 200;\n",
       "}\n",
       "\n",
       "/* \n",
       "    This is a lazy fix, we *should* fix the \n",
       "    background for each Bootstrap button type\n",
       "*/\n",
       "#site * .btn {\n",
       "    background: #fafafa;\n",
       "    -webkit-box-shadow: none;\n",
       "    box-shadow: none;\n",
       "}\n",
       "</style>"
      ],
      "text/plain": [
       "<IPython.core.display.HTML at 0x3845f28>"
      ]
     },
     "execution_count": 19,
     "metadata": {},
     "output_type": "execute_result"
    }
   ],
   "source": [
    "from IPython import utils\n",
    "from IPython.core.display import HTML\n",
    "import os\n",
    "def css_styling():\n",
    "    \"\"\"Load default custom.css file from ipython profile\"\"\"\n",
    "    base = utils.path.get_ipython_dir()\n",
    "    styles = \"<style>\\n%s\\n</style>\" % (open(os.path.join(base,'profile_custom1/static/custom/custom.css'),'r').read())\n",
    "    return HTML(styles)\n",
    "css_styling()"
   ]
  }
 ],
 "metadata": {
  "kernelspec": {
   "display_name": "Python 2",
   "language": "python",
   "name": "python2"
  },
  "language_info": {
   "codemirror_mode": {
    "name": "ipython",
    "version": 2
   },
   "file_extension": ".py",
   "mimetype": "text/x-python",
   "name": "python",
   "nbconvert_exporter": "python",
   "pygments_lexer": "ipython2",
   "version": "2.7.8"
  }
 },
 "nbformat": 4,
 "nbformat_minor": 0
}
