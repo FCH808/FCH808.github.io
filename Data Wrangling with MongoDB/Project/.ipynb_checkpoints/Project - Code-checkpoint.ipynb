{
 "metadata": {
  "name": "",
  "signature": "sha256:738bec6032bc469a009e2a69a767f5399d091982ff3f8cbfa3bf3c949d6de281"
 },
 "nbformat": 3,
 "nbformat_minor": 0,
 "worksheets": [
  {
   "cells": [
    {
     "cell_type": "code",
     "collapsed": false,
     "input": [
      "import os\n",
      "import xml.etree.cElementTree as ET\n",
      "import pprint\n",
      "import re\n",
      "import codecs\n",
      "import json\n",
      "import collections\n",
      "import bson\n",
      "import pymongo"
     ],
     "language": "python",
     "metadata": {},
     "outputs": [],
     "prompt_number": 6
    },
    {
     "cell_type": "code",
     "collapsed": false,
     "input": [
      "# Data used - Weekly OSM Metro Extracts from:\n",
      "# https://mapzen.com/metro-extracts/\n",
      "# https://s3.amazonaws.com/metro-extracts.mapzen.com/albuquerque_new-mexico.osm.bz2\n",
      "# https://s3.amazonaws.com/metro-extracts.mapzen.com/honolulu_hawaii.osm.bz2\n",
      "\n",
      "DATADIR = \"data\"\n",
      "DATAFILE = \"honolulu_hawaii.osm\"\n",
      "DATAFILE2 = \"albuquerque_new-mexico.osm\"\n",
      "\n",
      "HNL_DATA = os.path.join(DATADIR, DATAFILE)\n",
      "ABQ_DATA = os.path.join(DATADIR, DATAFILE2)"
     ],
     "language": "python",
     "metadata": {},
     "outputs": [],
     "prompt_number": 2
    },
    {
     "cell_type": "code",
     "collapsed": false,
     "input": [
      "def count_tags(filename):\n",
      "    counts = collections.defaultdict(int)\n",
      "    for line in ET.iterparse(filename, events=(\"start\",)):\n",
      "        current = line[1].tag\n",
      "        counts[current] += 1\n",
      "    return counts\n",
      "\n",
      "hnl_tags = count_tags(HNL_DATA)\n",
      "abq_tags = count_tags(ABQ_DATA)\n",
      "pprint.pprint(hnl_tags)\n",
      "pprint.pprint(abq_tags)"
     ],
     "language": "python",
     "metadata": {},
     "outputs": [
      {
       "output_type": "stream",
       "stream": "stdout",
       "text": [
        "defaultdict(<type 'int'>, {'node': 206288, 'nd': 245614, 'bounds': 1, 'member': 1160, 'tag': 104987, 'osm': 1, 'way': 21464, 'relation': 268})\n",
        "defaultdict(<type 'int'>, {'node': 226327, 'nd': 283147, 'bounds': 1, 'member': 1398, 'tag': 208869, 'osm': 1, 'way': 35195, 'relation': 117})\n"
       ]
      }
     ],
     "prompt_number": 3
    },
    {
     "cell_type": "code",
     "collapsed": false,
     "input": [
      "lower = re.compile(r'^([a-z]|_)*$')\n",
      "lower_colon = re.compile(r'^([a-z]|_)*:([a-z]|_)*$')\n",
      "problemchars = re.compile(r'[=\\+/&<>;\\'\"\\?%#$@\\,\\. \\t\\r\\n]')\n",
      "\n",
      "\n",
      "def key_type(element, keys):\n",
      "    if element.tag == \"tag\":\n",
      "        k_value = element.attrib['k']\n",
      "        if lower.search(k_value) is not None:\n",
      "            keys['lower'] += 1\n",
      "        elif lower_colon.search(k_value) is not None:\n",
      "            keys['lower_colon'] += 1\n",
      "        elif problemchars.search(k_value) is not None:\n",
      "            keys[\"problemchars\"] += 1\n",
      "        else:\n",
      "            keys['other'] += 1\n",
      "\n",
      "    return keys\n",
      "\n",
      "\n",
      "\n",
      "def process_map(filename):\n",
      "    keys = {\"lower\": 0, \"lower_colon\": 0, \"problemchars\": 0, \"other\": 0}\n",
      "    for _, element in ET.iterparse(filename):\n",
      "        keys = key_type(element, keys)\n",
      "\n",
      "    return keys\n",
      "\n",
      "hnl_all_keys = process_map(HNL_DATA)\n",
      "abq_all_keys = process_map(ABQ_DATA)\n",
      "print hnl_all_keys\n",
      "print abq_all_keys"
     ],
     "language": "python",
     "metadata": {},
     "outputs": [
      {
       "output_type": "stream",
       "stream": "stdout",
       "text": [
        "{'problemchars': 0, 'lower': 52301, 'other': 2350, 'lower_colon': 50336}\n",
        "{'problemchars': 7, 'lower': 90927, 'other': 2224, 'lower_colon': 115711}\n"
       ]
      }
     ],
     "prompt_number": 4
    },
    {
     "cell_type": "markdown",
     "metadata": {},
     "source": [
      "This shows many keys are present with semicolons such as 'addr:postcode'"
     ]
    },
    {
     "cell_type": "code",
     "collapsed": false,
     "input": [
      "street_type_re = re.compile(r'\\b\\S+\\.?$', re.IGNORECASE)\n",
      "\n",
      "\n",
      "expected = [\"Street\", \"Avenue\", \"Boulevard\", \"Drive\", \"Court\", \"Place\", \"Square\", \"Lane\", \"Road\", \n",
      "            \"Trail\", \"Parkway\", \"Commons\"]\n",
      "\n",
      "# UPDATE THIS VARIABLE\n",
      "mapping = { \"pl\": \"Place\",\n",
      "            \"st\": \"Street\",\n",
      "            \"ave\": \"Avenue\",\n",
      "            \"rd\": \"Road\",\n",
      "            \"w\": \"West\",\n",
      "            \"n\": \"North\",\n",
      "            \"s\": \"South\",\n",
      "            \"e\": \"East\",\n",
      "            \"blvd\":\"Boulevard\",\n",
      "            \"sr\": \"Drive\",\n",
      "            \"ct\": \"Court\",\n",
      "            \"ne\": \"Northeast\",\n",
      "            \"se\": \"Southeast\",\n",
      "            \"nw\": \"Northwest\",\n",
      "            \"sw\": \"Southwest\",\n",
      "            \"dr\": \"Drive\",\n",
      "            \"sq\": \"Square\",\n",
      "            \"ln\": \"Lane\",\n",
      "            \"trl\": \"Trail\",\n",
      "            \"pkwy\": \"Parkway\",\n",
      "            \"ste\": \"Suite\",\n",
      "            \"lp\": \"Loop\",\n",
      "            \"hwy\": \"Highway\"}\n",
      "\n",
      "\n",
      "def audit_street_type(street_types, street_name):\n",
      "    m = street_type_re.search(street_name)\n",
      "    if m:\n",
      "        street_type = m.group()\n",
      "        if street_type not in expected:\n",
      "            street_types[street_type].add(street_name)\n",
      "\n",
      "\n",
      "def is_street_name(elem):\n",
      "    return (elem.attrib['k'] == \"addr:street\")\n",
      "\n",
      "\n",
      "def audit(osmfile):\n",
      "    osm_file = open(osmfile, \"r\")\n",
      "    street_types = collections.defaultdict(set)\n",
      "    for event, elem in ET.iterparse(osm_file, events=(\"start\",)):\n",
      "        if elem.tag == \"node\" or elem.tag == \"way\":\n",
      "            for tag in elem.iter(\"tag\"):\n",
      "                if is_street_name(tag):\n",
      "                    audit_street_type(street_types, tag.attrib['v'])\n",
      "\n",
      "    return street_types\n",
      "\n",
      "\n",
      "def update_name(name, mapping):\n",
      "    after = []\n",
      "    # Split name string to test each part of the name;\n",
      "    # Replacements may come anywhere in the name.\n",
      "    for part in name.split(\" \"):\n",
      "        # Normalize each address part to cehck against normalized parts in dict.\n",
      "        part = part.strip(\",\\.\").lower()\n",
      "        # Check each part of the name against the keys in the correction dict        \n",
      "        if part in mapping.keys():\n",
      "            # If exists in dict, overwrite that part of the name with the dict value for it.\n",
      "            part = mapping[part]\n",
      "        # Assemble each corrected piece of the name back together.\n",
      "        # Also, capitalize the each address part before adding it back.\n",
      "        # .capitalize() instead of .title() so 1st stays as 1st instead of converting to 1St \n",
      "        after.append(part.capitalize())\n",
      "    # Return all pieces of the name as a string joined by a space.\n",
      "    return \" \".join(after)\n",
      "\n",
      "hnl_st_types = audit(HNL_DATA)\n",
      "abq_st_types = audit(ABQ_DATA)\n"
     ],
     "language": "python",
     "metadata": {},
     "outputs": [],
     "prompt_number": 5
    },
    {
     "cell_type": "code",
     "collapsed": false,
     "input": [
      "# Mapping variables were updated: see full list above\n",
      "for st_type, ways in hnl_st_types.iteritems():\n",
      "    for name in ways:\n",
      "        better_name = update_name(name, mapping)\n",
      "        # Show all street names in way nodes.\n",
      "        print name, \"=>\", better_name"
     ],
     "language": "python",
     "metadata": {},
     "outputs": [
      {
       "output_type": "stream",
       "stream": "stdout",
       "text": [
        " king => King\n",
        "Enchanted Lakes Shopping Center => Enchanted Lakes Shopping Center\n",
        "Longs Drugs => Longs Drugs\n",
        "Lusitania St. => Lusitania Street\n",
        "Ala Pumalu St => Ala Pumalu Street\n",
        "Lusitania St => Lusitania Street\n",
        "Fort Street Mall => Fort Street Mall\n",
        "McCarthy Mall => Mccarthy Mall\n",
        "Pualani Way => Pualani Way\n",
        "Wai Nani Way => Wai Nani Way\n",
        "Kuaaina Way => Kuaaina Way\n",
        "Ainakea Way => Ainakea Way\n",
        "Coelho Way => Coelho Way\n",
        "Kalakaua Ave => Kalakaua Avenue\n",
        "Pualei Circle => Pualei Circle\n",
        "Beach Walk => Beach Walk\n",
        "Pali Highway => Pali Highway\n",
        "Kamehameha Highway => Kamehameha Highway\n",
        "Kalanianaole Highway => Kalanianaole Highway\n",
        "Kalaniana'ole Highway => Kalaniana'ole Highway\n",
        "Farrington Highway => Farrington Highway\n"
       ]
      }
     ],
     "prompt_number": 7
    },
    {
     "cell_type": "code",
     "collapsed": false,
     "input": [
      "# Mapping variables were updated: see full list above\n",
      "for st_type, ways in abq_st_types.iteritems():\n",
      "    for name in ways:\n",
      "        better_name = update_name(name, mapping)\n",
      "        # Only show changed street names in way nodes \n",
      "        # since there are a lot more in this city data\n",
      "        if name != better_name:\n",
      "            print name, \"=>\", better_name\n",
      "# One street would need to be cleaned a lot: 1833 8th Street Northwestalbuquerque Nm 87102\n",
      "# But almost all have been cleaned pretty well."
     ],
     "language": "python",
     "metadata": {},
     "outputs": [
      {
       "output_type": "stream",
       "stream": "stdout",
       "text": [
        "indian School Road Northeast => Indian School Road Northeast\n",
        "Constitution Ave Northeast => Constitution Avenue Northeast\n",
        "Arvada Ave Northeast => Arvada Avenue Northeast\n",
        "Campo del Sol Avenue Northeast => Campo Del Sol Avenue Northeast\n",
        "Campo del Oso Avenue Northeast => Campo Del Oso Avenue Northeast\n",
        "Gold Between 1st and 2nd => Gold Between 1st And 2nd\n",
        "10th Street, Northwest => 10th Street Northwest\n",
        "Central avenue => Central Avenue\n",
        "Mullhacen Pl => Mullhacen Place\n",
        "Cental AvenueSW => Cental Avenuesw\n",
        "1833 8th Street NorthwestAlbuquerque, NM 87102 => 1833 8th Street Northwestalbuquerque Nm 87102\n",
        "Balloon Museum Drive NE => Balloon Museum Drive Northeast\n",
        "Paseo Alameda NE => Paseo Alameda Northeast\n",
        "Uptown Loop Rd NE => Uptown Loop Road Northeast\n",
        "LOMAS BLVD NE => Lomas Boulevard Northeast\n",
        "Central Avenue NE => Central Avenue Northeast\n",
        "Eubank Blvd NE => Eubank Boulevard Northeast\n",
        "Glendale Ave NE => Glendale Avenue Northeast\n",
        "Central Ave NE => Central Avenue Northeast\n",
        "Renaissance Boulevard NE => Renaissance Boulevard Northeast\n",
        "Eubank NE => Eubank Northeast\n",
        "8700 Central Ave => 8700 Central Avenue\n",
        "Lead and Morningside => Lead And Morningside\n",
        "Valley View Dr NW => Valley View Drive Northwest\n",
        "3301 Menaul Blvd. NE Suite A => 3301 Menaul Boulevard Northeast Suite A\n",
        "Juan Tabo NE, Suite A => Juan Tabo Northeast Suite A\n",
        "8th and Central => 8th And Central\n",
        "Corner of Uptown Blvd and Uptown Loop => Corner Of Uptown Boulevard And Uptown Loop\n",
        "Menaul Blvd. NE. => Menaul Boulevard Northeast\n",
        "Bridge Boulevard SW => Bridge Boulevard Southwest\n",
        "Eubank Northeast Ste E-18 => Eubank Northeast Suite E-18\n",
        "Clark Ave SE => Clark Avenue Southeast\n",
        "Randolph Ave SE => Randolph Avenue Southeast\n",
        "3400 Crest Ave. SE => 3400 Crest Avenue Southeast\n",
        "Girard SE => Girard Southeast\n",
        "16th Street SouthWest => 16th Street Southwest\n"
       ]
      }
     ],
     "prompt_number": 8
    },
    {
     "cell_type": "code",
     "collapsed": false,
     "input": [
      "# Covers cases encountered in cleaning ('96826', 'HI 96819', '96734-9998')\n",
      "\n",
      "def check_5_digits(new_postal):\n",
      "    # Make sure postal code is 5 digits\n",
      "    if len(str(new_postal)) == 5:\n",
      "        return new_postal\n",
      "    # Else return postal code with descriptive error message attached.\n",
      "    else:\n",
      "        return \"NOT 5 DIGITS:\"+str(new_postal)     \n",
      "\n",
      "def correct_postal_codes(postal):\n",
      "    # Try to convert numbers as intended. \n",
      "    # No need to check for conditions with if statements if the vast majority will be valid.\n",
      "    try:\n",
      "        new_postal = int(postal)\n",
      "        # Check for 5 sigits with another function.\n",
      "        return check_5_digits(new_postal)\n",
      "    except ValueError as value_error:\n",
      "        # Check if it's a string with a hyphen containing 4 trailing digits e.g. '96734-9998'\n",
      "        if '-' in postal:\n",
      "            # Grab first digits and convert to int.\n",
      "            postal = int(postal.split('-')[0])\n",
      "            # Check for 5 sigits with another function.\n",
      "            return check_5_digits(postal)\n",
      "        if ' ' in postal:\n",
      "            postals = postal.split(' ')\n",
      "            new_postals = [p for p in postals if len(p)==5]\n",
      "            try:\n",
      "                # Check the first entry for a valid 5 digit number\n",
      "                new_postals = int(new_postals[0])\n",
      "                return check_5_digits(new_postals)\n",
      "            # Otherwise return the error thrown and values.\n",
      "            except Exception as err:\n",
      "                return err, new_postals\n",
      "        else:\n",
      "            # Return the ValueError thrown and value if it doesn't meet these criteria\n",
      "            return ValueError + \":\" + str(postal)\n",
      "    "
     ],
     "language": "python",
     "metadata": {},
     "outputs": [],
     "prompt_number": 9
    },
    {
     "cell_type": "code",
     "collapsed": false,
     "input": [
      "lower = re.compile(r'^([a-z]|_)*$')\n",
      "lower_colon = re.compile(r'^([a-z]|_)*:([a-z]|_)*$')\n",
      "problemchars = re.compile(r'[=\\+/&<>;\\'\"\\?%#$@\\,\\. \\t\\r\\n]')\n",
      "\n",
      "CREATED = [ \"version\", \"changeset\", \"timestamp\", \"user\", \"uid\"]\n",
      "\n",
      "\n",
      "def is_address(elem):\n",
      "    if elem.attrib['k'][:5] == \"addr:\":\n",
      "        return True\n",
      "\n",
      "\n",
      "\n",
      "\n",
      "def shape_element(element):\n",
      "    # Make an empty dictionary for the output node/element.\n",
      "    node = {}\n",
      "    # Process 'node' or 'way' elements only.\n",
      "    if element.tag == \"node\" or element.tag == \"way\":\n",
      "        #if element.attrib[\"id\"] == '21442033':\n",
      "        #    print element.tag\n",
      "        #    for tag in element.iter(\"tag\"):\n",
      "        #        print tag.attrib\n",
      "        address_info = {}\n",
      "        nd_info = []\n",
      "        # Add 'node'/'way' as 'type' \n",
      "        node[\"type\"] = element.tag\n",
      "        # Add 'id' as 'id'\n",
      "        node[\"id\"] = element.attrib[\"id\"]\n",
      "        # If visible exists, add it to dict\n",
      "        if \"visible\" in element.attrib.keys():\n",
      "            node[\"visible\"] = element.attrib[\"visible\"]\n",
      "        # Add 'lat'/'lon' if they ar available\n",
      "        if \"lat\" in element.attrib.keys():\n",
      "            node[\"pos\"] = [float(element.attrib['lat']), float(element.attrib['lon'])]\n",
      "        # Add version, changeset, timestamp, uid, and user under the root node 'created'\n",
      "        node[\"created\"] = {\"version\": element.attrib['version'],\n",
      "                            \"changeset\": element.attrib['changeset'],\n",
      "                            \"timestamp\": element.attrib['timestamp'],\n",
      "                            \"uid\": element.attrib['uid'],\n",
      "                            \"user\": element.attrib['user']}\n",
      "        # Iterate through the tags of k,v pairs.\n",
      "        for tag in element.iter(\"tag\"):\n",
      "            #print tag.attrib\n",
      "            p = problemchars.search(tag.attrib['k'])\n",
      "            if p:\n",
      "                # print \"PROBLEM:\", p.group()\n",
      "                # Do nothing currently\n",
      "                continue\n",
      "            elif is_address(tag):\n",
      "                if \":\" in tag.attrib['k'][5:]:\n",
      "                    # print \"Bad Address:\", tag.attrib['k'], \"--\", tag.attrib['v']\n",
      "                    # first 5 char of address attributes should be 'addr:'\n",
      "                    # If they're not, it's a bad address for this script.\n",
      "                    # Skip.\n",
      "                    continue\n",
      "                else:\n",
      "                    # If first 5 char contain ':' (i.e. 'addr:'), add the last part of the string as\n",
      "                    # a key and the value from 'v' as the value in our address_info dict.\n",
      "                    # i.e. 'addr:state' will add 'state'\n",
      "                    #\n",
      "                    # Check the postcodes and correct them if applicable before adding into address_info\n",
      "                    if tag.attrib['k'][5:] == 'postcode':\n",
      "                        tag.attrib['v'] = correct_postal_codes(tag.attrib['v'])\n",
      "                    address_info[tag.attrib['k'][5:]] = tag.attrib['v']\n",
      "                    #print \"Good Address:\", tag.attrib['k'], \"--\", tag.attrib['v']\n",
      "            else:\n",
      "                # If there's no ':', just add the 'k' as a key, and 'v' as a value in our node dict.\n",
      "                node[tag.attrib['k']] = tag.attrib['v']\n",
      "                #print \"Outside:\", tag.attrib['k'], \"--\", tag.attrib['v']\n",
      "        # If we found 'addr:' info and added it to our address_info dict,\n",
      "        if address_info != {}:\n",
      "            # Then add that address_info dict under the node 'address'\n",
      "            node['address'] = address_info\n",
      "        # Iterate through the 'nd' nodes if they exist.\n",
      "        for tag2 in element.iter(\"nd\"):\n",
      "            # add each entry in a running list.\n",
      "            nd_info.append(tag2.attrib['ref'])\n",
      "        # If the resulting list isn't empty,\n",
      "        if nd_info != []:\n",
      "            # Add the list under the node 'node_refs'\n",
      "            node['node_refs'] = nd_info\n",
      "        return node\n",
      "    else:\n",
      "        # If the element isn't 'node' or 'way', just return None.\n",
      "        return None\n",
      "\n",
      "\n",
      "def process_map(file_in, pretty = False):\n",
      "    file_out = \"{0}.json\".format(file_in)\n",
      "    data = []\n",
      "    with codecs.open(file_out, \"w\") as fo:\n",
      "        for _, element in ET.iterparse(file_in):\n",
      "            el = shape_element(element)\n",
      "            if el:\n",
      "                data.append(el)\n",
      "                if pretty:\n",
      "                    fo.write(json.dumps(el, indent=2)+\"\\n\")\n",
      "                else:\n",
      "                    fo.write(json.dumps(el) + \"\\n\")\n",
      "    return data\n",
      "\n",
      "\n"
     ],
     "language": "python",
     "metadata": {},
     "outputs": [],
     "prompt_number": 11
    },
    {
     "cell_type": "code",
     "collapsed": false,
     "input": [
      "data = process_map(\"data/honolulu_hawaii.osm\", False)"
     ],
     "language": "python",
     "metadata": {},
     "outputs": []
    },
    {
     "cell_type": "code",
     "collapsed": false,
     "input": [
      "data = process_map(\"data/albuquerque_new-mexico.osm\", False)"
     ],
     "language": "python",
     "metadata": {},
     "outputs": [],
     "prompt_number": 10
    },
    {
     "cell_type": "code",
     "collapsed": false,
     "input": [
      "## Load our database and collection in pymongo\n",
      "\n",
      "from pymongo import MongoClient\n",
      "\n",
      "# Function to return a database of the name specified.\n",
      "# We want a database named 'project' in this case.\n",
      "def get_db(db_name):\n",
      "    client = MongoClient(\"mongodb://localhost:27017\")\n",
      "    db = client[db_name]\n",
      "    return db\n",
      "\n",
      "## Function to return the collection we want to use in MongoDB\n",
      "def get_collection(db, collection):\n",
      "    collections_db = db[collection]\n",
      "    return collections_db\n",
      "\n",
      "# Get 'project' database\n",
      "db = get_db('project')\n",
      "# Put honolulu and albuquerque city data in this collection.\n",
      "db_hnl = get_collection(db, 'hnl')\n",
      "db_abq = get_collection(db, 'abq')"
     ],
     "language": "python",
     "metadata": {},
     "outputs": [],
     "prompt_number": 5
    },
    {
     "cell_type": "code",
     "collapsed": false,
     "input": [
      "## Insert json data into MongoDB\n",
      "def insert_data(json_data, db_collection):\n",
      "    with open(json_data, 'r') as f:\n",
      "        ## json.loads() takes a string, while json.load() takes a file-like object.\n",
      "        ## http://stackoverflow.com/questions/11568246/\n",
      "        ## /loading-several-text-files-into-mongodb-using-pymongo\n",
      "        for each_line in f.readlines():\n",
      "            db_collection.insert(json.loads(each_line))\n",
      "    print(\"Complete.\")\n"
     ],
     "language": "python",
     "metadata": {},
     "outputs": [],
     "prompt_number": 50
    },
    {
     "cell_type": "code",
     "collapsed": false,
     "input": [
      "hnl_json_data = 'data/honolulu_hawaii.osm.json'  \n",
      "insert_data(hnl_json_data, db_hnl)"
     ],
     "language": "python",
     "metadata": {},
     "outputs": [
      {
       "output_type": "stream",
       "stream": "stdout",
       "text": [
        "Complete.\n"
       ]
      }
     ],
     "prompt_number": 51
    },
    {
     "cell_type": "code",
     "collapsed": false,
     "input": [
      "abq_json_data = 'data/albuquerque_new-mexico.osm.json' \n",
      "insert_data(abq_json_data, db_abq)"
     ],
     "language": "python",
     "metadata": {},
     "outputs": [
      {
       "output_type": "stream",
       "stream": "stdout",
       "text": [
        "Complete.\n"
       ]
      }
     ],
     "prompt_number": 52
    },
    {
     "cell_type": "code",
     "collapsed": false,
     "input": [
      "db.hnl"
     ],
     "language": "python",
     "metadata": {},
     "outputs": [
      {
       "metadata": {},
       "output_type": "pyout",
       "prompt_number": 11,
       "text": [
        "Collection(Database(MongoClient('localhost', 27017), u'project'), u'hnl')"
       ]
      }
     ],
     "prompt_number": 11
    },
    {
     "cell_type": "code",
     "collapsed": false,
     "input": [
      "db.abq"
     ],
     "language": "python",
     "metadata": {},
     "outputs": [
      {
       "metadata": {},
       "output_type": "pyout",
       "prompt_number": 12,
       "text": [
        "Collection(Database(MongoClient('localhost', 27017), u'project'), u'abq')"
       ]
      }
     ],
     "prompt_number": 12
    },
    {
     "cell_type": "code",
     "collapsed": false,
     "input": [
      "pprint.pprint(db.hnl.find_one())"
     ],
     "language": "python",
     "metadata": {},
     "outputs": [
      {
       "output_type": "stream",
       "stream": "stdout",
       "text": [
        "{u'_id': ObjectId('54d84090cf9ef80254c89c68'),\n",
        " u'created': {u'changeset': u'25429164',\n",
        "              u'timestamp': u'2014-09-14T10:41:45Z',\n",
        "              u'uid': u'88164',\n",
        "              u'user': u'Med',\n",
        "              u'version': u'15'},\n",
        " u'id': u'21442033',\n",
        " u'is_in': u'USA, Hawaii',\n",
        " u'is_in:country': u'USA',\n",
        " u'is_in:country_code': u'US',\n",
        " u'is_in:ocean': u'Pacific',\n",
        " u'is_state': u'Hawaii',\n",
        " u'name': u'Honolulu',\n",
        " u'name:de': u'Honolulu',\n",
        " u'name:en': u'Honolulu',\n",
        " u'name:lt': u'Honolulu',\n",
        " u'name:pl': u'Honolulu',\n",
        " u'name:ru': u'\\u0413\\u043e\\u043d\\u043e\\u043b\\u0443\\u043b\\u0443',\n",
        " u'name:uk': u'\\u0413\\u043e\\u043d\\u043e\\u043b\\u0443\\u043b\\u0443',\n",
        " u'place': u'city',\n",
        " u'population': u'390738',\n",
        " u'pos': [21.304547, -157.8556764],\n",
        " u'source': u'Landsat',\n",
        " u'state_capital': u'yes',\n",
        " u'type': u'node',\n",
        " u'wikipedia': u'en:Honolulu, Hawaii'}\n"
       ]
      }
     ],
     "prompt_number": 13
    },
    {
     "cell_type": "code",
     "collapsed": false,
     "input": [
      "pprint.pprint(db.abq.find_one())"
     ],
     "language": "python",
     "metadata": {},
     "outputs": [
      {
       "output_type": "stream",
       "stream": "stdout",
       "text": [
        "{u'_id': ObjectId('54d840c4cf9ef80254cc1610'),\n",
        " u'created': {u'changeset': u'13889129',\n",
        "              u'timestamp': u'2012-11-15T23:35:56Z',\n",
        "              u'uid': u'26299',\n",
        "              u'user': u'uboot',\n",
        "              u'version': u'3'},\n",
        " u'id': u'140740032',\n",
        " u'pos': [35.1914041, -106.6629759],\n",
        " u'type': u'node'}\n"
       ]
      }
     ],
     "prompt_number": 14
    },
    {
     "cell_type": "code",
     "collapsed": false,
     "input": [
      "def map_aggregate(db, collection, pipeline):\n",
      "    db_collection = db[collection]\n",
      "    result = db_collection.aggregate(pipeline)\n",
      "    return result"
     ],
     "language": "python",
     "metadata": {},
     "outputs": [],
     "prompt_number": 2
    },
    {
     "cell_type": "markdown",
     "metadata": {},
     "source": [
      "#### Which users have contributed the most edits?"
     ]
    },
    {
     "cell_type": "code",
     "collapsed": false,
     "input": [
      "def make_pipeline():\n",
      "    pipeline = [{\"$match\":{\"created.user\":{\"$exists\":1}}},\n",
      "                {\"$group\": {\"_id\": \"$created.user\",\n",
      "                            \"count\": {\"$sum\": 1}}},                            \n",
      "                 {\"$sort\": {\"count\": -1}},\n",
      "                 {\"$limit\" : 5 }]\n",
      "    return pipeline\n",
      "\n",
      "pipeline = make_pipeline()\n",
      "result1 = map_aggregate(db, 'hnl', pipeline)\n",
      "pprint.pprint(result1)\n",
      "\n",
      "print \"\"\n",
      "\n",
      "result2 = map_aggregate(db, 'abq', pipeline)\n",
      "pprint.pprint(result2)"
     ],
     "language": "python",
     "metadata": {},
     "outputs": [
      {
       "output_type": "stream",
       "stream": "stdout",
       "text": [
        "{u'ok': 1.0,\n",
        " u'result': [{u'_id': u'Tom_Holland', u'count': 98401},\n",
        "             {u'_id': u'ikiya', u'count': 13051},\n",
        "             {u'_id': u'woodpeck_fixbot', u'count': 11205},\n",
        "             {u'_id': u'pdunn', u'count': 10651},\n",
        "             {u'_id': u'Chris Lawrence', u'count': 10251}]}\n",
        "\n",
        "{"
       ]
      },
      {
       "output_type": "stream",
       "stream": "stdout",
       "text": [
        "u'ok': 1.0,\n",
        " u'result': [{u'_id': u'EdHillsman', u'count': 88041},\n",
        "             {u'_id': u'anjbe', u'count': 37604},\n",
        "             {u'_id': u'jackbus', u'count': 32985},\n",
        "             {u'_id': u'woodpeck_fixbot', u'count': 31170},\n",
        "             {u'_id': u'greenv505', u'count': 10406}]}\n"
       ]
      }
     ],
     "prompt_number": 16
    },
    {
     "cell_type": "markdown",
     "metadata": {},
     "source": [
      "#### What are the most popular amenities?"
     ]
    },
    {
     "cell_type": "code",
     "collapsed": false,
     "input": [
      "def make_pipeline():\n",
      "    pipeline = [{\"$match\":{\"amenity\":{\"$exists\":1}}},\n",
      "                {\"$group\": {\"_id\": \"$amenity\",\n",
      "                            \"count\": {\"$sum\": 1}}},\n",
      "                 {\"$sort\": {\"count\": -1}},\n",
      "                 {\"$limit\" : 5 }]\n",
      "    return pipeline\n",
      "\n",
      "pipeline = make_pipeline()\n",
      "\n",
      "result1 = map_aggregate(db, 'hnl', pipeline)\n",
      "pprint.pprint(result1)\n",
      "\n",
      "print \"\"\n",
      "\n",
      "result2 = map_aggregate(db, 'abq', pipeline)\n",
      "pprint.pprint(result2)"
     ],
     "language": "python",
     "metadata": {},
     "outputs": [
      {
       "output_type": "stream",
       "stream": "stdout",
       "text": [
        "{u'ok': 1.0,\n",
        " u'result': [{u'_id': u'parking', u'count': 280},\n",
        "             {u'_id': u'restaurant', u'count': 123},\n",
        "             {u'_id': u'school', u'count': 79},\n",
        "             {u'_id': u'fast_food', u'count': 43},\n",
        "             {u'_id': u'cafe', u'count': 37}]}\n",
        "\n",
        "{"
       ]
      },
      {
       "output_type": "stream",
       "stream": "stdout",
       "text": [
        "u'ok': 1.0,\n",
        " u'result': [{u'_id': u'parking', u'count': 1270},\n",
        "             {u'_id': u'school', u'count': 258},\n",
        "             {u'_id': u'place_of_worship', u'count': 227},\n",
        "             {u'_id': u'restaurant', u'count': 221},\n",
        "             {u'_id': u'bicycle_parking', u'count': 221}]}\n"
       ]
      }
     ],
     "prompt_number": 87
    },
    {
     "cell_type": "markdown",
     "metadata": {},
     "source": [
      "How do postcodes look?"
     ]
    },
    {
     "cell_type": "code",
     "collapsed": false,
     "input": [
      "def make_pipeline():\n",
      "    pipeline = [{\"$match\":{\"address.postcode\":{\"$exists\":1}}},\n",
      "                {\"$group\": {\"_id\": \"$address.postcode\",\n",
      "                            \"count\": {\"$sum\": 1}}},\n",
      "                 {\"$sort\": {\"count\": -1}},\n",
      "                 {\"$limit\" : 50 }]\n",
      "    return pipeline\n",
      "\n",
      "pipeline = make_pipeline()\n",
      "\n",
      "result1 = map_aggregate(db, 'hnl', pipeline)\n",
      "pprint.pprint(result1)\n",
      "print \"\"\n",
      "result2 = map_aggregate(db, 'abq', pipeline)\n",
      "pprint.pprint(result2)"
     ],
     "language": "python",
     "metadata": {},
     "outputs": [
      {
       "output_type": "stream",
       "stream": "stdout",
       "text": [
        "{u'ok': 1.0,\n",
        " u'result': [{u'_id': 96815, u'count': 219},\n",
        "             {u'_id': 96826, u'count': 67},\n",
        "             {u'_id': 96822, u'count': 65},\n",
        "             {u'_id': 96814, u'count': 63},\n",
        "             {u'_id': 96813, u'count': 44},\n",
        "             {u'_id': 96734, u'count': 10},\n",
        "             {u'_id': 96816, u'count': 6},\n",
        "             {u'_id': 96817, u'count': 5},\n",
        "             {u'_id': 96825, u'count': 4},\n",
        "             {u'_id': 96712, u'count': 3},\n",
        "             {u'_id': 96819, u'count': 3},\n",
        "             {u'_id': 96818, u'count': 3},\n",
        "             {u'_id': 96701, u'count': 2},\n",
        "             {u'_id': 96789, u'count': 2},\n",
        "             {u'_id': 96707, u'count': 1},\n",
        "             {u'_id': 96717, u'count': 1},\n",
        "             {u'_id': 96792, u'count': 1},\n",
        "             {u'_id': 96782, u'count': 1},\n",
        "             {u'_id': 96821, u'count': 1},\n",
        "             {u'_id': 96850, u'count': 1},\n",
        "             {u'_id': 96744, u'count': 1}]}\n",
        "\n",
        "{"
       ]
      },
      {
       "output_type": "stream",
       "stream": "stdout",
       "text": [
        "u'ok': 1.0,\n",
        " u'result': [{u'_id': 87123, u'count': 476},\n",
        "             {u'_id': 87110, u'count': 369},\n",
        "             {u'_id': 87121, u'count': 360},\n",
        "             {u'_id': 87106, u'count': 258},\n",
        "             {u'_id': 87108, u'count': 183},\n",
        "             {u'_id': 87111, u'count': 115},\n",
        "             {u'_id': 87112, u'count': 87},\n",
        "             {u'_id': 87120, u'count': 65},\n",
        "             {u'_id': 87109, u'count': 26},\n",
        "             {u'_id': 87102, u'count': 18},\n",
        "             {u'_id': 87116, u'count': 10},\n",
        "             {u'_id': 87105, u'count': 9},\n",
        "             {u'_id': 87114, u'count': 9},\n",
        "             {u'_id': 87107, u'count': 8},\n",
        "             {u'_id': 87104, u'count': 7},\n",
        "             {u'_id': 87113, u'count': 7},\n",
        "             {u'_id': 87117, u'count': 4},\n",
        "             {u'_id': 87122, u'count': 4},\n",
        "             {u'_id': 87115, u'count': 1},\n",
        "             {u'_id': 87100, u'count': 1},\n",
        "             {u'_id': 87191, u'count': 1},\n",
        "             {u'_id': 87129, u'count': 1},\n",
        "             {u'_id': 89197, u'count': 1},\n",
        "             {u'_id': 87103, u'count': 1}]}\n"
       ]
      }
     ],
     "prompt_number": 90
    },
    {
     "cell_type": "markdown",
     "metadata": {},
     "source": [
      "We can initially see that some cleanup is needed for the zipcodes. \n",
      "This includes \n",
      "1. Removing the 4 digit postcode suffix.\n",
      "2. Removing state letters from postcode \n",
      "3. Convert to int\n",
      "\n",
      "After adding an address cleaning function, all zipcodes now adhere to a 5 digit code, but a few (such as 89197 and 87100) with only 1 entry may have been entered incorrectly."
     ]
    },
    {
     "cell_type": "code",
     "collapsed": false,
     "input": [
      "# Total nodes/records in database.\n",
      "print \"HNL:\", db.hnl.find().count() \n",
      "print \"ABQ:\", db.abq.find().count() "
     ],
     "language": "python",
     "metadata": {},
     "outputs": [
      {
       "output_type": "stream",
       "stream": "stdout",
       "text": [
        "HNL: 227752\n",
        "ABQ: 261522\n"
       ]
      }
     ],
     "prompt_number": 95
    },
    {
     "cell_type": "code",
     "collapsed": false,
     "input": [
      "# Number of node nodes.\n",
      "print \"HNL:\", db.hnl.find({\"type\":\"node\"}).count()\n",
      "print \"ABQ:\", db.abq.find({\"type\":\"node\"}).count()"
     ],
     "language": "python",
     "metadata": {},
     "outputs": [
      {
       "output_type": "stream",
       "stream": "stdout",
       "text": [
        "HNL: "
       ]
      },
      {
       "output_type": "stream",
       "stream": "stdout",
       "text": [
        "206262\n",
        "ABQ: "
       ]
      },
      {
       "output_type": "stream",
       "stream": "stdout",
       "text": [
        "226325\n"
       ]
      }
     ],
     "prompt_number": 96
    },
    {
     "cell_type": "code",
     "collapsed": false,
     "input": [
      "# Number of way nodes.\n",
      "print \"HNL:\", db.hnl.find({\"type\":\"way\"}).count()\n",
      "print \"ABQ:\", db.abq.find({\"type\":\"way\"}).count()"
     ],
     "language": "python",
     "metadata": {},
     "outputs": [
      {
       "output_type": "stream",
       "stream": "stdout",
       "text": [
        "HNL: "
       ]
      },
      {
       "output_type": "stream",
       "stream": "stdout",
       "text": [
        "21459\n",
        "ABQ: "
       ]
      },
      {
       "output_type": "stream",
       "stream": "stdout",
       "text": [
        "35189\n"
       ]
      }
     ],
     "prompt_number": 97
    },
    {
     "cell_type": "code",
     "collapsed": false,
     "input": [
      "# Number of constributors.\n",
      "print \"HNL:\", len(db.hnl.distinct(\"created.user\"))\n",
      "print \"ABQ:\", len(db.abq.distinct(\"created.user\"))"
     ],
     "language": "python",
     "metadata": {},
     "outputs": [
      {
       "output_type": "stream",
       "stream": "stdout",
       "text": [
        "HNL: "
       ]
      },
      {
       "output_type": "stream",
       "stream": "stdout",
       "text": [
        "313\n",
        "ABQ: "
       ]
      },
      {
       "output_type": "stream",
       "stream": "stdout",
       "text": [
        "372\n"
       ]
      }
     ],
     "prompt_number": 98
    },
    {
     "cell_type": "code",
     "collapsed": false,
     "input": [
      "# Find the most popular amenity.\n",
      "\n",
      "def make_pipeline():\n",
      "    pipeline = [{\"$match\":{\"amenity\":{\"$exists\":1}}},\n",
      "                {\"$group\":{\"_id\":\"$amenity\",\n",
      "                           \"count\":{\"$sum\":1}}}, \n",
      "                       {\"$sort\":{\"count\":-1}},\n",
      "                       {\"$limit\":10}]\n",
      "    return pipeline\n",
      "\n",
      "pipeline = make_pipeline()\n",
      "\n",
      "result1 = map_aggregate(db, 'hnl', pipeline)\n",
      "pprint.pprint(result1)\n",
      "print \"\"\n",
      "result2 = map_aggregate(db, 'abq', pipeline)\n",
      "pprint.pprint(result2)"
     ],
     "language": "python",
     "metadata": {},
     "outputs": [
      {
       "output_type": "stream",
       "stream": "stdout",
       "text": [
        "{u'ok': 1.0,\n",
        " u'result': [{u'_id': u'parking', u'count': 280},\n",
        "             {u'_id': u'restaurant', u'count': 123},\n",
        "             {u'_id': u'school', u'count': 79},\n",
        "             {u'_id': u'fast_food', u'count': 43},\n",
        "             {u'_id': u'cafe', u'count': 37},\n",
        "             {u'_id': u'fire_station', u'count': 36},\n",
        "             {u'_id': u'library', u'count': 31},\n",
        "             {u'_id': u'waste_basket', u'count': 28},\n",
        "             {u'_id': u'toilets', u'count': 26},\n",
        "             {u'_id': u'place_of_worship', u'count': 23}]}\n",
        "\n",
        "{"
       ]
      },
      {
       "output_type": "stream",
       "stream": "stdout",
       "text": [
        "u'ok': 1.0,\n",
        " u'result': [{u'_id': u'parking', u'count': 1270},\n",
        "             {u'_id': u'school', u'count': 258},\n",
        "             {u'_id': u'place_of_worship', u'count': 227},\n",
        "             {u'_id': u'restaurant', u'count': 221},\n",
        "             {u'_id': u'bicycle_parking', u'count': 221},\n",
        "             {u'_id': u'fast_food', u'count': 171},\n",
        "             {u'_id': u'fuel', u'count': 113},\n",
        "             {u'_id': u'cafe', u'count': 56},\n",
        "             {u'_id': u'post_box', u'count': 53},\n",
        "             {u'_id': u'bank', u'count': 46}]}\n"
       ]
      }
     ],
     "prompt_number": 104
    },
    {
     "cell_type": "code",
     "collapsed": false,
     "input": [
      "# Find the most popular religions\n",
      "def make_pipeline():\n",
      "    pipeline = [{\"$match\":{\"amenity\":{\"$exists\":1},\n",
      "                                  \"amenity\":\"place_of_worship\"}},\n",
      "                       {\"$group\":{\"_id\":\"$religion\",\n",
      "                                  \"count\":{\"$sum\":1}}},\n",
      "                       {\"$sort\":{\"count\":-1}},\n",
      "                       {\"$limit\":5}]\n",
      "    return pipeline\n",
      "\n",
      "pipeline = make_pipeline()\n",
      "\n",
      "result1 = map_aggregate(db, 'hnl', pipeline)\n",
      "pprint.pprint(result1)\n",
      "print \"\"\n",
      "result2 = map_aggregate(db, 'abq', pipeline)\n",
      "pprint.pprint(result2)"
     ],
     "language": "python",
     "metadata": {},
     "outputs": [
      {
       "output_type": "stream",
       "stream": "stdout",
       "text": [
        "{u'ok': 1.0,\n",
        " u'result': [{u'_id': u'christian', u'count': 14},\n",
        "             {u'_id': u'buddhist', u'count': 5},\n",
        "             {u'_id': None, u'count': 3},\n",
        "             {u'_id': u'muslim', u'count': 1}]}\n",
        "\n",
        "{"
       ]
      },
      {
       "output_type": "stream",
       "stream": "stdout",
       "text": [
        "u'ok': 1.0,\n",
        " u'result': [{u'_id': u'christian', u'count': 186},\n",
        "             {u'_id': None, u'count': 36},\n",
        "             {u'_id': u'jewish', u'count': 3},\n",
        "             {u'_id': u'buddhist', u'count': 1},\n",
        "             {u'_id': u'sikh', u'count': 1}]}\n"
       ]
      }
     ],
     "prompt_number": 105
    },
    {
     "cell_type": "code",
     "collapsed": false,
     "input": [
      "# Find the most popular types of restaurants.\n",
      "def make_pipeline():\n",
      "    pipeline = [{\"$match\":{\"cuisine\":{\"$exists\":1},\n",
      "                                 \"amenity\":\"restaurant\"}},\n",
      "                      {\"$group\":{\"_id\":\"$cuisine\",\n",
      "                                 \"count\":{\"$sum\":1}}},\n",
      "                      {\"$sort\":{\"count\":-1}}, \n",
      "                      {\"$limit\":5}]\n",
      "    return pipeline\n",
      "\n",
      "pipeline = make_pipeline()\n",
      "\n",
      "result1 = map_aggregate(db, 'hnl', pipeline)\n",
      "pprint.pprint(result1)\n",
      "print \"\"\n",
      "result2 = map_aggregate(db, 'abq', pipeline)\n",
      "pprint.pprint(result2)"
     ],
     "language": "python",
     "metadata": {},
     "outputs": [
      {
       "output_type": "stream",
       "stream": "stdout",
       "text": [
        "{u'ok': 1.0,\n",
        " u'result': [{u'_id': u'pizza', u'count': 7},\n",
        "             {u'_id': u'regional', u'count': 3},\n",
        "             {u'_id': u'chinese', u'count': 3},\n",
        "             {u'_id': u'japanese', u'count': 3},\n",
        "             {u'_id': u'italian', u'count': 2}]}\n",
        "\n",
        "{"
       ]
      },
      {
       "output_type": "stream",
       "stream": "stdout",
       "text": [
        "u'ok': 1.0,\n",
        " u'result': [{u'_id': u'mexican', u'count': 16},\n",
        "             {u'_id': u'pizza', u'count': 10},\n",
        "             {u'_id': u'american', u'count': 6},\n",
        "             {u'_id': u'regional', u'count': 5},\n",
        "             {u'_id': u'burger', u'count': 4}]}\n"
       ]
      }
     ],
     "prompt_number": 106
    },
    {
     "cell_type": "code",
     "collapsed": false,
     "input": [],
     "language": "python",
     "metadata": {},
     "outputs": [],
     "prompt_number": 66
    },
    {
     "cell_type": "code",
     "collapsed": false,
     "input": [
      "## db.drop_collection('cities')"
     ],
     "language": "python",
     "metadata": {},
     "outputs": [],
     "prompt_number": 107
    },
    {
     "cell_type": "markdown",
     "metadata": {},
     "source": [
      "## Combining cities into one collection\n",
      "\n",
      "#### We can add in the city name to each node for aggregation in a combined database"
     ]
    },
    {
     "cell_type": "code",
     "collapsed": false,
     "input": [
      "lower = re.compile(r'^([a-z]|_)*$')\n",
      "lower_colon = re.compile(r'^([a-z]|_)*:([a-z]|_)*$')\n",
      "problemchars = re.compile(r'[=\\+/&<>;\\'\"\\?%#$@\\,\\. \\t\\r\\n]')\n",
      "\n",
      "CREATED = [ \"version\", \"changeset\", \"timestamp\", \"user\", \"uid\"]\n",
      "\n",
      "\n",
      "def is_address(elem):\n",
      "    if elem.attrib['k'][:5] == \"addr:\":\n",
      "        return True\n",
      "\n",
      "def shape_element(element, city_name):\n",
      "    '''\n",
      "    Function to pull information for way/node entries from .osm files and \n",
      "    store as json records for loading into MongoDB.\n",
      "    \n",
      "    Returns data record as a dictionary.\n",
      "    \n",
      "    Example structure:\n",
      "    \n",
      "    {city_name: value,\n",
      "     type: value,\n",
      "     id: value,\n",
      "     visible: value,\n",
      "     address: {street: value,\n",
      "            zipcode: value},\n",
      "     created: {version: value,\n",
      "               changeset: value,\n",
      "               timestamp: value,\n",
      "               uid: value,\n",
      "               user: value},\n",
      "     lat: value,\n",
      "     lon: value,\n",
      "     node_refs: value}\n",
      "    \n",
      "    '''\n",
      "    # Make an empty dictionary for the output node/element.\n",
      "    node = {}\n",
      "    # Process 'node' or 'way' elements only.\n",
      "    if element.tag == \"node\" or element.tag == \"way\":\n",
      "        ## Add in the city name to each node for aggregation in a combined database\n",
      "        node[\"city_name\"] = city_name\n",
      "        address_info = {}\n",
      "        nd_info = []\n",
      "        # Add 'node'/'way' as 'type' \n",
      "        node[\"type\"] = element.tag\n",
      "        # Add 'id' as 'id'\n",
      "        node[\"id\"] = element.attrib[\"id\"]\n",
      "        # If visible exists, add it to dict\n",
      "        if \"visible\" in element.attrib.keys():\n",
      "            node[\"visible\"] = element.attrib[\"visible\"]\n",
      "        # Add 'lat'/'lon' if they ar available\n",
      "        if \"lat\" in element.attrib.keys():\n",
      "            node[\"pos\"] = [float(element.attrib['lat']), float(element.attrib['lon'])]\n",
      "        # Add version, changeset, timestamp, uid, and user under the root node 'created'\n",
      "        node[\"created\"] = {\"version\": element.attrib['version'],\n",
      "                            \"changeset\": element.attrib['changeset'],\n",
      "                            \"timestamp\": element.attrib['timestamp'],\n",
      "                            \"uid\": element.attrib['uid'],\n",
      "                            \"user\": element.attrib['user']}\n",
      "        # Iterate through the tags of k,v pairs.\n",
      "        for tag in element.iter(\"tag\"):\n",
      "            #print tag.attrib\n",
      "            p = problemchars.search(tag.attrib['k'])\n",
      "            if p:\n",
      "                # print \"PROBLEM:\", p.group()\n",
      "                # Do nothing currently\n",
      "                continue\n",
      "            elif is_address(tag):\n",
      "                if \":\" in tag.attrib['k'][5:]:\n",
      "                    # print \"Bad Address:\", tag.attrib['k'], \"--\", tag.attrib['v']\n",
      "                    # first 5 char of address attributes should be 'addr:'\n",
      "                    # If they're not, it's a bad address for this script.\n",
      "                    # Skip.\n",
      "                    continue\n",
      "                else:\n",
      "                    # If first 5 char contain ':' (i.e. 'addr:'), add the last part of the string as\n",
      "                    # a key and the value from 'v' as the value in our address_info dict.\n",
      "                    # i.e. 'addr:state' will add 'state'\n",
      "                    #\n",
      "                    # Check the postcodes and correct them if applicable before adding into address_info\n",
      "                    if tag.attrib['k'][5:] == 'postcode':\n",
      "                        tag.attrib['v'] = correct_postal_codes(tag.attrib['v'])\n",
      "                    address_info[tag.attrib['k'][5:]] = tag.attrib['v']\n",
      "                    #print \"Good Address:\", tag.attrib['k'], \"--\", tag.attrib['v']\n",
      "            else:\n",
      "                # If there's no ':', just add the 'k' as a key, and 'v' as a value in our node dict.\n",
      "                node[tag.attrib['k']] = tag.attrib['v']\n",
      "                #print \"Outside:\", tag.attrib['k'], \"--\", tag.attrib['v']\n",
      "        # If we found 'addr:' info and added it to our address_info dict,\n",
      "        if address_info != {}:\n",
      "            # Then add that address_info dict under the node 'address'\n",
      "            node['address'] = address_info\n",
      "        # Iterate through the 'nd' nodes if they exist.\n",
      "        for tag2 in element.iter(\"nd\"):\n",
      "            # add each entry in a running list.\n",
      "            nd_info.append(tag2.attrib['ref'])\n",
      "        # If the resulting list isn't empty,\n",
      "        if nd_info != []:\n",
      "            # Add the list under the node 'node_refs'\n",
      "            node['node_refs'] = nd_info\n",
      "        return node\n",
      "    else:\n",
      "        # If the element isn't 'node' or 'way', just return None.\n",
      "        return None\n",
      "\n",
      "\n",
      "def process_map(file_in, city_name, pretty = False):\n",
      "    '''\n",
      "    Function to write dictionary record into json file \n",
      "    for loading into MongoDB.\n",
      "    \n",
      "    Writes dictionaries returned out to a .json file.\n",
      "    '''\n",
      "    file_out = \"{0}.json\".format(file_in)\n",
      "    data = []\n",
      "    with codecs.open(file_out, \"w\") as fo:\n",
      "        for _, element in ET.iterparse(file_in):\n",
      "            el = shape_element(element, city_name)\n",
      "            if el:\n",
      "                data.append(el)\n",
      "                if pretty:\n",
      "                    fo.write(json.dumps(el, indent=2)+\"\\n\")\n",
      "                else:\n",
      "                    fo.write(json.dumps(el) + \"\\n\")\n",
      "    return data"
     ],
     "language": "python",
     "metadata": {},
     "outputs": [],
     "prompt_number": 117
    },
    {
     "cell_type": "code",
     "collapsed": false,
     "input": [
      "data = process_map(\"data/honolulu_hawaii.osm\", 'honolulu', False)"
     ],
     "language": "python",
     "metadata": {},
     "outputs": [],
     "prompt_number": 122
    },
    {
     "cell_type": "code",
     "collapsed": false,
     "input": [
      "data = process_map(\"data/albuquerque_new-mexico.osm\", 'albuquerque', False)"
     ],
     "language": "python",
     "metadata": {},
     "outputs": [],
     "prompt_number": 123
    },
    {
     "cell_type": "code",
     "collapsed": false,
     "input": [
      "# Get 'project' database\n",
      "db = get_db('project')\n",
      "# Get 'cities' collection in the 'project' database\n",
      "# Put honolulu and albuquerque city data in this collection.\n",
      "db_cities = get_collection(db, 'cities')"
     ],
     "language": "python",
     "metadata": {},
     "outputs": [],
     "prompt_number": 8
    },
    {
     "cell_type": "code",
     "collapsed": false,
     "input": [
      "hnl_json_data = 'data/honolulu_hawaii.osm.json'  \n",
      "insert_data(hnl_json_data, db_cities)"
     ],
     "language": "python",
     "metadata": {},
     "outputs": [
      {
       "output_type": "stream",
       "stream": "stdout",
       "text": [
        "Complete.\n"
       ]
      }
     ],
     "prompt_number": 125
    },
    {
     "cell_type": "code",
     "collapsed": false,
     "input": [
      "abq_json_data = 'data/albuquerque_new-mexico.osm.json' \n",
      "insert_data(abq_json_data, db_cities)"
     ],
     "language": "python",
     "metadata": {},
     "outputs": [
      {
       "output_type": "stream",
       "stream": "stdout",
       "text": [
        "Complete.\n"
       ]
      }
     ],
     "prompt_number": 126
    },
    {
     "cell_type": "code",
     "collapsed": false,
     "input": [
      "db.cities"
     ],
     "language": "python",
     "metadata": {},
     "outputs": [
      {
       "metadata": {},
       "output_type": "pyout",
       "prompt_number": 128,
       "text": [
        "Collection(Database(MongoClient('localhost', 27017), u'project'), u'cities')"
       ]
      }
     ],
     "prompt_number": 128
    },
    {
     "cell_type": "markdown",
     "metadata": {},
     "source": [
      "### We can either look up the top user contributors overall grouped by city..."
     ]
    },
    {
     "cell_type": "code",
     "collapsed": false,
     "input": [
      "result = db.cities.aggregate([{\"$match\":{\"created.user\":{\"$exists\":1}}},\n",
      "                {\"$group\": \n",
      "                 {\"_id\": {\"City\":\"$city_name\",\n",
      "                          \"User\":\"$created.user\"},\n",
      "                            \"count\": {\"$sum\": 1}}},                            \n",
      "                 {\"$project\": {'_id':0,\n",
      "                               \"City\":\"$_id.City\",\n",
      "                               \"User\":\"$_id.User\",\n",
      "                               \"Count\":\"$count\"}},\n",
      "                 {\"$sort\": {\"Count\": -1}},\n",
      "                 {\"$limit\" : 7 }])\n",
      "pprint.pprint(result)"
     ],
     "language": "python",
     "metadata": {},
     "outputs": [
      {
       "output_type": "stream",
       "stream": "stdout",
       "text": [
        "{u'ok': 1.0,\n",
        " u'result': [{u'City': u'honolulu', u'Count': 98401, u'User': u'Tom_Holland'},\n",
        "             {u'City': u'albuquerque',\n",
        "              u'Count': 88041,\n",
        "              u'User': u'EdHillsman'},\n",
        "             {u'City': u'albuquerque', u'Count': 37604, u'User': u'anjbe'},\n",
        "             {u'City': u'albuquerque', u'Count': 32985, u'User': u'jackbus'},\n",
        "             {u'City': u'albuquerque',\n",
        "              u'Count': 31170,\n",
        "              u'User': u'woodpeck_fixbot'},\n",
        "             {u'City': u'honolulu', u'Count': 13051, u'User': u'ikiya'},\n",
        "             {u'City': u'honolulu',\n",
        "              u'Count': 11205,\n",
        "              u'User': u'woodpeck_fixbot'}]}\n"
       ]
      }
     ],
     "prompt_number": 101
    },
    {
     "cell_type": "markdown",
     "metadata": {},
     "source": [
      "### Or return the top user contributors for each city individually.\n",
      "#### Which is what we will do, by making a pipeline function to switch between cities."
     ]
    },
    {
     "cell_type": "code",
     "collapsed": false,
     "input": [
      "def make_city_pipeline(city):\n",
      "    pipeline = [{\"$match\":{\"created.user\":{\"$exists\":1},\n",
      "                                          \"city_name\":city}},\n",
      "                 {\"$group\": {\"_id\": {\"City\":\"$city_name\",\n",
      "                                     \"User\":\"$created.user\"},\n",
      "                            \"count\": {\"$sum\": 1}}},                            \n",
      "                 {\"$project\": {'_id':0,\n",
      "                               \"City\":\"$_id.City\",\n",
      "                               \"User\":\"$_id.User\",\n",
      "                               \"Count\":\"$count\"}},\n",
      "                 {\"$sort\": {\"Count\": -1}},\n",
      "                 {\"$limit\" : 5 }]\n",
      "    return pipeline\n",
      "\n",
      "pipeline = make_city_pipeline('honolulu')\n",
      "result1 = map_aggregate(db, 'cities', pipeline)\n",
      "pprint.pprint(result1)\n",
      "\n",
      "print \"\"\n",
      "pipeline = make_city_pipeline('albuquerque')\n",
      "result2 = map_aggregate(db, 'cities', pipeline)\n",
      "pprint.pprint(result2)"
     ],
     "language": "python",
     "metadata": {},
     "outputs": [
      {
       "output_type": "stream",
       "stream": "stdout",
       "text": [
        "{u'ok': 1.0,\n",
        " u'result': [{u'City': u'honolulu', u'Count': 98401, u'User': u'Tom_Holland'},\n",
        "             {u'City': u'honolulu', u'Count': 13051, u'User': u'ikiya'},\n",
        "             {u'City': u'honolulu',\n",
        "              u'Count': 11205,\n",
        "              u'User': u'woodpeck_fixbot'},\n",
        "             {u'City': u'honolulu', u'Count': 10651, u'User': u'pdunn'},\n",
        "             {u'City': u'honolulu',\n",
        "              u'Count': 10251,\n",
        "              u'User': u'Chris Lawrence'}]}\n",
        "\n",
        "{"
       ]
      },
      {
       "output_type": "stream",
       "stream": "stdout",
       "text": [
        "u'ok': 1.0,\n",
        " u'result': [{u'City': u'albuquerque',\n",
        "              u'Count': 88041,\n",
        "              u'User': u'EdHillsman'},\n",
        "             {u'City': u'albuquerque', u'Count': 37604, u'User': u'anjbe'},\n",
        "             {u'City': u'albuquerque', u'Count': 32985, u'User': u'jackbus'},\n",
        "             {u'City': u'albuquerque',\n",
        "              u'Count': 31170,\n",
        "              u'User': u'woodpeck_fixbot'},\n",
        "             {u'City': u'albuquerque',\n",
        "              u'Count': 10406,\n",
        "              u'User': u'greenv505'}]}\n"
       ]
      }
     ],
     "prompt_number": 100
    },
    {
     "cell_type": "code",
     "collapsed": false,
     "input": [
      "def make_city_pipeline(city):\n",
      "    pipeline = [{\"$match\":{\"amenity\":{\"$exists\":1},\n",
      "                                          \"city_name\":city}},\n",
      "                 {\"$group\": {\"_id\": {\"City\":\"$city_name\",\n",
      "                                    \"Amenity\":\"$amenity\"},\n",
      "                            \"count\": {\"$sum\": 1}}},\n",
      "                 {\"$project\": {'_id':0,\n",
      "                               \"City\":\"$_id.City\",\n",
      "                               \"Amenity\":\"$_id.Amenity\",\n",
      "                               \"Count\":\"$count\"}},\n",
      "                 {\"$sort\": {\"Count\": -1}},\n",
      "                 {\"$limit\" : 5 }]\n",
      "    return pipeline\n",
      "\n",
      "pipeline = make_city_pipeline('honolulu')\n",
      "result1 = map_aggregate(db, 'cities', pipeline)\n",
      "pprint.pprint(result1)\n",
      "\n",
      "print \"\"\n",
      "pipeline = make_city_pipeline('albuquerque')\n",
      "result2 = map_aggregate(db, 'cities', pipeline)\n",
      "pprint.pprint(result2)\n",
      "\n"
     ],
     "language": "python",
     "metadata": {},
     "outputs": [
      {
       "output_type": "stream",
       "stream": "stdout",
       "text": [
        "{u'ok': 1.0,\n",
        " u'result': [{u'Amenity': u'parking', u'City': u'honolulu', u'Count': 280},\n",
        "             {u'Amenity': u'restaurant', u'City': u'honolulu', u'Count': 123},\n",
        "             {u'Amenity': u'school', u'City': u'honolulu', u'Count': 79},\n",
        "             {u'Amenity': u'fast_food', u'City': u'honolulu', u'Count': 43},\n",
        "             {u'Amenity': u'cafe', u'City': u'honolulu', u'Count': 37}]}\n",
        "\n",
        "{"
       ]
      },
      {
       "output_type": "stream",
       "stream": "stdout",
       "text": [
        "u'ok': 1.0,\n",
        " u'result': [{u'Amenity': u'parking',\n",
        "              u'City': u'albuquerque',\n",
        "              u'Count': 1270},\n",
        "             {u'Amenity': u'school', u'City': u'albuquerque', u'Count': 258},\n",
        "             {u'Amenity': u'place_of_worship',\n",
        "              u'City': u'albuquerque',\n",
        "              u'Count': 227},\n",
        "             {u'Amenity': u'restaurant',\n",
        "              u'City': u'albuquerque',\n",
        "              u'Count': 221},\n",
        "             {u'Amenity': u'bicycle_parking',\n",
        "              u'City': u'albuquerque',\n",
        "              u'Count': 221}]}\n"
       ]
      }
     ],
     "prompt_number": 99
    },
    {
     "cell_type": "code",
     "collapsed": false,
     "input": [
      "def make_city_pipeline(city):\n",
      "    pipeline = [{\"$match\":{\"address.postcode\":{\"$exists\":1},\n",
      "                                          \"city_name\":city}},   \n",
      "                 {\"$group\": {\"_id\": {\"City\":\"$city_name\",\n",
      "                                     \"Zip\":\"$address.postcode\"},\n",
      "                            \"count\": {\"$sum\": 1}}},\n",
      "                 {\"$project\": {'_id':0,\n",
      "                               \"City\":\"$_id.City\",\n",
      "                               \"Zipcode\":\"$_id.Zip\",\n",
      "                               \"Count\":\"$count\"}},\n",
      "                 {\"$sort\": {\"Count\": -1}},\n",
      "                 {\"$limit\" : 1 }]\n",
      "    return pipeline\n",
      "\n",
      "pipeline = make_city_pipeline('honolulu')\n",
      "result1 = map_aggregate(db, 'cities', pipeline)\n",
      "pprint.pprint(result1)\n",
      "\n",
      "print \"\"\n",
      "pipeline = make_city_pipeline('albuquerque')\n",
      "result2 = map_aggregate(db, 'cities', pipeline)\n",
      "pprint.pprint(result2)"
     ],
     "language": "python",
     "metadata": {},
     "outputs": [
      {
       "output_type": "stream",
       "stream": "stdout",
       "text": [
        "{u'ok': 1.0,\n",
        " u'result': [{u'City': u'honolulu', u'Count': 219, u'Zipcode': 96815}]}\n",
        "\n",
        "{"
       ]
      },
      {
       "output_type": "stream",
       "stream": "stdout",
       "text": [
        "u'ok': 1.0,\n",
        " u'result': [{u'City': u'albuquerque', u'Count': 476, u'Zipcode': 87123}]}\n"
       ]
      }
     ],
     "prompt_number": 7
    },
    {
     "cell_type": "code",
     "collapsed": false,
     "input": [
      "# Total nodes/records in database.\n",
      "print \"Both Cities:\", db.cities.find().count() \n",
      "print \"Honolulu:\", db.cities.find({'city_name':'honolulu'}).count()\n",
      "print \"Albuquerque:\", db.cities.find({'city_name':'albuquerque'}).count()"
     ],
     "language": "python",
     "metadata": {},
     "outputs": [
      {
       "output_type": "stream",
       "stream": "stdout",
       "text": [
        "Both Cities: 489274\n",
        "Honolulu: "
       ]
      },
      {
       "output_type": "stream",
       "stream": "stdout",
       "text": [
        "227752\n",
        "Albuquerque: "
       ]
      },
      {
       "output_type": "stream",
       "stream": "stdout",
       "text": [
        "261522\n"
       ]
      }
     ],
     "prompt_number": 13
    },
    {
     "cell_type": "code",
     "collapsed": false,
     "input": [
      "# Number of node nodes.\n",
      "print \"Both Cities:\", db.cities.find({\"type\":\"node\"}).count()\n",
      "print \"Honolulu:\", db.cities.find({\"type\":\"node\",\n",
      "                                    'city_name':'honolulu'}).count()\n",
      "print \"Albuquerque:\", db.cities.find({\"type\":\"node\",\n",
      "                                    'city_name':'albuquerque'}).count()"
     ],
     "language": "python",
     "metadata": {},
     "outputs": [
      {
       "output_type": "stream",
       "stream": "stdout",
       "text": [
        "Both Cities: "
       ]
      },
      {
       "output_type": "stream",
       "stream": "stdout",
       "text": [
        "432587\n",
        "Honolulu: "
       ]
      },
      {
       "output_type": "stream",
       "stream": "stdout",
       "text": [
        "206262\n",
        "Albuquerque: "
       ]
      },
      {
       "output_type": "stream",
       "stream": "stdout",
       "text": [
        "226325\n"
       ]
      }
     ],
     "prompt_number": 15
    },
    {
     "cell_type": "code",
     "collapsed": false,
     "input": [
      "# Number of way nodes.\n",
      "print \"Both Cities:\", db.cities.find({'type':'way'}).count()\n",
      "print \"Honolulu:\", db.cities.find({'type':'way',\n",
      "                                  'city_name':'honolulu'}).count()\n",
      "print \"Albuquerque:\", db.cities.find({'type':'way',\n",
      "                                  'city_name':'albuquerque'}).count()"
     ],
     "language": "python",
     "metadata": {},
     "outputs": [
      {
       "output_type": "stream",
       "stream": "stdout",
       "text": [
        "Both Cities: "
       ]
      },
      {
       "output_type": "stream",
       "stream": "stdout",
       "text": [
        "56648\n",
        "Honolulu: "
       ]
      },
      {
       "output_type": "stream",
       "stream": "stdout",
       "text": [
        "21459\n",
        "Albuquerque: "
       ]
      },
      {
       "output_type": "stream",
       "stream": "stdout",
       "text": [
        "35189\n"
       ]
      }
     ],
     "prompt_number": 16
    },
    {
     "cell_type": "code",
     "collapsed": false,
     "input": [
      "# Number of constributors.\n",
      "print \"Constributors:\", len(db.cities.distinct(\"created.user\"))"
     ],
     "language": "python",
     "metadata": {},
     "outputs": [
      {
       "output_type": "stream",
       "stream": "stdout",
       "text": [
        "Constributors: "
       ]
      },
      {
       "output_type": "stream",
       "stream": "stdout",
       "text": [
        "611\n"
       ]
      }
     ],
     "prompt_number": 17
    },
    {
     "cell_type": "code",
     "collapsed": false,
     "input": [
      "## Find the most popular amenities\n",
      "def make_city_pipeline(city):\n",
      "    pipeline = [{\"$match\":{\"amenity\":{\"$exists\":1},\n",
      "                                          \"city_name\":city}},\n",
      "                       {\"$group\":{\"_id\":{\"City\":\"$city_name\",\n",
      "                                  \"Amenity\":\"$amenity\"},\n",
      "                           \"count\":{\"$sum\":1}}},\n",
      "                       {\"$project\": {'_id':0,\n",
      "                                     \"City\":\"$_id.City\",\n",
      "                                     \"Amenity\":\"$_id.Amenity\",\n",
      "                                     \"Count\":\"$count\"}},\n",
      "                       {\"$sort\":{\"Count\":-1}},\n",
      "                       {\"$limit\":10}]\n",
      "    return pipeline\n",
      "\n",
      "pipeline = make_city_pipeline('honolulu')\n",
      "result1 = map_aggregate(db, 'cities', pipeline)\n",
      "pprint.pprint(result1)\n",
      "\n",
      "print \"\"\n",
      "pipeline = make_city_pipeline('albuquerque')\n",
      "result2 = map_aggregate(db, 'cities', pipeline)\n",
      "pprint.pprint(result2)"
     ],
     "language": "python",
     "metadata": {},
     "outputs": [
      {
       "output_type": "stream",
       "stream": "stdout",
       "text": [
        "{u'ok': 1.0,\n",
        " u'result': [{u'Amenity': u'parking', u'City': u'honolulu', u'Count': 280},\n",
        "             {u'Amenity': u'restaurant', u'City': u'honolulu', u'Count': 123},\n",
        "             {u'Amenity': u'school', u'City': u'honolulu', u'Count': 79},\n",
        "             {u'Amenity': u'fast_food', u'City': u'honolulu', u'Count': 43},\n",
        "             {u'Amenity': u'cafe', u'City': u'honolulu', u'Count': 37},\n",
        "             {u'Amenity': u'fire_station',\n",
        "              u'City': u'honolulu',\n",
        "              u'Count': 36},\n",
        "             {u'Amenity': u'library', u'City': u'honolulu', u'Count': 31},\n",
        "             {u'Amenity': u'waste_basket',\n",
        "              u'City': u'honolulu',\n",
        "              u'Count': 28},\n",
        "             {u'Amenity': u'toilets', u'City': u'honolulu', u'Count': 26},\n",
        "             {u'Amenity': u'place_of_worship',\n",
        "              u'City': u'honolulu',\n",
        "              u'Count': 23}]}\n",
        "\n",
        "{"
       ]
      },
      {
       "output_type": "stream",
       "stream": "stdout",
       "text": [
        "u'ok': 1.0,\n",
        " u'result': [{u'Amenity': u'parking',\n",
        "              u'City': u'albuquerque',\n",
        "              u'Count': 1270},\n",
        "             {u'Amenity': u'school', u'City': u'albuquerque', u'Count': 258},\n",
        "             {u'Amenity': u'place_of_worship',\n",
        "              u'City': u'albuquerque',\n",
        "              u'Count': 227},\n",
        "             {u'Amenity': u'restaurant',\n",
        "              u'City': u'albuquerque',\n",
        "              u'Count': 221},\n",
        "             {u'Amenity': u'bicycle_parking',\n",
        "              u'City': u'albuquerque',\n",
        "              u'Count': 221},\n",
        "             {u'Amenity': u'fast_food',\n",
        "              u'City': u'albuquerque',\n",
        "              u'Count': 171},\n",
        "             {u'Amenity': u'fuel', u'City': u'albuquerque', u'Count': 113},\n",
        "             {u'Amenity': u'cafe', u'City': u'albuquerque', u'Count': 56},\n",
        "             {u'Amenity': u'post_box', u'City': u'albuquerque', u'Count': 53},\n",
        "             {u'Amenity': u'bank', u'City': u'albuquerque', u'Count': 46}]}\n"
       ]
      }
     ],
     "prompt_number": 85
    },
    {
     "cell_type": "code",
     "collapsed": false,
     "input": [
      "## Find the most popular places of worship\n",
      "def make_city_pipeline(city):\n",
      "    pipeline = [{\"$match\":{\"amenity\":{\"$exists\":1},\n",
      "                                  \"amenity\":\"place_of_worship\",\n",
      "                                  \"city_name\":city}},\n",
      "                       {\"$group\":{\"_id\": {\"City\":\"$city_name\",\n",
      "                                          \"Religion\":\"$religion\"},\n",
      "                                  \"count\":{\"$sum\":1}}},\n",
      "                       {\"$project\":{\"_id\":0,\n",
      "                                    \"City\":\"$_id.City\",\n",
      "                                    \"Religion\":\"$_id.Religion\",\n",
      "                                    \"Count\":\"$count\"}},\n",
      "                       {\"$sort\":{\"Count\":-1}},\n",
      "                       {\"$limit\":6}]\n",
      "    return pipeline\n",
      "\n",
      "pipeline = make_city_pipeline('honolulu')\n",
      "result1 = map_aggregate(db, 'cities', pipeline)\n",
      "pprint.pprint(result1)\n",
      "\n",
      "print \"\"\n",
      "pipeline = make_city_pipeline('albuquerque')\n",
      "result2 = map_aggregate(db, 'cities', pipeline)\n",
      "pprint.pprint(result2)"
     ],
     "language": "python",
     "metadata": {},
     "outputs": [
      {
       "output_type": "stream",
       "stream": "stdout",
       "text": [
        "{u'ok': 1.0,\n",
        " u'result': [{u'City': u'honolulu', u'Count': 14, u'Religion': u'christian'},\n",
        "             {u'City': u'honolulu', u'Count': 5, u'Religion': u'buddhist'},\n",
        "             {u'City': u'honolulu', u'Count': 3},\n",
        "             {u'City': u'honolulu', u'Count': 1, u'Religion': u'muslim'}]}\n",
        "\n",
        "{"
       ]
      },
      {
       "output_type": "stream",
       "stream": "stdout",
       "text": [
        "u'ok': 1.0,\n",
        " u'result': [{u'City': u'albuquerque',\n",
        "              u'Count': 186,\n",
        "              u'Religion': u'christian'},\n",
        "             {u'City': u'albuquerque', u'Count': 36},\n",
        "             {u'City': u'albuquerque', u'Count': 3, u'Religion': u'jewish'},\n",
        "             {u'City': u'albuquerque', u'Count': 1, u'Religion': u'buddhist'},\n",
        "             {u'City': u'albuquerque', u'Count': 1, u'Religion': u'sikh'}]}\n"
       ]
      }
     ],
     "prompt_number": 86
    },
    {
     "cell_type": "code",
     "collapsed": false,
     "input": [
      "## Find the most popular restaurants\n",
      "def make_city_pipeline(city):\n",
      "    pipeline = [{\"$match\":{\"amenity\":{\"$exists\":1},\n",
      "                                 \"amenity\":\"restaurant\",\n",
      "                                 \"city_name\":city}},\n",
      "                      {\"$group\":{\"_id\":{\"City\":\"$city_name\",\n",
      "                                        \"Food\":\"$cuisine\"},\n",
      "                                 \"count\":{\"$sum\":1}}},\n",
      "                      {\"$project\":{\"_id\":0,\n",
      "                                  \"City\":\"$_id.City\",\n",
      "                                  \"Food\":\"$_id.Food\",\n",
      "                                  \"Count\":\"$count\"}},\n",
      "                      {\"$sort\":{\"Count\":-1}}, \n",
      "                      {\"$limit\":6}]\n",
      "    return pipeline\n",
      "\n",
      "pipeline = make_city_pipeline('honolulu')\n",
      "result1 = map_aggregate(db, 'cities', pipeline)\n",
      "pprint.pprint(result1)\n",
      "\n",
      "print \"\"\n",
      "pipeline = make_city_pipeline('albuquerque')\n",
      "result2 = map_aggregate(db, 'cities', pipeline)\n",
      "pprint.pprint(result2)"
     ],
     "language": "python",
     "metadata": {},
     "outputs": [
      {
       "output_type": "stream",
       "stream": "stdout",
       "text": [
        "{u'ok': 1.0,\n",
        " u'result': [{u'City': u'honolulu', u'Count': 87},\n",
        "             {u'City': u'honolulu', u'Count': 7, u'Food': u'pizza'},\n",
        "             {u'City': u'honolulu', u'Count': 3, u'Food': u'regional'},\n",
        "             {u'City': u'honolulu', u'Count': 3, u'Food': u'japanese'},\n",
        "             {u'City': u'honolulu', u'Count': 3, u'Food': u'chinese'},\n",
        "             {u'City': u'honolulu', u'Count': 2, u'Food': u'burger'}]}\n",
        "\n",
        "{"
       ]
      },
      {
       "output_type": "stream",
       "stream": "stdout",
       "text": [
        "u'ok': 1.0,\n",
        " u'result': [{u'City': u'albuquerque', u'Count': 134},\n",
        "             {u'City': u'albuquerque', u'Count': 16, u'Food': u'mexican'},\n",
        "             {u'City': u'albuquerque', u'Count': 10, u'Food': u'pizza'},\n",
        "             {u'City': u'albuquerque', u'Count': 6, u'Food': u'american'},\n",
        "             {u'City': u'albuquerque', u'Count': 5, u'Food': u'regional'},\n",
        "             {u'City': u'albuquerque', u'Count': 4, u'Food': u'burger'}]}\n"
       ]
      }
     ],
     "prompt_number": 87
    },
    {
     "cell_type": "code",
     "collapsed": false,
     "input": [
      "## Find the most popular fast food joints\n",
      "def make_city_pipeline(city):\n",
      "    pipeline = [{\"$match\":{\"amenity\":{\"$exists\":1},\n",
      "                                 \"amenity\":\"fast_food\",\n",
      "                                 \"city_name\":city}},\n",
      "                      {\"$group\":{\"_id\":{\"City\":\"$city_name\",\n",
      "                                        \"Food\":\"$cuisine\"},\n",
      "                                 \"count\":{\"$sum\":1}}},\n",
      "                      {\"$project\":{\"_id\":0,\n",
      "                                  \"City\":\"$_id.City\",\n",
      "                                  \"Food\":\"$_id.Food\",\n",
      "                                  \"Count\":\"$count\"}},\n",
      "                      {\"$sort\":{\"Count\":-1}}, \n",
      "                      {\"$limit\":6}]\n",
      "    return pipeline\n",
      "\n",
      "pipeline = make_city_pipeline('honolulu')\n",
      "result1 = map_aggregate(db, 'cities', pipeline)\n",
      "pprint.pprint(result1)\n",
      "\n",
      "print \"\"\n",
      "pipeline = make_city_pipeline('albuquerque')\n",
      "result2 = map_aggregate(db, 'cities', pipeline)\n",
      "pprint.pprint(result2)"
     ],
     "language": "python",
     "metadata": {},
     "outputs": [
      {
       "output_type": "stream",
       "stream": "stdout",
       "text": [
        "{u'ok': 1.0,\n",
        " u'result': [{u'City': u'honolulu', u'Count': 19},\n",
        "             {u'City': u'honolulu', u'Count': 13, u'Food': u'burger'},\n",
        "             {u'City': u'honolulu', u'Count': 2, u'Food': u'sandwich'},\n",
        "             {u'City': u'honolulu', u'Count': 2, u'Food': u'sushi'},\n",
        "             {u'City': u'honolulu', u'Count': 1, u'Food': u'thai'},\n",
        "             {u'City': u'honolulu', u'Count': 1, u'Food': u'pizza'}]}\n",
        "\n",
        "{"
       ]
      },
      {
       "output_type": "stream",
       "stream": "stdout",
       "text": [
        "u'ok': 1.0,\n",
        " u'result': [{u'City': u'albuquerque', u'Count': 98},\n",
        "             {u'City': u'albuquerque', u'Count': 31, u'Food': u'burger'},\n",
        "             {u'City': u'albuquerque', u'Count': 16, u'Food': u'sandwich'},\n",
        "             {u'City': u'albuquerque', u'Count': 6, u'Food': u'pizza'},\n",
        "             {u'City': u'albuquerque', u'Count': 4, u'Food': u'mexican'},\n",
        "             {u'City': u'albuquerque', u'Count': 3, u'Food': u'chicken'}]}\n"
       ]
      }
     ],
     "prompt_number": 88
    },
    {
     "cell_type": "code",
     "collapsed": false,
     "input": [
      "## Find the names of the most popular fast food joints\n",
      "def make_city_pipeline(city):\n",
      "    pipeline = [{\"$match\":{\"amenity\":{\"$exists\":1},\n",
      "                                 \"amenity\":\"fast_food\",\n",
      "                                 \"city_name\":city}},\n",
      "                      {\"$group\":{\"_id\":{\"City\":\"$city_name\",\n",
      "                                        \"Name\":\"$name\"},\n",
      "                                 \"count\":{\"$sum\":1}}},\n",
      "                      {\"$project\":{\"_id\":0,\n",
      "                                  \"City\":\"$_id.City\",\n",
      "                                  \"Name\":\"$_id.Name\",\n",
      "                                  \"Count\":\"$count\"}},\n",
      "                      {\"$sort\":{\"Count\":-1}}, \n",
      "                      {\"$limit\":6}]\n",
      "    return pipeline\n",
      "\n",
      "pipeline = make_city_pipeline('honolulu')\n",
      "result1 = map_aggregate(db, 'cities', pipeline)\n",
      "pprint.pprint(result1)\n",
      "\n",
      "print \"\"\n",
      "pipeline = make_city_pipeline('albuquerque')\n",
      "result2 = map_aggregate(db, 'cities', pipeline)\n",
      "pprint.pprint(result2)"
     ],
     "language": "python",
     "metadata": {},
     "outputs": [
      {
       "output_type": "stream",
       "stream": "stdout",
       "text": [
        "{u'ok': 1.0,\n",
        " u'result': [{u'City': u'honolulu', u'Count': 8, u'Name': u\"McDonald's\"},\n",
        "             {u'City': u'honolulu', u'Count': 4, u'Name': u'Subway'},\n",
        "             {u'City': u'honolulu', u'Count': 3, u'Name': u'Burger King'},\n",
        "             {u'City': u'honolulu', u'Count': 2, u'Name': u'KFC'},\n",
        "             {u'City': u'honolulu',\n",
        "              u'Count': 2,\n",
        "              u'Name': u'Loco Moco Drive-Inn'},\n",
        "             {u'City': u'honolulu', u'Count': 2, u'Name': u'Taco Bell'}]}\n",
        "\n",
        "{"
       ]
      },
      {
       "output_type": "stream",
       "stream": "stdout",
       "text": [
        "u'ok': 1.0,\n",
        " u'result': [{u'City': u'albuquerque', u'Count': 23, u'Name': u'Subway'},\n",
        "             {u'City': u'albuquerque',\n",
        "              u'Count': 12,\n",
        "              u'Name': u\"Blake's Lotaburger\"},\n",
        "             {u'City': u'albuquerque', u'Count': 11, u'Name': u\"McDonald's\"},\n",
        "             {u'City': u'albuquerque', u'Count': 9, u'Name': u\"Wendy's\"},\n",
        "             {u'City': u'albuquerque', u'Count': 8, u'Name': u'Sonic'},\n",
        "             {u'City': u'albuquerque', u'Count': 7, u'Name': u'Burger King'}]}\n"
       ]
      }
     ],
     "prompt_number": 89
    },
    {
     "cell_type": "code",
     "collapsed": false,
     "input": [
      "## Find the names of the most popular fast food joints\n",
      "def make_city_pipeline(city):\n",
      "    pipeline = [{\"$match\":{\"shop\":{\"$exists\":1},\n",
      "                                          \"city_name\":city}},\n",
      "                       {\"$group\":{\"_id\":{\"City\":\"$city_name\",\n",
      "                                  \"Shop\":\"$shop\"},\n",
      "                           \"count\":{\"$sum\":1}}},\n",
      "                       {\"$project\": {'_id':0,\n",
      "                                     \"City\":\"$_id.City\",\n",
      "                                     \"Shop\":\"$_id.Shop\",\n",
      "                                     \"Count\":\"$count\"}},\n",
      "                       {\"$sort\":{\"Count\":-1}},\n",
      "                       {\"$limit\":10}]\n",
      "    return pipeline\n",
      "\n",
      "pipeline = make_city_pipeline('honolulu')\n",
      "result1 = map_aggregate(db, 'cities', pipeline)\n",
      "pprint.pprint(result1)\n",
      "\n",
      "print \"\"\n",
      "pipeline = make_city_pipeline('albuquerque')\n",
      "result2 = map_aggregate(db, 'cities', pipeline)\n",
      "pprint.pprint(result2)"
     ],
     "language": "python",
     "metadata": {},
     "outputs": [
      {
       "output_type": "stream",
       "stream": "stdout",
       "text": [
        "{u'ok': 1.0,\n",
        " u'result': [{u'City': u'honolulu', u'Count': 50, u'Shop': u'supermarket'},\n",
        "             {u'City': u'honolulu', u'Count': 24, u'Shop': u'convenience'},\n",
        "             {u'City': u'honolulu', u'Count': 18, u'Shop': u'clothes'},\n",
        "             {u'City': u'honolulu', u'Count': 7, u'Shop': u'mall'},\n",
        "             {u'City': u'honolulu', u'Count': 4, u'Shop': u'hairdresser'},\n",
        "             {u'City': u'honolulu', u'Count': 4, u'Shop': u'bakery'},\n",
        "             {u'City': u'honolulu', u'Count': 4, u'Shop': u'hifi'},\n",
        "             {u'City': u'honolulu', u'Count': 4, u'Shop': u'jewelry'},\n",
        "             {u'City': u'honolulu', u'Count': 3, u'Shop': u'sports'},\n",
        "             {u'City': u'honolulu', u'Count': 3, u'Shop': u'garden_centre'}]}\n",
        "\n",
        "{"
       ]
      },
      {
       "output_type": "stream",
       "stream": "stdout",
       "text": [
        "u'ok': 1.0,\n",
        " u'result': [{u'City': u'albuquerque', u'Count': 66, u'Shop': u'convenience'},\n",
        "             {u'City': u'albuquerque', u'Count': 46, u'Shop': u'supermarket'},\n",
        "             {u'City': u'albuquerque', u'Count': 22, u'Shop': u'car_repair'},\n",
        "             {u'City': u'albuquerque', u'Count': 18, u'Shop': u'clothes'},\n",
        "             {u'City': u'albuquerque', u'Count': 15, u'Shop': u'hairdresser'},\n",
        "             {u'City': u'albuquerque', u'Count': 14, u'Shop': u'car'},\n",
        "             {u'City': u'albuquerque',\n",
        "              u'Count': 12,\n",
        "              u'Shop': u'department_store'},\n",
        "             {u'City': u'albuquerque', u'Count': 12, u'Shop': u'furniture'},\n",
        "             {u'City': u'albuquerque', u'Count': 12, u'Shop': u'bicycle'},\n",
        "             {u'City': u'albuquerque', u'Count': 12, u'Shop': u'mall'}]}\n"
       ]
      }
     ],
     "prompt_number": 90
    },
    {
     "cell_type": "code",
     "collapsed": false,
     "input": [
      "## Find the names of the most popular supermarkets\n",
      "def make_city_pipeline(city):\n",
      "    pipeline = [{\"$match\":{\"shop\":{\"$exists\":1},\n",
      "                           \"city_name\":city,\n",
      "                           \"shop\":\"supermarket\"}},\n",
      "                       {\"$group\":{\"_id\":{\"City\":\"$city_name\",\n",
      "                                  \"Supermarket\":\"$name\"},\n",
      "                           \"count\":{\"$sum\":1}}},\n",
      "                       {\"$project\": {'_id':0,\n",
      "                                     \"City\":\"$_id.City\",\n",
      "                                     \"Supermarket\":\"$_id.Supermarket\",\n",
      "                                     \"Count\":\"$count\"}},\n",
      "                       {\"$sort\":{\"Count\":-1}},\n",
      "                       {\"$limit\":5}]\n",
      "    return pipeline\n",
      "\n",
      "pipeline = make_city_pipeline('honolulu')\n",
      "result1 = map_aggregate(db, 'cities', pipeline)\n",
      "pprint.pprint(result1)\n",
      "\n",
      "print \"\"\n",
      "pipeline = make_city_pipeline('albuquerque')\n",
      "result2 = map_aggregate(db, 'cities', pipeline)\n",
      "pprint.pprint(result2)"
     ],
     "language": "python",
     "metadata": {},
     "outputs": [
      {
       "output_type": "stream",
       "stream": "stdout",
       "text": [
        "{u'ok': 1.0,\n",
        " u'result': [{u'City': u'honolulu', u'Count': 4, u'Supermarket': u'Foodland'},\n",
        "             {u'City': u'honolulu', u'Count': 2, u'Supermarket': u'Ross'},\n",
        "             {u'City': u'honolulu',\n",
        "              u'Count': 1,\n",
        "              u'Supermarket': u'Don Quijote'},\n",
        "             {u'City': u'honolulu',\n",
        "              u'Count': 1,\n",
        "              u'Supermarket': u'Safeway 1263'},\n",
        "             {u'City': u'honolulu',\n",
        "              u'Count': 1,\n",
        "              u'Supermarket': u'Malama Market'}]}\n",
        "\n",
        "{"
       ]
      },
      {
       "output_type": "stream",
       "stream": "stdout",
       "text": [
        "u'ok': 1.0,\n",
        " u'result': [{u'City': u'albuquerque',\n",
        "              u'Count': 6,\n",
        "              u'Supermarket': u\"Smith's\"},\n",
        "             {u'City': u'albuquerque', u'Count': 5},\n",
        "             {u'City': u'albuquerque',\n",
        "              u'Count': 4,\n",
        "              u'Supermarket': u\"Albertson's\"},\n",
        "             {u'City': u'albuquerque',\n",
        "              u'Count': 2,\n",
        "              u'Supermarket': u\"Trader Joe's\"},\n",
        "             {u'City': u'albuquerque',\n",
        "              u'Count': 2,\n",
        "              u'Supermarket': u'Walmart'}]}\n"
       ]
      }
     ],
     "prompt_number": 93
    },
    {
     "cell_type": "code",
     "collapsed": false,
     "input": [
      "## Find the names of the most popular convenience stores\n",
      "def make_city_pipeline(city):\n",
      "    pipeline = [{\"$match\":{\"shop\":{\"$exists\":1},\n",
      "                           \"city_name\":city,\n",
      "                           \"shop\":\"convenience\"}},\n",
      "                       {\"$group\":{\"_id\":{\"City\":\"$city_name\",\n",
      "                                  \"Name\":\"$name\"},\n",
      "                           \"count\":{\"$sum\":1}}},\n",
      "                       {\"$project\": {'_id':0,\n",
      "                                     \"City\":\"$_id.City\",\n",
      "                                     \"Name\":\"$_id.Name\",\n",
      "                                     \"Count\":\"$count\"}},\n",
      "                       {\"$sort\":{\"Count\":-1}},\n",
      "                       {\"$limit\":5}]\n",
      "    return pipeline\n",
      "\n",
      "pipeline = make_city_pipeline('honolulu')\n",
      "result1 = map_aggregate(db, 'cities', pipeline)\n",
      "pprint.pprint(result1)\n",
      "\n",
      "print \"\"\n",
      "pipeline = make_city_pipeline('albuquerque')\n",
      "result2 = map_aggregate(db, 'cities', pipeline)\n",
      "pprint.pprint(result2)"
     ],
     "language": "python",
     "metadata": {},
     "outputs": [
      {
       "output_type": "stream",
       "stream": "stdout",
       "text": [
        "{u'ok': 1.0,\n",
        " u'result': [{u'City': u'honolulu', u'Count': 7, u'Name': u'ABC Store'},\n",
        "             {u'City': u'honolulu', u'Count': 2, u'Name': u'AT&T Store'},\n",
        "             {u'City': u'honolulu', u'Count': 1, u'Name': u'7-Eleven'},\n",
        "             {u'City': u'honolulu',\n",
        "              u'Count': 1,\n",
        "              u'Name': u'AT&T Store Kapahulu'},\n",
        "             {u'City': u'honolulu', u'Count': 1, u'Name': u'7-ELEVEN    76'}]}\n",
        "\n",
        "{"
       ]
      },
      {
       "output_type": "stream",
       "stream": "stdout",
       "text": [
        "u'ok': 1.0,\n",
        " u'result': [{u'City': u'albuquerque', u'Count': 14, u'Name': u'Circle K'},\n",
        "             {u'City': u'albuquerque', u'Count': 14},\n",
        "             {u'City': u'albuquerque', u'Count': 12, u'Name': u'7-11'},\n",
        "             {u'City': u'albuquerque', u'Count': 5, u'Name': u'Giant'},\n",
        "             {u'City': u'albuquerque', u'Count': 2, u'Name': u\"Bubba's\"}]}\n"
       ]
      }
     ],
     "prompt_number": 94
    },
    {
     "cell_type": "code",
     "collapsed": false,
     "input": [
      "## Only honolulu and alubquerque are represented in this dataset.\n",
      "def make_city_pipeline(city):\n",
      "    pipeline = [{\"$match\":{\"address.city\":{\"$exists\":1},\n",
      "                           \"city_name\":city,\n",
      "                           \"shop\":\"convenience\"}},\n",
      "                       {\"$group\":{\"_id\":{\"City\":\"$city_name\",\n",
      "                                  \"address.city\":\"$address.city\"},\n",
      "                           \"count\":{\"$sum\":1}}},\n",
      "                       {\"$project\": {'_id':0,\n",
      "                                     \"City\":\"$_id.City\",\n",
      "                                     \"Name\":\"$_id.Name\",\n",
      "                                     \"Count\":\"$count\"}},\n",
      "                       {\"$sort\":{\"Count\":-1}},\n",
      "                       {\"$limit\":5}]\n",
      "    return pipeline\n",
      "\n",
      "pipeline = make_city_pipeline('honolulu')\n",
      "result1 = map_aggregate(db, 'cities', pipeline)\n",
      "pprint.pprint(result1)\n",
      "\n",
      "print \"\"\n",
      "pipeline = make_city_pipeline('albuquerque')\n",
      "result2 = map_aggregate(db, 'cities', pipeline)\n",
      "pprint.pprint(result2)"
     ],
     "language": "python",
     "metadata": {},
     "outputs": [
      {
       "output_type": "stream",
       "stream": "stdout",
       "text": [
        "{u'ok': 1.0, u'result': [{u'City': u'honolulu', u'Count': 5}]}\n",
        "\n",
        "{"
       ]
      },
      {
       "output_type": "stream",
       "stream": "stdout",
       "text": [
        "u'ok': 1.0, u'result': [{u'City': u'albuquerque', u'Count': 4}]}\n"
       ]
      }
     ],
     "prompt_number": 18
    },
    {
     "cell_type": "code",
     "collapsed": false,
     "input": [],
     "language": "python",
     "metadata": {},
     "outputs": []
    }
   ],
   "metadata": {}
  }
 ]
}