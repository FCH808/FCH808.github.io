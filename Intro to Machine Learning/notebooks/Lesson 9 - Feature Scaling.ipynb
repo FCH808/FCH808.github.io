{
 "metadata": {
  "name": "",
  "signature": "sha256:9cf0f1f09bef38f64f7198d444dc29d1aedd48af9601275c5a0015c2204d4b70"
 },
 "nbformat": 3,
 "nbformat_minor": 0,
 "worksheets": [
  {
   "cells": [
    {
     "cell_type": "code",
     "collapsed": false,
     "input": [
      "%matplotlib inline"
     ],
     "language": "python",
     "metadata": {},
     "outputs": [],
     "prompt_number": 1
    },
    {
     "cell_type": "code",
     "collapsed": false,
     "input": [
      "(140-115) / (175-115.)"
     ],
     "language": "python",
     "metadata": {},
     "outputs": [
      {
       "metadata": {},
       "output_type": "pyout",
       "prompt_number": 3,
       "text": [
        "0.4166666666666667"
       ]
      }
     ],
     "prompt_number": 3
    },
    {
     "cell_type": "code",
     "collapsed": false,
     "input": [
      "\"\"\" quiz materials for feature scaling clustering \"\"\"\n",
      "\n",
      "### FYI, the most straightforward implementation might \n",
      "### throw a divide-by-zero error, if the min and max\n",
      "### values are the same\n",
      "### but think about this for a second--that means that every\n",
      "### data point has the same value for that feature!  \n",
      "### why would you rescale it?  Or even use it at all?\n",
      "def featureScaling(arr):\n",
      "    if set(arr) == 1:\n",
      "        return \"All data points are the same value!\"\n",
      "    scaled = [(float(x)-min(arr)) / (max(arr) - min(arr)) for x in arr]\n",
      "    return scaled\n",
      "\n",
      "# tests of your feature scaler--line below is input data\n",
      "data = [115, 140, 175]\n",
      "print featureScaling(data)\n"
     ],
     "language": "python",
     "metadata": {},
     "outputs": [
      {
       "output_type": "stream",
       "stream": "stdout",
       "text": [
        "[0.0, 0.4166666666666667, 1.0]\n"
       ]
      }
     ],
     "prompt_number": 5
    },
    {
     "cell_type": "code",
     "collapsed": false,
     "input": [
      "from sklearn.preprocessing import MinMaxScaler\n",
      "import numpy\n",
      "\n",
      "scaler = MinMaxScaler()"
     ],
     "language": "python",
     "metadata": {},
     "outputs": [],
     "prompt_number": 11
    },
    {
     "cell_type": "code",
     "collapsed": false,
     "input": [
      "weights = numpy.array([[115.], [140.], [175.]])"
     ],
     "language": "python",
     "metadata": {},
     "outputs": [],
     "prompt_number": 12
    },
    {
     "cell_type": "code",
     "collapsed": false,
     "input": [
      "rescaled_weight = scaler.fit_transform(weights)"
     ],
     "language": "python",
     "metadata": {},
     "outputs": [],
     "prompt_number": 14
    },
    {
     "cell_type": "code",
     "collapsed": false,
     "input": [
      "rescaled_weight"
     ],
     "language": "python",
     "metadata": {},
     "outputs": [
      {
       "metadata": {},
       "output_type": "pyout",
       "prompt_number": 15,
       "text": [
        "array([[ 0.        ],\n",
        "       [ 0.41666667],\n",
        "       [ 1.        ]])"
       ]
      }
     ],
     "prompt_number": 15
    },
    {
     "cell_type": "code",
     "collapsed": false,
     "input": [
      "%load ../ud120-projects/k_means/k_means_cluster.py"
     ],
     "language": "python",
     "metadata": {},
     "outputs": [],
     "prompt_number": 16
    },
    {
     "cell_type": "code",
     "collapsed": false,
     "input": [
      "#!/usr/bin/python \n",
      "\n",
      "\"\"\" \n",
      "    skeleton code for k-means clustering mini-project\n",
      "\n",
      "\"\"\"\n",
      "\n",
      "\n",
      "\n",
      "\n",
      "import pickle\n",
      "import numpy\n",
      "import matplotlib.pyplot as plt\n",
      "import sys\n",
      "sys.path.append(\"../ud120-projects/tools/\")\n",
      "from feature_format import featureFormat, targetFeatureSplit\n",
      "\n",
      "\n",
      "\n",
      "\n",
      "def Draw(pred, features, poi, mark_poi=False, name=\"image.png\", f1_name=\"feature 1\", f2_name=\"feature 2\"):\n",
      "    \"\"\" some plotting code designed to help you visualize your clusters \"\"\"\n",
      "\n",
      "    ### plot each cluster with a different color--add more colors for\n",
      "    ### drawing more than 4 clusters\n",
      "    colors = [\"b\", \"c\", \"k\", \"m\", \"g\"]\n",
      "    for ii, pp in enumerate(pred):\n",
      "        plt.scatter(features[ii][0], features[ii][1], color = colors[pred[ii]])\n",
      "\n",
      "    ### if you like, place red stars over points that are POIs (just for funsies)\n",
      "    if mark_poi:\n",
      "        for ii, pp in enumerate(pred):\n",
      "            if poi[ii]:\n",
      "                plt.scatter(features[ii][0], features[ii][1], color=\"r\", marker=\"*\")\n",
      "    plt.xlabel(f1_name)\n",
      "    plt.ylabel(f2_name)\n",
      "    plt.savefig(name)\n",
      "    plt.show()\n",
      "\n",
      "\n",
      "\n",
      "### load in the dict of dicts containing all the data on each person in the dataset\n",
      "data_dict = pickle.load( open(\"../ud120-projects/final_project/final_project_dataset.pkl\", \"r\") )\n",
      "### there's an outlier--remove it! \n",
      "data_dict.pop(\"TOTAL\", 0)\n",
      "\n",
      "\n",
      "### the input features we want to use \n",
      "### can be any key in the person-level dictionary (salary, director_fees, etc.) \n",
      "feature_1 = \"salary\"\n",
      "feature_2 = \"exercised_stock_options\"\n",
      "poi  = \"poi\"\n",
      "features_list = [poi, feature_1, feature_2]\n",
      "data = featureFormat(data_dict, features_list )\n",
      "poi, finance_features = targetFeatureSplit( data )\n",
      "\n",
      "\n",
      "### in the \"clustering with 3 features\" part of the mini-project,\n",
      "### you'll want to change this line to \n",
      "### for f1, f2, _ in finance_features:\n",
      "### (as it's currently written, line below assumes 2 features)\n",
      "for f1, f2 in finance_features:\n",
      "    plt.scatter( f1, f2 )\n",
      "plt.show()\n",
      "\n",
      "\n",
      "\n",
      "from sklearn.cluster import KMeans\n",
      "from sklearn.preprocessing import MinMaxScaler\n",
      "scaler = MinMaxScaler()\n",
      "features_list = [\"poi\", feature_1, feature_2]\n",
      "data2 = featureFormat(data_dict, features_list )\n",
      "poi, finance_features = targetFeatureSplit( data2 )\n",
      "scaled_finance_features = scaler.fit_transform(finance_features)\n",
      "clf = KMeans(n_clusters=2)\n",
      "pred = clf.fit_predict( scaled_finance_features )\n",
      "Draw(pred, finance_features, poi, name=\"clusters_before_scaling.pdf\", f1_name=feature_1, f2_name=feature_2)\n",
      "\n",
      "\n",
      "### cluster here; create predictions of the cluster labels\n",
      "### for the data and store them to a list called pred\n",
      "\n",
      "try:\n",
      "    Draw(pred, finance_features, poi, mark_poi=False, name=\"clusters.pdf\", f1_name=feature_1, f2_name=feature_2)\n",
      "except NameError:\n",
      "    print \"no predictions object named pred found, no clusters to plot\"\n",
      "\n",
      "\n",
      "\n",
      "\n",
      "\n"
     ],
     "language": "python",
     "metadata": {},
     "outputs": [
      {
       "metadata": {},
       "output_type": "display_data",
       "png": "[encoded data removed]",
       "text": [
        "<matplotlib.figure.Figure at 0x15c6d438>"
       ]
      },
      {
       "metadata": {},
       "output_type": "display_data",
       "png": "[encoded data removed]",
       "text": [
        "<matplotlib.figure.Figure at 0x14066a90>"
       ]
      },
      {
       "metadata": {},
       "output_type": "display_data",
       "png": "[encoded data removed]",
       "text": [
        "<matplotlib.figure.Figure at 0x14c77cf8>"
       ]
      }
     ],
     "prompt_number": 29
    },
    {
     "cell_type": "code",
     "collapsed": false,
     "input": [
      "import numpy as np\n",
      "np.min(finance_features, axis=0)\n",
      "temp_arr = np.max(finance_features, axis=0)"
     ],
     "language": "python",
     "metadata": {},
     "outputs": [],
     "prompt_number": 49
    },
    {
     "cell_type": "code",
     "collapsed": false,
     "input": [
      "temp_arr = np.vstack([temp_arr, [[0.,0.], [200000, 1000000]] ])"
     ],
     "language": "python",
     "metadata": {},
     "outputs": [],
     "prompt_number": 50
    },
    {
     "cell_type": "code",
     "collapsed": false,
     "input": [
      "scaler.fit_transform(temp_arr)"
     ],
     "language": "python",
     "metadata": {},
     "outputs": [
      {
       "metadata": {},
       "output_type": "pyout",
       "prompt_number": 51,
       "text": [
        "array([[ 1.        ,  1.        ],\n",
        "       [ 0.        ,  0.        ],\n",
        "       [ 0.17997621,  0.02911345]])"
       ]
      }
     ],
     "prompt_number": 51
    },
    {
     "cell_type": "code",
     "collapsed": false,
     "input": [],
     "language": "python",
     "metadata": {},
     "outputs": []
    }
   ],
   "metadata": {}
  }
 ]
}