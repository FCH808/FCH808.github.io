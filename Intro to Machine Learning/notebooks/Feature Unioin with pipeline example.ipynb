{
 "metadata": {
  "name": "",
  "signature": "sha256:47bc50778f2d7ceb0143a951f5cf75f23c78a7773e59f8a31e5f785c080bee2a"
 },
 "nbformat": 3,
 "nbformat_minor": 0,
 "worksheets": [
  {
   "cells": [
    {
     "cell_type": "code",
     "collapsed": false,
     "input": [
      "from sklearn.pipeline import Pipeline, FeatureUnion\n",
      "from sklearn.grid_search import GridSearchCV\n",
      "from sklearn.svm import SVC\n",
      "from sklearn.datasets import load_iris\n",
      "from sklearn.decomposition import PCA\n",
      "from sklearn.feature_selection import SelectKBest"
     ],
     "language": "python",
     "metadata": {},
     "outputs": [],
     "prompt_number": 1
    },
    {
     "cell_type": "code",
     "collapsed": false,
     "input": [
      "iris = load_iris()\n",
      "\n",
      "X, y = iris.data, iris.target"
     ],
     "language": "python",
     "metadata": {},
     "outputs": [],
     "prompt_number": 2
    },
    {
     "cell_type": "code",
     "collapsed": false,
     "input": [
      "# This dataset is way to high-dimensional. Better do PCA:\n",
      "pca = PCA(n_components=2)"
     ],
     "language": "python",
     "metadata": {},
     "outputs": [],
     "prompt_number": 3
    },
    {
     "cell_type": "code",
     "collapsed": false,
     "input": [
      "# Maybe some original features where good, too?\n",
      "selection = SelectKBest(k=1)"
     ],
     "language": "python",
     "metadata": {},
     "outputs": [],
     "prompt_number": 4
    },
    {
     "cell_type": "code",
     "collapsed": false,
     "input": [
      "# Build estimator from PCA and Univariate selection:\n",
      "\n",
      "combined_features = FeatureUnion([(\"pca\", pca), (\"univ_select\", selection)])"
     ],
     "language": "python",
     "metadata": {},
     "outputs": [],
     "prompt_number": 5
    },
    {
     "cell_type": "code",
     "collapsed": false,
     "input": [
      "# Use combined features to transform dataset:\n",
      "X_features = combined_features.fit(X, y).transform(X)"
     ],
     "language": "python",
     "metadata": {},
     "outputs": [],
     "prompt_number": 6
    },
    {
     "cell_type": "code",
     "collapsed": false,
     "input": [
      "# Classify:\n",
      "svm = SVC(kernel=\"linear\")\n",
      "svm.fit(X_features, y)"
     ],
     "language": "python",
     "metadata": {},
     "outputs": [
      {
       "metadata": {},
       "output_type": "pyout",
       "prompt_number": 7,
       "text": [
        "SVC(C=1.0, cache_size=200, class_weight=None, coef0=0.0, degree=3, gamma=0.0,\n",
        "  kernel='linear', max_iter=-1, probability=False, random_state=None,\n",
        "  shrinking=True, tol=0.001, verbose=False)"
       ]
      }
     ],
     "prompt_number": 7
    },
    {
     "cell_type": "code",
     "collapsed": false,
     "input": [
      "# Do grid search over k, n_components and C:\n",
      "\n",
      "pipeline = Pipeline([(\"features\", combined_features), (\"svm\", svm)])\n",
      "\n",
      "param_grid = dict(features__pca__n_components=[1, 2, 3],\n",
      "                  features__univ_select__k=[1, 2],\n",
      "                  svm__C=[0.1, 1, 10])\n",
      "\n",
      "grid_search = GridSearchCV(pipeline, param_grid=param_grid, verbose=10)\n",
      "grid_search.fit(X, y)"
     ],
     "language": "python",
     "metadata": {},
     "outputs": [
      {
       "output_type": "stream",
       "stream": "stdout",
       "text": [
        "Fitting 3 folds for each of 18 candidates, totalling 54 fits\n",
        "[CV] features__pca__n_components=1, svm__C=0.1, features__univ_select__k=1 \n",
        "[CV]  features__pca__n_components=1, svm__C=0.1, features__univ_select__k=1, score=0.960784 -   0.0s\n",
        "[CV] features__pca__n_components=1, svm__C=0.1, features__univ_select__k=1 \n",
        "[CV]  features__pca__n_components=1, svm__C=0.1, features__univ_select__k=1, score=0.901961 -   0.0s\n",
        "[CV] features__pca__n_components=1, svm__C=0.1, features__univ_select__k=1 \n",
        "[CV]  features__pca__n_components=1, svm__C=0.1, features__univ_select__k=1, score=0.979167 -   0.0s\n",
        "[CV] features__pca__n_components=1, svm__C=1, features__univ_select__k=1 \n",
        "[CV]  features__pca__n_components=1, svm__C=1, features__univ_select__k=1, score=0.941176 -   0.0s\n",
        "[CV] features__pca__n_components=1, svm__C=1, features__univ_select__k=1 \n",
        "[CV]  features__pca__n_components=1, svm__C=1, features__univ_select__k=1, score=0.921569 -   0.0s\n",
        "[CV] features__pca__n_components=1, svm__C=1, features__univ_select__k=1 \n",
        "[CV]  features__pca__n_components=1, svm__C=1, features__univ_select__k=1, score=0.979167 -   0.0s\n",
        "[CV] features__pca__n_components=1, svm__C=10, features__univ_select__k=1 \n",
        "[CV]  features__pca__n_components=1, svm__C=10, features__univ_select__k=1, score=0.960784 -   0.0s\n",
        "[CV] features__pca__n_components=1, svm__C=10, features__univ_select__k=1 \n",
        "[CV]  features__pca__n_components=1, svm__C=10, features__univ_select__k=1, score=0.921569 -   0.0s\n",
        "[CV] features__pca__n_components=1, svm__C=10, features__univ_select__k=1 \n",
        "[CV]  features__pca__n_components=1, svm__C=10, features__univ_select__k=1, score=0.979167 -   0.0s\n",
        "[CV] features__pca__n_components=1, svm__C=0.1, features__univ_select__k=2 \n",
        "[CV]  features__pca__n_components=1, svm__C=0.1, features__univ_select__k=2, score=0.960784 -   0.0s\n",
        "[CV] features__pca__n_components=1, svm__C=0.1, features__univ_select__k=2 \n",
        "[CV]  features__pca__n_components=1, svm__C=0.1, features__univ_select__k=2, score=0.921569 -   0.0s\n",
        "[CV] features__pca__n_components=1, svm__C=0.1, features__univ_select__k=2 \n",
        "[CV]  features__pca__n_components=1, svm__C=0.1, features__univ_select__k=2, score=0.979167 -   0.0s\n",
        "[CV] features__pca__n_components=1, svm__C=1, features__univ_select__k=2 \n",
        "[CV]  features__pca__n_components=1, svm__C=1, features__univ_select__k=2, score=0.960784 -   0.0s\n",
        "[CV] features__pca__n_components=1, svm__C=1, features__univ_select__k=2 \n",
        "[CV]  features__pca__n_components=1, svm__C=1, features__univ_select__k=2, score=0.921569 -   0.0s\n",
        "[CV] features__pca__n_components=1, svm__C=1, features__univ_select__k=2 \n",
        "[CV]  features__pca__n_components=1, svm__C=1, features__univ_select__k=2, score=1.000000 -   0.0s\n",
        "[CV] features__pca__n_components=1, svm__C=10, features__univ_select__k=2 \n",
        "[CV]  features__pca__n_components=1, svm__C=10, features__univ_select__k=2, score=0.980392 -   0.0s\n",
        "[CV] features__pca__n_components=1, svm__C=10, features__univ_select__k=2 \n",
        "[CV]  features__pca__n_components=1, svm__C=10, features__univ_select__k=2, score=0.901961 -   0.0s\n",
        "[CV] features__pca__n_components=1, svm__C=10, features__univ_select__k=2 \n",
        "[CV]  features__pca__n_components=1, svm__C=10, features__univ_select__k=2, score=1.000000 -   0.0s\n",
        "[CV] features__pca__n_components=2, svm__C=0.1, features__univ_select__k=1 \n",
        "[CV]  features__pca__n_components=2, svm__C=0.1, features__univ_select__k=1, score=0.960784 -   0.0s"
       ]
      },
      {
       "output_type": "stream",
       "stream": "stderr",
       "text": [
        "[Parallel(n_jobs=1)]: Done   1 jobs       | elapsed:    0.0s\n",
        "[Parallel(n_jobs=1)]: Done   2 jobs       | elapsed:    0.0s\n",
        "[Parallel(n_jobs=1)]: Done   5 jobs       | elapsed:    0.0s\n",
        "[Parallel(n_jobs=1)]: Done   8 jobs       | elapsed:    0.0s\n",
        "[Parallel(n_jobs=1)]: Done  13 jobs       | elapsed:    0.0s\n",
        "[Parallel(n_jobs=1)]: Done  18 jobs       | elapsed:    0.0s\n",
        "[Parallel(n_jobs=1)]: Done  25 jobs       | elapsed:    0.0s\n"
       ]
      },
      {
       "output_type": "stream",
       "stream": "stdout",
       "text": [
        "\n",
        "[CV] features__pca__n_components=2, svm__C=0.1, features__univ_select__k=1 \n",
        "[CV]  features__pca__n_components=2, svm__C=0.1, features__univ_select__k=1, score=0.901961 -   0.0s\n",
        "[CV] features__pca__n_components=2, svm__C=0.1, features__univ_select__k=1 \n",
        "[CV]  features__pca__n_components=2, svm__C=0.1, features__univ_select__k=1, score=0.979167 -   0.0s\n",
        "[CV] features__pca__n_components=2, svm__C=1, features__univ_select__k=1 \n",
        "[CV]  features__pca__n_components=2, svm__C=1, features__univ_select__k=1, score=0.980392 -   0.0s\n",
        "[CV] features__pca__n_components=2, svm__C=1, features__univ_select__k=1 \n",
        "[CV]  features__pca__n_components=2, svm__C=1, features__univ_select__k=1, score=0.941176 -   0.0s\n",
        "[CV] features__pca__n_components=2, svm__C=1, features__univ_select__k=1 \n",
        "[CV]  features__pca__n_components=2, svm__C=1, features__univ_select__k=1, score=0.979167 -   0.0s\n",
        "[CV] features__pca__n_components=2, svm__C=10, features__univ_select__k=1 \n",
        "[CV]  features__pca__n_components=2, svm__C=10, features__univ_select__k=1, score=0.980392 -   0.0s\n",
        "[CV] features__pca__n_components=2, svm__C=10, features__univ_select__k=1 \n",
        "[CV]  features__pca__n_components=2, svm__C=10, features__univ_select__k=1, score=0.941176 -   0.0s\n",
        "[CV] features__pca__n_components=2, svm__C=10, features__univ_select__k=1 \n",
        "[CV]  features__pca__n_components=2, svm__C=10, features__univ_select__k=1, score=0.979167 -   0.0s\n",
        "[CV] features__pca__n_components=2, svm__C=0.1, features__univ_select__k=2 \n",
        "[CV]  features__pca__n_components=2, svm__C=0.1, features__univ_select__k=2, score=0.980392 -   0.0s\n",
        "[CV] features__pca__n_components=2, svm__C=0.1, features__univ_select__k=2 \n",
        "[CV]  features__pca__n_components=2, svm__C=0.1, features__univ_select__k=2, score=0.941176 -   0.0s\n",
        "[CV] features__pca__n_components=2, svm__C=0.1, features__univ_select__k=2 \n",
        "[CV]  features__pca__n_components=2, svm__C=0.1, features__univ_select__k=2, score=0.979167 -   0.0s\n",
        "[CV] features__pca__n_components=2, svm__C=1, features__univ_select__k=2 \n",
        "[CV]  features__pca__n_components=2, svm__C=1, features__univ_select__k=2, score=1.000000 -   0.0s\n",
        "[CV] features__pca__n_components=2, svm__C=1, features__univ_select__k=2 \n",
        "[CV]  features__pca__n_components=2, svm__C=1, features__univ_select__k=2, score=0.960784 -   0.0s\n",
        "[CV] features__pca__n_components=2, svm__C=1, features__univ_select__k=2 \n",
        "[CV]  features__pca__n_components=2, svm__C=1, features__univ_select__k=2, score=0.979167 -   0.0s\n",
        "[CV] features__pca__n_components=2, svm__C=10, features__univ_select__k=2 \n",
        "[CV]  features__pca__n_components=2, svm__C=10, features__univ_select__k=2, score=0.980392 -   0.0s\n",
        "[CV] features__pca__n_components=2, svm__C=10, features__univ_select__k=2 \n",
        "[CV]  features__pca__n_components=2, svm__C=10, features__univ_select__k=2, score=0.921569 -   0.0s\n",
        "[CV] features__pca__n_components=2, svm__C=10, features__univ_select__k=2 \n",
        "[CV]  features__pca__n_components=2, svm__C=10, features__univ_select__k=2, score=1.000000 -   0.0s\n",
        "[CV] features__pca__n_components=3, svm__C=0.1, features__univ_select__k=1 \n",
        "[CV]  features__pca__n_components=3, svm__C=0.1, features__univ_select__k=1, score=0.980392 -   0.0s\n",
        "[CV] features__pca__n_components=3, svm__C=0.1, features__univ_select__k=1 \n",
        "[CV]  features__pca__n_components=3, svm__C=0.1, features__univ_select__k=1, score=0.941176 -   0.0s\n",
        "[CV] features__pca__n_components=3, svm__C=0.1, features__univ_select__k=1 \n",
        "[CV]  features__pca__n_components=3, svm__C=0.1, features__univ_select__k=1, score=0.979167 -   0.0s"
       ]
      },
      {
       "output_type": "stream",
       "stream": "stderr",
       "text": [
        "[Parallel(n_jobs=1)]: Done  32 jobs       | elapsed:    0.0s\n",
        "[Parallel(n_jobs=1)]: Done  41 jobs       | elapsed:    0.0s\n",
        "[Parallel(n_jobs=1)]: Done  50 jobs       | elapsed:    0.0s\n",
        "[Parallel(n_jobs=1)]: Done  54 out of  54 | elapsed:    0.0s finished\n"
       ]
      },
      {
       "output_type": "stream",
       "stream": "stdout",
       "text": [
        "\n",
        "[CV] features__pca__n_components=3, svm__C=1, features__univ_select__k=1 \n",
        "[CV]  features__pca__n_components=3, svm__C=1, features__univ_select__k=1, score=1.000000 -   0.0s\n",
        "[CV] features__pca__n_components=3, svm__C=1, features__univ_select__k=1 \n",
        "[CV]  features__pca__n_components=3, svm__C=1, features__univ_select__k=1, score=0.941176 -   0.0s\n",
        "[CV] features__pca__n_components=3, svm__C=1, features__univ_select__k=1 \n",
        "[CV]  features__pca__n_components=3, svm__C=1, features__univ_select__k=1, score=0.979167 -   0.0s\n",
        "[CV] features__pca__n_components=3, svm__C=10, features__univ_select__k=1 \n",
        "[CV]  features__pca__n_components=3, svm__C=10, features__univ_select__k=1, score=1.000000 -   0.0s\n",
        "[CV] features__pca__n_components=3, svm__C=10, features__univ_select__k=1 \n",
        "[CV]  features__pca__n_components=3, svm__C=10, features__univ_select__k=1, score=0.921569 -   0.0s\n",
        "[CV] features__pca__n_components=3, svm__C=10, features__univ_select__k=1 \n",
        "[CV]  features__pca__n_components=3, svm__C=10, features__univ_select__k=1, score=1.000000 -   0.0s\n",
        "[CV] features__pca__n_components=3, svm__C=0.1, features__univ_select__k=2 \n",
        "[CV]  features__pca__n_components=3, svm__C=0.1, features__univ_select__k=2, score=0.980392 -   0.0s\n",
        "[CV] features__pca__n_components=3, svm__C=0.1, features__univ_select__k=2 \n",
        "[CV]  features__pca__n_components=3, svm__C=0.1, features__univ_select__k=2, score=0.941176 -   0.0s\n",
        "[CV] features__pca__n_components=3, svm__C=0.1, features__univ_select__k=2 \n",
        "[CV]  features__pca__n_components=3, svm__C=0.1, features__univ_select__k=2, score=0.979167 -   0.0s\n",
        "[CV] features__pca__n_components=3, svm__C=1, features__univ_select__k=2 \n",
        "[CV]  features__pca__n_components=3, svm__C=1, features__univ_select__k=2, score=1.000000 -   0.0s\n",
        "[CV] features__pca__n_components=3, svm__C=1, features__univ_select__k=2 \n",
        "[CV]  features__pca__n_components=3, svm__C=1, features__univ_select__k=2, score=0.960784 -   0.0s\n",
        "[CV] features__pca__n_components=3, svm__C=1, features__univ_select__k=2 \n",
        "[CV]  features__pca__n_components=3, svm__C=1, features__univ_select__k=2, score=0.979167 -   0.0s\n",
        "[CV] features__pca__n_components=3, svm__C=10, features__univ_select__k=2 \n",
        "[CV]  features__pca__n_components=3, svm__C=10, features__univ_select__k=2, score=1.000000 -   0.0s\n",
        "[CV] features__pca__n_components=3, svm__C=10, features__univ_select__k=2 \n",
        "[CV]  features__pca__n_components=3, svm__C=10, features__univ_select__k=2, score=0.921569 -   0.0s\n",
        "[CV] features__pca__n_components=3, svm__C=10, features__univ_select__k=2 \n",
        "[CV]  features__pca__n_components=3, svm__C=10, features__univ_select__k=2, score=1.000000 -   0.0s\n"
       ]
      },
      {
       "metadata": {},
       "output_type": "pyout",
       "prompt_number": 10,
       "text": [
        "GridSearchCV(cv=None,\n",
        "       estimator=Pipeline(steps=[('features', FeatureUnion(n_jobs=1,\n",
        "       transformer_list=[('pca', PCA(copy=True, n_components=2, whiten=False)), ('univ_select', SelectKBest(k=1, score_func=<function f_classif at 0x0000000012D4CB38>))],\n",
        "       transformer_weights=None)), ('svm', SVC(C=1.0, cache_size=200, class_weight=None, coef0=0.0, degree=3, gamma=0.0,\n",
        "  kernel='linear', max_iter=-1, probability=False, random_state=None,\n",
        "  shrinking=True, tol=0.001, verbose=False))]),\n",
        "       fit_params={}, iid=True, loss_func=None, n_jobs=1,\n",
        "       param_grid={'features__pca__n_components': [1, 2, 3], 'svm__C': [0.1, 1, 10], 'features__univ_select__k': [1, 2]},\n",
        "       pre_dispatch='2*n_jobs', refit=True, score_func=None, scoring=None,\n",
        "       verbose=10)"
       ]
      }
     ],
     "prompt_number": 10
    },
    {
     "cell_type": "code",
     "collapsed": false,
     "input": [
      "print(grid_search.best_estimator_)"
     ],
     "language": "python",
     "metadata": {},
     "outputs": [
      {
       "output_type": "stream",
       "stream": "stdout",
       "text": [
        "Pipeline(steps=[('features', FeatureUnion(n_jobs=1,\n",
        "       transformer_list=[('pca', PCA(copy=True, n_components=2, whiten=False)), ('univ_select', SelectKBest(k=2, score_func=<function f_classif at 0x0000000012D4CB38>))],\n",
        "       transformer_weights=None)), ('svm', SVC(C=1, cache_size=200, class_weight=None, coef0=0.0, degree=3, gamma=0.0,\n",
        "  kernel='linear', max_iter=-1, probability=False, random_state=None,\n",
        "  shrinking=True, tol=0.001, verbose=False))])\n"
       ]
      }
     ],
     "prompt_number": 11
    },
    {
     "cell_type": "code",
     "collapsed": false,
     "input": [],
     "language": "python",
     "metadata": {},
     "outputs": [],
     "prompt_number": 11
    },
    {
     "cell_type": "code",
     "collapsed": false,
     "input": [],
     "language": "python",
     "metadata": {},
     "outputs": []
    }
   ],
   "metadata": {}
  }
 ]
}