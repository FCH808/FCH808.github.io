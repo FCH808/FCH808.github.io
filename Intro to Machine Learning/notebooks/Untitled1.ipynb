{
 "metadata": {
  "name": "",
  "signature": "sha256:785dc4a95d4472d2257f2cd8465e30d69ce57f4d5828b1de3a100f70c8c6aff0"
 },
 "nbformat": 3,
 "nbformat_minor": 0,
 "worksheets": [
  {
   "cells": [
    {
     "cell_type": "markdown",
     "metadata": {},
     "source": [
      "### Version 2\n",
      "\n",
      "1. Split Stratified K-fold folds\n",
      "2. Define sets of model parameters values to evaluate\n",
      "2. For each k-fold resampling iteration DO\n",
      "  1. For each parameter set in grid search DO\n",
      "    1. Hold-out 1/k samples/fold\n",
      "    2. Pre-Process Data (Create functions on training set, apply to test set with same)\n",
      "        1. Impute data (median)\n",
      "        2. Scale features (x_i - mean))/std\n",
      "        3. Perform any univariate feature selection (remove very low variation features)\n",
      "        4. Modeling feature selection (ExtraTreesClassifier) \n",
      "    3. Fit the model on the k/K training fold\n",
      "    4. Predict the hold-out samples/fold\n",
      "  2. END\n",
      "  3. Calculate the average performance across hold-out predictions\n",
      "3. END\n",
      "4. Determine the optimal parameter set from all K-folds\n",
      "5. Fit the final model to all training data using the optimal parameter set"
     ]
    },
    {
     "cell_type": "code",
     "collapsed": false,
     "input": [],
     "language": "python",
     "metadata": {},
     "outputs": []
    }
   ],
   "metadata": {}
  }
 ]
}