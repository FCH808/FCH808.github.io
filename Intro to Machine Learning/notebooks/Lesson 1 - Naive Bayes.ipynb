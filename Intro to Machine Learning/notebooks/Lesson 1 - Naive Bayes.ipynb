{
 "metadata": {
  "name": "",
  "signature": "sha256:9dd14f71c47156df53ea172511db375f11eb34601933d27d449a69e8e65326e4"
 },
 "nbformat": 3,
 "nbformat_minor": 0,
 "worksheets": [
  {
   "cells": [
    {
     "cell_type": "code",
     "collapsed": false,
     "input": [
      "from sklearn.naive_bayes import GaussianNB\n",
      "import numpy as np\n",
      "%matplotlib inline\n",
      "import os\n",
      "import pprint"
     ],
     "language": "python",
     "metadata": {},
     "outputs": [],
     "prompt_number": 1
    },
    {
     "cell_type": "markdown",
     "metadata": {},
     "source": [
      "### GaussianNB Deployment on Terrain Data"
     ]
    },
    {
     "cell_type": "code",
     "collapsed": false,
     "input": [
      "%load scripts/class_vis.py"
     ],
     "language": "python",
     "metadata": {},
     "outputs": [],
     "prompt_number": 3
    },
    {
     "cell_type": "code",
     "collapsed": false,
     "input": [
      "#!/usr/bin/python\n",
      "\n",
      "#from udacityplots import *\n",
      "import matplotlib \n",
      "matplotlib.use('agg')\n",
      "\n",
      "import matplotlib.pyplot as plt\n",
      "import pylab as pl\n",
      "import numpy as np\n",
      "\n",
      "#import numpy as np\n",
      "#import matplotlib.pyplot as plt\n",
      "#plt.ioff()\n",
      "\n",
      "def prettyPicture(clf, X_test, y_test):\n",
      "    x_min = 0.0; x_max = 1.0\n",
      "    y_min = 0.0; y_max = 1.0\n",
      "\n",
      "    # Plot the decision boundary. For that, we will assign a color to each\n",
      "    # point in the mesh [x_min, m_max]x[y_min, y_max].\n",
      "    h = .01  # step size in the mesh\n",
      "    xx, yy = np.meshgrid(np.arange(x_min, x_max, h), np.arange(y_min, y_max, h))\n",
      "    Z = clf.predict(np.c_[xx.ravel(), yy.ravel()])\n",
      "\n",
      "    # Put the result into a color plot\n",
      "    Z = Z.reshape(xx.shape)\n",
      "    plt.xlim(xx.min(), xx.max())\n",
      "    plt.ylim(yy.min(), yy.max())\n",
      "\n",
      "    plt.pcolormesh(xx, yy, Z, cmap=pl.cm.seismic)\n",
      "\n",
      "    # Plot also the test points\n",
      "    grade_sig = [X_test[ii][0] for ii in range(0, len(X_test)) if y_test[ii]==0]\n",
      "    bumpy_sig = [X_test[ii][1] for ii in range(0, len(X_test)) if y_test[ii]==0]\n",
      "    grade_bkg = [X_test[ii][0] for ii in range(0, len(X_test)) if y_test[ii]==1]\n",
      "    bumpy_bkg = [X_test[ii][1] for ii in range(0, len(X_test)) if y_test[ii]==1]\n",
      "\n",
      "    plt.scatter(grade_sig, bumpy_sig, color = \"b\", label=\"fast\")\n",
      "    plt.scatter(grade_bkg, bumpy_bkg, color = \"r\", label=\"slow\")\n",
      "    plt.legend()\n",
      "    plt.xlabel(\"bumpiness\")\n",
      "    plt.ylabel(\"grade\")\n",
      "    plt.show()\n",
      "    #plt.savefig(\"test.png\")\n",
      "    \n",
      "import base64\n",
      "import json\n",
      "import subprocess\n",
      "\n",
      "def output_image(name, format, bytes):\n",
      "    image_start = \"BEGIN_IMAGE_f9825uweof8jw9fj4r8\"\n",
      "    image_end = \"END_IMAGE_0238jfw08fjsiufhw8frs\"\n",
      "    data = {}\n",
      "    data['name'] = name\n",
      "    data['format'] = format\n",
      "    data['bytes'] = base64.encodestring(bytes)\n",
      "    print image_start+json.dumps(data)+image_end"
     ],
     "language": "python",
     "metadata": {},
     "outputs": [
      {
       "output_type": "stream",
       "stream": "stderr",
       "text": [
        "c:\\Users\\fch80_000\\Anaconda\\lib\\site-packages\\matplotlib\\__init__.py:1256: UserWarning:  This call to matplotlib.use() has no effect\n",
        "because the backend has already been chosen;\n",
        "matplotlib.use() must be called *before* pylab, matplotlib.pyplot,\n",
        "or matplotlib.backends is imported for the first time.\n",
        "\n",
        "  warnings.warn(_use_error_msg)\n"
       ]
      }
     ],
     "prompt_number": 2
    },
    {
     "cell_type": "code",
     "collapsed": false,
     "input": [
      "%load scripts/prep_terrain_data.py"
     ],
     "language": "python",
     "metadata": {},
     "outputs": [],
     "prompt_number": 6
    },
    {
     "cell_type": "code",
     "collapsed": false,
     "input": [
      "#!/usr/bin/python\n",
      "import random\n",
      "\n",
      "\n",
      "def makeTerrainData(n_points=1000):\n",
      "###############################################################################\n",
      "### make the toy dataset\n",
      "    random.seed(42)\n",
      "    grade = [random.random() for ii in range(0,n_points)]\n",
      "    bumpy = [random.random() for ii in range(0,n_points)]\n",
      "    error = [random.random() for ii in range(0,n_points)]\n",
      "    y = [round(grade[ii]*bumpy[ii]+0.3+0.1*error[ii]) for ii in range(0,n_points)]\n",
      "    for ii in range(0, len(y)):\n",
      "        if grade[ii]>0.8 or bumpy[ii]>0.8:\n",
      "            y[ii] = 1.0\n",
      "\n",
      "### split into train/test sets\n",
      "    X = [[gg, ss] for gg, ss in zip(grade, bumpy)]\n",
      "    split = int(0.75*n_points)\n",
      "    X_train = X[0:split]\n",
      "    X_test  = X[split:]\n",
      "    y_train = y[0:split]\n",
      "    y_test  = y[split:]\n",
      "\n",
      "    grade_sig = [X_train[ii][0] for ii in range(0, len(X_train)) if y_train[ii]==0]\n",
      "    bumpy_sig = [X_train[ii][1] for ii in range(0, len(X_train)) if y_train[ii]==0]\n",
      "    grade_bkg = [X_train[ii][0] for ii in range(0, len(X_train)) if y_train[ii]==1]\n",
      "    bumpy_bkg = [X_train[ii][1] for ii in range(0, len(X_train)) if y_train[ii]==1]\n",
      "\n",
      "#    training_data = {\"fast\":{\"grade\":grade_sig, \"bumpiness\":bumpy_sig}\n",
      "#            , \"slow\":{\"grade\":grade_bkg, \"bumpiness\":bumpy_bkg}}\n",
      "\n",
      "\n",
      "    grade_sig = [X_test[ii][0] for ii in range(0, len(X_test)) if y_test[ii]==0]\n",
      "    bumpy_sig = [X_test[ii][1] for ii in range(0, len(X_test)) if y_test[ii]==0]\n",
      "    grade_bkg = [X_test[ii][0] for ii in range(0, len(X_test)) if y_test[ii]==1]\n",
      "    bumpy_bkg = [X_test[ii][1] for ii in range(0, len(X_test)) if y_test[ii]==1]\n",
      "\n",
      "    test_data = {\"fast\":{\"grade\":grade_sig, \"bumpiness\":bumpy_sig}\n",
      "            , \"slow\":{\"grade\":grade_bkg, \"bumpiness\":bumpy_bkg}}\n",
      "\n",
      "    return X_train, y_train, X_test, y_test\n",
      "#    return training_data, test_data"
     ],
     "language": "python",
     "metadata": {},
     "outputs": [],
     "prompt_number": 3
    },
    {
     "cell_type": "code",
     "collapsed": false,
     "input": [
      "%load scripts/ClassifyNB.py"
     ],
     "language": "python",
     "metadata": {},
     "outputs": [],
     "prompt_number": 14
    },
    {
     "cell_type": "code",
     "collapsed": false,
     "input": [
      "def classify(features_train, labels_train):   \n",
      "    ### import the sklearn module for GaussianNB\n",
      "    ### create classifier\n",
      "    ### fit the classifier on the training features and labels\n",
      "    ### return the fit classifier\n",
      "    from sklearn.naive_bayes import GaussianNB\n",
      "    clf = GaussianNB()\n",
      "    clf.fit(features_train, labels_train)\n",
      "    return clf"
     ],
     "language": "python",
     "metadata": {},
     "outputs": [],
     "prompt_number": 4
    },
    {
     "cell_type": "code",
     "collapsed": false,
     "input": [
      "#!/usr/bin/python\n",
      "\n",
      "\"\"\" Complete the code in ClassifyNB.py with the sklearn\n",
      "    Naive Bayes classifier to classify the terrain data.\n",
      "    \n",
      "    The objective of this exercise is to recreate the decision \n",
      "    boundary found in the lesson video, and make a plot that\n",
      "    visually shows the decision boundary \"\"\"\n",
      "\n",
      "\n",
      "# from prep_terrain_data import makeTerrainData\n",
      "# from class_vis import prettyPicture, output_image\n",
      "# from ClassifyNB import classify\n",
      "\n",
      "import numpy as np\n",
      "import pylab as pl\n",
      "\n",
      "\n",
      "features_train, labels_train, features_test, labels_test = makeTerrainData()\n",
      "\n",
      "### the training data (features_train, labels_train) have both \"fast\" and \"slow\" points mixed\n",
      "### in together--separate them so we can give them different colors in the scatterplot,\n",
      "### and visually identify them\n",
      "grade_fast = [features_train[ii][0] for ii in range(0, len(features_train)) if labels_train[ii]==0]\n",
      "bumpy_fast = [features_train[ii][1] for ii in range(0, len(features_train)) if labels_train[ii]==0]\n",
      "grade_slow = [features_train[ii][0] for ii in range(0, len(features_train)) if labels_train[ii]==1]\n",
      "bumpy_slow = [features_train[ii][1] for ii in range(0, len(features_train)) if labels_train[ii]==1]\n",
      "\n",
      "\n",
      "\n",
      "clf = classify(features_train, labels_train)\n",
      "\n",
      "\n",
      "\n",
      "### draw the decision boundary with the text points overlaid\n",
      "prettyPicture(clf, features_test, labels_test)\n",
      "# output_image(\"test.png\", \"png\", open(\"test.png\", \"rb\").read())\n",
      "\n"
     ],
     "language": "python",
     "metadata": {},
     "outputs": [
      {
       "metadata": {},
       "output_type": "display_data",
       "png": "[encoded data removed]",
       "text": [
        "<matplotlib.figure.Figure at 0x3ac3c18>"
       ]
      }
     ],
     "prompt_number": 7
    },
    {
     "cell_type": "markdown",
     "metadata": {},
     "source": [
      "### Finding Naive Bayes Accuracy"
     ]
    },
    {
     "cell_type": "code",
     "collapsed": false,
     "input": [
      "def NBAccuracy(features_train, labels_train, features_test, labels_test):\n",
      "    \"\"\" compute the accuracy of your Naive Bayes classifier \"\"\"\n",
      "    ### import the sklearn module for GaussianNB\n",
      "    from sklearn.naive_bayes import GaussianNB\n",
      "    from sklearn.metrics import accuracy_score\n",
      "    ### create classifier\n",
      "    clf = GaussianNB()\n",
      "\n",
      "    ### fit the classifier on the training features and labels\n",
      "    clf.fit(features_train, labels_train)\n",
      "\n",
      "    ### use the trained classifier to predict labels for the test features\n",
      "    pred = clf.predict(features_test)\n",
      "\n",
      "\n",
      "    ### calculate and return the accuracy on the test data\n",
      "    ### this is slightly different than the example, \n",
      "    ### where we just print the accuracy\n",
      "    ### you might need to import an sklearn module\n",
      "    accuracy = accuracy_score(labels_test, pred)\n",
      "    return accuracy"
     ],
     "language": "python",
     "metadata": {},
     "outputs": [],
     "prompt_number": 5
    },
    {
     "cell_type": "code",
     "collapsed": false,
     "input": [
      "features_train, labels_train, features_test, labels_test = makeTerrainData()\n",
      "\n",
      "def submitAccuracy():\n",
      "    accuracy = NBAccuracy(features_train, labels_train, features_test, labels_test)\n",
      "    return accuracy"
     ],
     "language": "python",
     "metadata": {},
     "outputs": [],
     "prompt_number": 6
    },
    {
     "cell_type": "code",
     "collapsed": false,
     "input": [
      " print NBAccuracy(features_train, labels_train, features_test, labels_test)"
     ],
     "language": "python",
     "metadata": {},
     "outputs": [
      {
       "output_type": "stream",
       "stream": "stdout",
       "text": [
        "0.884\n"
       ]
      }
     ],
     "prompt_number": 7
    },
    {
     "cell_type": "code",
     "collapsed": false,
     "input": [
      "# Load nb_author_id.py for the quiz.\n",
      "%load ../ud120-projects/naive_bayes/nb_author_id.py"
     ],
     "language": "python",
     "metadata": {},
     "outputs": [],
     "prompt_number": 41
    },
    {
     "cell_type": "code",
     "collapsed": false,
     "input": [
      "# Write the content of this cell as a python script.\n",
      "# Using the same name, overwrite nb_author_id.py\n",
      "# %%writefile ../ud120-projects/naive_bayes/nb_author_id.py\n",
      "\n",
      "#!/usr/bin/python\n",
      "\n",
      "\"\"\" \n",
      "    this is the code to accompany the Lesson 1 (Naive Bayes) mini-project \n",
      "\n",
      "    use a Naive Bayes Classifier to identify emails by their authors\n",
      "    \n",
      "    authors and labels:\n",
      "    Sara has label 0\n",
      "    Chris has label 1\n",
      "\n",
      "\"\"\"\n",
      "    \n",
      "import sys\n",
      "from time import time\n",
      "sys.path.append(\"../ud120-projects/tools/\")\n",
      "from email_preprocess import preprocess\n",
      "\n",
      "from sklearn.naive_bayes import GaussianNB\n",
      "from sklearn.metrics import accuracy_score\n",
      "\n",
      "### features_train and features_test are the features for the training\n",
      "### and testing datasets, respectively\n",
      "### labels_train and labels_test are the corresponding item labels\n",
      "features_train, features_test, labels_train, labels_test = preprocess()\n",
      "\n",
      "\n",
      "\n",
      "\n",
      "#########################################################\n",
      "\n",
      "NB = GaussianNB()\n",
      "\n",
      "t0 = time()\n",
      "NB.fit(features_train, labels_train)\n",
      "print \"Training Time: \", round(time()-t0, 3), \"seconds.\"\n",
      "\n",
      "t0 = time()\n",
      "pred = NB.predict(features_test)\n",
      "print \"Prediction Time: \", round(time()-t0, 3), \"seconds.\"\n",
      "\n",
      "accuracy = accuracy_score(pred, labels_test)\n",
      "\n",
      "print \"Accuracy: \", accuracy\n",
      "\n",
      "#########################################################\n",
      "\n"
     ],
     "language": "python",
     "metadata": {},
     "outputs": [
      {
       "output_type": "stream",
       "stream": "stdout",
       "text": [
        "no. of Chris training emails: 7936\n",
        "no. of Sara training emails: 7884\n",
        "Training Time: "
       ]
      },
      {
       "output_type": "stream",
       "stream": "stdout",
       "text": [
        " 0.862 seconds.\n",
        "Prediction Time: "
       ]
      },
      {
       "output_type": "stream",
       "stream": "stdout",
       "text": [
        " 0.221 seconds.\n",
        "Accuracy:  0.973833902162\n"
       ]
      }
     ],
     "prompt_number": 8
    },
    {
     "cell_type": "code",
     "collapsed": false,
     "input": [
      "DATADIR = \"Temp2/Intro to Machine Learning/ud120-projects\"\n",
      "DATAFILE = \"README.md\"\n",
      "\n",
      "datafile = os.path.join(os.path.expanduser(\"~\"), DATADIR ,DATAFILE )"
     ],
     "language": "python",
     "metadata": {},
     "outputs": []
    },
    {
     "cell_type": "code",
     "collapsed": false,
     "input": [
      "os.listdir('.')"
     ],
     "language": "python",
     "metadata": {},
     "outputs": [
      {
       "metadata": {},
       "output_type": "pyout",
       "prompt_number": 9,
       "text": [
        "['.ipynb_checkpoints',\n",
        " 'Lesson 1 - Naive Bayes.ipynb',\n",
        " 'Lesson 2 - Support Vector Machines.ipynb',\n",
        " 'scripts']"
       ]
      }
     ],
     "prompt_number": 9
    },
    {
     "cell_type": "code",
     "collapsed": false,
     "input": [],
     "language": "python",
     "metadata": {},
     "outputs": []
    }
   ],
   "metadata": {}
  }
 ]
}