{
 "metadata": {
  "name": "",
  "signature": "sha256:7af028beffcb9a0f4d1b32c2bb01f65ca8e24bfa34030728f43b1fdc227ae450"
 },
 "nbformat": 3,
 "nbformat_minor": 0,
 "worksheets": [
  {
   "cells": [
    {
     "cell_type": "code",
     "collapsed": false,
     "input": [
      "%load ../ud120-projects/datasets_questions/explore_enron_data.py"
     ],
     "language": "python",
     "metadata": {},
     "outputs": [],
     "prompt_number": 1
    },
    {
     "cell_type": "code",
     "collapsed": false,
     "input": [
      "#!/usr/bin/python\n",
      "\n",
      "\"\"\" \n",
      "    starter code for exploring the Enron dataset (emails + finances) \n",
      "    loads up the dataset (pickled dict of dicts)\n",
      "\n",
      "    the dataset has the form\n",
      "    enron_data[\"LASTNAME FIRSTNAME MIDDLEINITIAL\"] = { features_dict }\n",
      "\n",
      "    {features_dict} is a dictionary of features associated with that person\n",
      "    you should explore features_dict as part of the mini-project,\n",
      "    but here's an example to get you started:\n",
      "\n",
      "    enron_data[\"SKILLING JEFFREY K\"][\"bonus\"] = 5600000\n",
      "    \n",
      "\"\"\"\n",
      "\n",
      "import pickle\n",
      "\n",
      "enron_data = pickle.load(open(\"../ud120-projects/final_project/final_project_dataset.pkl\", \"r\"))\n",
      "\n",
      "\n"
     ],
     "language": "python",
     "metadata": {},
     "outputs": [],
     "prompt_number": 6
    },
    {
     "cell_type": "code",
     "collapsed": false,
     "input": [
      "len(enron_data.keys())"
     ],
     "language": "python",
     "metadata": {},
     "outputs": [
      {
       "metadata": {},
       "output_type": "pyout",
       "prompt_number": 9,
       "text": [
        "146"
       ]
      }
     ],
     "prompt_number": 9
    },
    {
     "cell_type": "code",
     "collapsed": false,
     "input": [
      "len(enron_data.values()[0])"
     ],
     "language": "python",
     "metadata": {},
     "outputs": [
      {
       "metadata": {},
       "output_type": "pyout",
       "prompt_number": 12,
       "text": [
        "21"
       ]
      }
     ],
     "prompt_number": 12
    },
    {
     "cell_type": "code",
     "collapsed": false,
     "input": [
      "from collections import Counter"
     ],
     "language": "python",
     "metadata": {},
     "outputs": [],
     "prompt_number": 15
    },
    {
     "cell_type": "code",
     "collapsed": false,
     "input": [
      "sum([enron_data[i]['poi']==1 for i in enron_data.keys()])"
     ],
     "language": "python",
     "metadata": {},
     "outputs": [
      {
       "metadata": {},
       "output_type": "pyout",
       "prompt_number": 39,
       "text": [
        "18"
       ]
      }
     ],
     "prompt_number": 39
    },
    {
     "cell_type": "code",
     "collapsed": false,
     "input": [
      "%load ../ud120-projects/final_project/poi_names.txt"
     ],
     "language": "python",
     "metadata": {},
     "outputs": [],
     "prompt_number": 40
    },
    {
     "cell_type": "code",
     "collapsed": false,
     "input": [
      "http://usatoday30.usatoday.com/money/industries/energy/2005-12-28-enron-participants_x.htm\n",
      "\n",
      "(y) Lay, Kenneth\n",
      "(y) Skilling, Jeffrey\n",
      "(n) Howard, Kevin\n",
      "(n) Krautz, Michael\n",
      "(n) Yeager, Scott\n",
      "(n) Hirko, Joseph\n",
      "(n) Shelby, Rex\n",
      "(n) Bermingham, David\n",
      "(n) Darby, Giles\n",
      "(n) Mulgrew, Gary\n",
      "(n) Bayley, Daniel\n",
      "(n) Brown, James\n",
      "(n) Furst, Robert\n",
      "(n) Fuhs, William\n",
      "(n) Causey, Richard\n",
      "(n) Calger, Christopher\n",
      "(n) DeSpain, Timothy\n",
      "(n) Hannon, Kevin\n",
      "(n) Koenig, Mark\n",
      "(y) Forney, John\n",
      "(n) Rice, Kenneth\n",
      "(n) Rieker, Paula\n",
      "(n) Fastow, Lea\n",
      "(n) Fastow, Andrew\n",
      "(y) Delainey, David\n",
      "(n) Glisan, Ben\n",
      "(n) Richter, Jeffrey\n",
      "(n) Lawyer, Larry\n",
      "(n) Belden, Timothy\n",
      "(n) Kopper, Michael\n",
      "(n) Duncan, David\n",
      "(n) Bowen, Raymond\n",
      "(n) Colwell, Wesley\n",
      "(n) Boyle, Dan\n",
      "(n) Loehr, Christopher\n"
     ],
     "language": "python",
     "metadata": {},
     "outputs": []
    },
    {
     "cell_type": "code",
     "collapsed": false,
     "input": [
      "# POI's with data\n",
      "with open('../ud120-projects/final_project/poi_names.txt', 'r') as n:\n",
      "    # Count POIs in poi_names.txt\n",
      "    print sum([i.split(\" \")[0] == '(y)' for i in n.readlines()])\n"
     ],
     "language": "python",
     "metadata": {},
     "outputs": [
      {
       "output_type": "stream",
       "stream": "stdout",
       "text": [
        "4\n"
       ]
      }
     ],
     "prompt_number": 62
    },
    {
     "cell_type": "code",
     "collapsed": false,
     "input": [
      "# POI's in both poi_names and our data doctionary\n",
      "with open('../ud120-projects/final_project/poi_names.txt', 'r') as n:\n",
      "    # Remove first two lines\n",
      "    n.readline()\n",
      "    n.readline()\n",
      "    text_names = [i.split(\" \", 1)[1].strip('\\n').lower().replace(',', '') for i in n.readlines()]\n",
      "\n",
      "# Pull names out and lower case them for comparison    \n",
      "enron_data_names = [name.lower() for name in enron_data.keys()]\n",
      "# Grab the first and last names, leaving out the middle initial at the end\n",
      "enron_data_names = [substring.split(\" \")[:2] for substring in enron_data_names]\n",
      "# Combine the first/last names into one string\n",
      "enron_data_names = [\" \".join(i) for i in enron_data_names]\n",
      "\n",
      "print set(enron_data_names) & set(text_names)\n",
      "\n",
      "#print set(text_names)\n",
      "#print \"\"\n",
      "#print set(enron_data_names)\n"
     ],
     "language": "python",
     "metadata": {},
     "outputs": [
      {
       "output_type": "stream",
       "stream": "stdout",
       "text": [
        "set(['lay kenneth', 'skilling jeffrey', 'belden timothy', 'calger christopher', 'koenig mark', 'hirko joseph', 'causey richard', 'fastow andrew', 'colwell wesley', 'shelby rex', 'delainey david', 'kopper michael', 'hannon kevin', 'rice kenneth', 'rieker paula'])\n"
       ]
      }
     ],
     "prompt_number": 123
    },
    {
     "cell_type": "code",
     "collapsed": false,
     "input": [
      "#Total POIs\n",
      "with open('../ud120-projects/final_project/poi_names.txt', 'r') as n:\n",
      "    # Count POIs in poi_names.txt\n",
      "    print sum([i.split(\" \")[0] in ['(n)', '(y)']  for i in n.readlines()])"
     ],
     "language": "python",
     "metadata": {},
     "outputs": [
      {
       "output_type": "stream",
       "stream": "stdout",
       "text": [
        "35\n"
       ]
      }
     ],
     "prompt_number": 130
    },
    {
     "cell_type": "code",
     "collapsed": false,
     "input": [
      "%load ../ud120-projects/final_project/poi_email_addresses.py"
     ],
     "language": "python",
     "metadata": {},
     "outputs": [],
     "prompt_number": 41
    },
    {
     "cell_type": "code",
     "collapsed": false,
     "input": [
      "def poiEmails():\n",
      "    email_list = [\"kenneth_lay@enron.net\",    \n",
      "            \"kenneth_lay@enron.com\",\n",
      "            \"klay.enron@enron.com\",\n",
      "            \"kenneth.lay@enron.com\", \n",
      "            \"klay@enron.com\",\n",
      "            \"layk@enron.com\",\n",
      "            \"chairman.ken@enron.com\",\n",
      "            \"jeffreyskilling@yahoo.com\",\n",
      "            \"jeff_skilling@enron.com\",\n",
      "            \"jskilling@enron.com\",\n",
      "            \"effrey.skilling@enron.com\",\n",
      "            \"skilling@enron.com\",\n",
      "            \"jeffrey.k.skilling@enron.com\",\n",
      "            \"jeff.skilling@enron.com\",\n",
      "            \"kevin_a_howard.enronxgate.enron@enron.net\",\n",
      "            \"kevin.howard@enron.com\",\n",
      "            \"kevin.howard@enron.net\",\n",
      "            \"kevin.howard@gcm.com\",\n",
      "            \"michael.krautz@enron.com\"\n",
      "            \"scott.yeager@enron.com\",\n",
      "            \"syeager@fyi-net.com\",\n",
      "            \"scott_yeager@enron.net\",\n",
      "            \"syeager@flash.net\",\n",
      "            \"joe'.'hirko@enron.com\", \n",
      "            \"joe.hirko@enron.com\", \n",
      "            \"rex.shelby@enron.com\", \n",
      "            \"rex.shelby@enron.nt\", \n",
      "            \"rex_shelby@enron.net\",\n",
      "            \"jbrown@enron.com\",\n",
      "            \"james.brown@enron.com\", \n",
      "            \"rick.causey@enron.com\", \n",
      "            \"richard.causey@enron.com\", \n",
      "            \"rcausey@enron.com\",\n",
      "            \"calger@enron.com\",\n",
      "            \"chris.calger@enron.com\", \n",
      "            \"christopher.calger@enron.com\", \n",
      "            \"ccalger@enron.com\",\n",
      "            \"tim_despain.enronxgate.enron@enron.net\", \n",
      "            \"tim.despain@enron.com\",\n",
      "            \"kevin_hannon@enron.com\", \n",
      "            \"kevin'.'hannon@enron.com\", \n",
      "            \"kevin_hannon@enron.net\", \n",
      "            \"kevin.hannon@enron.com\",\n",
      "            \"mkoenig@enron.com\", \n",
      "            \"mark.koenig@enron.com\",\n",
      "            \"m..forney@enron.com\",\n",
      "            \"ken'.'rice@enron.com\", \n",
      "            \"ken.rice@enron.com\",\n",
      "            \"ken_rice@enron.com\", \n",
      "            \"ken_rice@enron.net\",\n",
      "            \"paula.rieker@enron.com\",\n",
      "            \"prieker@enron.com\", \n",
      "            \"andrew.fastow@enron.com\", \n",
      "            \"lfastow@pdq.net\", \n",
      "            \"andrew.s.fastow@enron.com\", \n",
      "            \"lfastow@pop.pdq.net\", \n",
      "            \"andy.fastow@enron.com\",\n",
      "            \"david.w.delainey@enron.com\", \n",
      "            \"delainey.dave@enron.com\", \n",
      "            \"'delainey@enron.com\", \n",
      "            \"david.delainey@enron.com\", \n",
      "            \"'david.delainey'@enron.com\", \n",
      "            \"dave.delainey@enron.com\", \n",
      "            \"delainey'.'david@enron.com\",\n",
      "            \"ben.glisan@enron.com\", \n",
      "            \"bglisan@enron.com\", \n",
      "            \"ben_f_glisan@enron.com\", \n",
      "            \"ben'.'glisan@enron.com\",\n",
      "            \"jeff.richter@enron.com\", \n",
      "            \"jrichter@nwlink.com\",\n",
      "            \"lawrencelawyer@aol.com\", \n",
      "            \"lawyer'.'larry@enron.com\", \n",
      "            \"larry_lawyer@enron.com\", \n",
      "            \"llawyer@enron.com\", \n",
      "            \"larry.lawyer@enron.com\", \n",
      "            \"lawrence.lawyer@enron.com\",\n",
      "            \"tbelden@enron.com\", \n",
      "            \"tim.belden@enron.com\", \n",
      "            \"tim_belden@pgn.com\", \n",
      "            \"tbelden@ect.enron.com\",\n",
      "            \"michael.kopper@enron.com\",\n",
      "            \"dave.duncan@enron.com\", \n",
      "            \"dave.duncan@cipco.org\", \n",
      "            \"duncan.dave@enron.com\",\n",
      "            \"ray.bowen@enron.com\", \n",
      "            \"raymond.bowen@enron.com\", \n",
      "            \"'bowen@enron.com\",\n",
      "            \"wes.colwell@enron.com\",\n",
      "            \"dan.boyle@enron.com\",\n",
      "            \"cloehr@enron.com\", \n",
      "            \"chris.loehr@enron.com\"\n",
      "        ]\n",
      "    return email_list\n"
     ],
     "language": "python",
     "metadata": {},
     "outputs": []
    },
    {
     "cell_type": "code",
     "collapsed": false,
     "input": [
      "enron_data['PRENTICE JAMES']['total_stock_value']"
     ],
     "language": "python",
     "metadata": {},
     "outputs": [
      {
       "metadata": {},
       "output_type": "pyout",
       "prompt_number": 135,
       "text": [
        "1095040"
       ]
      }
     ],
     "prompt_number": 135
    },
    {
     "cell_type": "code",
     "collapsed": false,
     "input": [
      "enron_data['COLWELL WESLEY']['from_this_person_to_poi']"
     ],
     "language": "python",
     "metadata": {},
     "outputs": [
      {
       "metadata": {},
       "output_type": "pyout",
       "prompt_number": 138,
       "text": [
        "11"
       ]
      }
     ],
     "prompt_number": 138
    },
    {
     "cell_type": "code",
     "collapsed": false,
     "input": [
      "skilling = [i for i in enron_data.keys() if 'SKILLING' in i ][0]\n",
      "enron_data[skilling]['exercised_stock_options']"
     ],
     "language": "python",
     "metadata": {},
     "outputs": [
      {
       "metadata": {},
       "output_type": "pyout",
       "prompt_number": 148,
       "text": [
        "19250000"
       ]
      }
     ],
     "prompt_number": 148
    },
    {
     "cell_type": "code",
     "collapsed": false,
     "input": [
      "enron_data[skilling]['total_payments']"
     ],
     "language": "python",
     "metadata": {},
     "outputs": [
      {
       "metadata": {},
       "output_type": "pyout",
       "prompt_number": 149,
       "text": [
        "8682716"
       ]
      }
     ],
     "prompt_number": 149
    },
    {
     "cell_type": "code",
     "collapsed": false,
     "input": [
      "fastow = [i for i in enron_data.keys() if 'FASTOW' in i ][0]\n",
      "enron_data[fastow]['total_payments']"
     ],
     "language": "python",
     "metadata": {},
     "outputs": [
      {
       "metadata": {},
       "output_type": "pyout",
       "prompt_number": 153,
       "text": [
        "2424083"
       ]
      }
     ],
     "prompt_number": 153
    },
    {
     "cell_type": "code",
     "collapsed": false,
     "input": [
      "lay = [i for i in enron_data.keys() if 'LAY KENNETH' in i ][0]\n",
      "enron_data[lay]['total_payments']"
     ],
     "language": "python",
     "metadata": {},
     "outputs": [
      {
       "metadata": {},
       "output_type": "pyout",
       "prompt_number": 163,
       "text": [
        "103559793"
       ]
      }
     ],
     "prompt_number": 163
    },
    {
     "cell_type": "code",
     "collapsed": false,
     "input": [
      "import pprint\n",
      "pprint.pprint(enron_data.values()[0])"
     ],
     "language": "python",
     "metadata": {},
     "outputs": [
      {
       "output_type": "stream",
       "stream": "stdout",
       "text": [
        "{'bonus': 600000,\n",
        " 'deferral_payments': 'NaN',\n",
        " 'deferred_income': 'NaN',\n",
        " 'director_fees': 'NaN',\n",
        " 'email_address': 'mark.metts@enron.com',\n",
        " 'exercised_stock_options': 'NaN',\n",
        " 'expenses': 94299,\n",
        " 'from_messages': 29,\n",
        " 'from_poi_to_this_person': 38,\n",
        " 'from_this_person_to_poi': 1,\n",
        " 'loan_advances': 'NaN',\n",
        " 'long_term_incentive': 'NaN',\n",
        " 'other': 1740,\n",
        " 'poi': False,\n",
        " 'restricted_stock': 585062,\n",
        " 'restricted_stock_deferred': 'NaN',\n",
        " 'salary': 365788,\n",
        " 'shared_receipt_with_poi': 702,\n",
        " 'to_messages': 807,\n",
        " 'total_payments': 1061827,\n",
        " 'total_stock_value': 585062}\n"
       ]
      }
     ],
     "prompt_number": 165
    },
    {
     "cell_type": "code",
     "collapsed": false,
     "input": [
      "def check_num_values(value, dict_):\n",
      "    return sum([v[value] != 'NaN' for k, v in dict_.iteritems()])\n",
      "    "
     ],
     "language": "python",
     "metadata": {},
     "outputs": [],
     "prompt_number": 209
    },
    {
     "cell_type": "code",
     "collapsed": false,
     "input": [
      "print \"Salaries: \", check_num_values('salary', enron_data)\n",
      "print \"Emails: \",  check_num_values('email_address', enron_data)"
     ],
     "language": "python",
     "metadata": {},
     "outputs": [
      {
       "output_type": "stream",
       "stream": "stdout",
       "text": [
        "Salaries:  95\n",
        "Emails:  111\n"
       ]
      }
     ],
     "prompt_number": 210
    },
    {
     "cell_type": "code",
     "collapsed": false,
     "input": [
      "%load ../ud120-projects/tools/feature_format.py"
     ],
     "language": "python",
     "metadata": {},
     "outputs": [],
     "prompt_number": 189
    },
    {
     "cell_type": "code",
     "collapsed": false,
     "input": [
      "#!/usr/bin/python\n",
      "\n",
      "\"\"\" \n",
      "    A general tool for converting data from the\n",
      "    dictionary format to an (n x k) python list that's \n",
      "    ready for training an sklearn algorithm\n",
      "\n",
      "    n--no. of key-value pairs in dictonary\n",
      "    k--no. of features being extracted\n",
      "\n",
      "    dictionary keys are names of persons in dataset\n",
      "    dictionary values are dictionaries, where each\n",
      "        key-value pair in the dict is the name\n",
      "        of a feature, and its value for that person\n",
      "\n",
      "    In addition to converting a dictionary to a numpy \n",
      "    array, you may want to separate the labels from the\n",
      "    features--this is what targetFeatureSplit is for\n",
      "\n",
      "    so, if you want to have the poi label as the target,\n",
      "    and the features you want to use are the person's\n",
      "    salary and bonus, here's what you would do:\n",
      "\n",
      "    feature_list = [\"poi\", \"salary\", \"bonus\"] \n",
      "    data_array = featureFormat( data_dictionary, feature_list )\n",
      "    label, features = targetFeatureSplit(data_array)\n",
      "\n",
      "    the line above (targetFeatureSplit) assumes that the\n",
      "    label is the _first_ item in feature_list--very important\n",
      "    that poi is listed first!\n",
      "\"\"\"\n",
      "\n",
      "\n",
      "import numpy as np\n",
      "\n",
      "def featureFormat( dictionary, features, remove_NaN=True, remove_all_zeroes=True, remove_any_zeroes=False ):\n",
      "    \"\"\" convert dictionary to numpy array of features\n",
      "        remove_NaN=True will convert \"NaN\" string to 0.0\n",
      "        remove_all_zeroes=True will omit any data points for which\n",
      "            all the features you seek are 0.0\n",
      "        remove_any_zeroes=True will omit any data points for which\n",
      "            any of the features you seek are 0.0\n",
      "    \"\"\"\n",
      "\n",
      "\n",
      "    return_list = []\n",
      "\n",
      "    for key in dictionary.keys():\n",
      "        tmp_list = []\n",
      "        append = False\n",
      "        for feature in features:\n",
      "            try:\n",
      "                dictionary[key][feature]\n",
      "            except KeyError:\n",
      "                print \"error: key \", feature, \" not present\"\n",
      "                return\n",
      "            value = dictionary[key][feature]\n",
      "            if value==\"NaN\" and remove_NaN:\n",
      "                value = 0\n",
      "            tmp_list.append( float(value) )\n",
      "\n",
      "        ### if all features are zero and you want to remove\n",
      "        ### data points that are all zero, do that here\n",
      "        if remove_all_zeroes:\n",
      "            all_zeroes = True\n",
      "            for item in tmp_list:\n",
      "                if item != 0 and item != \"NaN\":\n",
      "                    append = True\n",
      "\n",
      "        ### if any features for a given data point are zero\n",
      "        ### and you want to remove data points with any zeroes,\n",
      "        ### handle that here\n",
      "        if remove_any_zeroes:\n",
      "            any_zeroes = False\n",
      "            if 0 in tmp_list or \"NaN\" in tmp_list:\n",
      "                append = False\n",
      "        if append:\n",
      "            return_list.append( np.array(tmp_list) )\n",
      "\n",
      "\n",
      "    return np.array(return_list)\n",
      "\n",
      "\n",
      "def targetFeatureSplit( data ):\n",
      "    \"\"\" \n",
      "        given a numpy array like the one returned from\n",
      "        featureFormat, separate out the first feature\n",
      "        and put it into its own list (this should be the \n",
      "        quantity you want to predict)\n",
      "\n",
      "        return targets and features as separate lists\n",
      "\n",
      "        (sklearn can generally handle both lists and numpy arrays as \n",
      "        input formats when training/predicting)\n",
      "    \"\"\"\n",
      "\n",
      "    target = []\n",
      "    features = []\n",
      "    for item in data:\n",
      "        target.append( item[0] )\n",
      "        features.append( item[1:] )\n",
      "\n",
      "    return target, features\n",
      "\n",
      "\n",
      "\n",
      "\n"
     ],
     "language": "python",
     "metadata": {},
     "outputs": []
    },
    {
     "cell_type": "code",
     "collapsed": false,
     "input": [
      "tot_ppl = float(len(enron_data.keys()))\n",
      "print ((tot_ppl - check_num_values('total_payments', enron_data)) / tot_ppl)"
     ],
     "language": "python",
     "metadata": {},
     "outputs": [
      {
       "output_type": "stream",
       "stream": "stdout",
       "text": [
        "0.143835616438\n"
       ]
      }
     ],
     "prompt_number": 214
    },
    {
     "cell_type": "code",
     "collapsed": false,
     "input": [
      "def return_pois_values(value, dict_):\n",
      "    return sum([dict_[k]['total_payments'] == 'NaN' for k, v in dict_.iteritems() if v[value] == True]) \n",
      "\n",
      "num_NaN = return_pois_values('poi', enron_data)\n",
      "\n",
      "def tot_pois():\n",
      "    return sum([enron_data[k]['poi'] == True for k, v in enron_data.iteritems()])\n",
      "    \n",
      "pois = tot_pois()\n",
      "print num_NaN / float(pois)"
     ],
     "language": "python",
     "metadata": {},
     "outputs": [
      {
       "output_type": "stream",
       "stream": "stdout",
       "text": [
        "0.0\n"
       ]
      }
     ],
     "prompt_number": 236
    },
    {
     "cell_type": "code",
     "collapsed": false,
     "input": [
      "len(enron_data.keys()) + 10"
     ],
     "language": "python",
     "metadata": {},
     "outputs": [
      {
       "metadata": {},
       "output_type": "pyout",
       "prompt_number": 239,
       "text": [
        "156"
       ]
      }
     ],
     "prompt_number": 239
    },
    {
     "cell_type": "code",
     "collapsed": false,
     "input": [
      "156 - check_num_values('total_payments', enron_data)"
     ],
     "language": "python",
     "metadata": {},
     "outputs": [
      {
       "metadata": {},
       "output_type": "pyout",
       "prompt_number": 247,
       "text": [
        "31"
       ]
      }
     ],
     "prompt_number": 247
    },
    {
     "cell_type": "code",
     "collapsed": false,
     "input": [
      "pois + 10"
     ],
     "language": "python",
     "metadata": {},
     "outputs": [
      {
       "metadata": {},
       "output_type": "pyout",
       "prompt_number": 249,
       "text": [
        "28"
       ]
      }
     ],
     "prompt_number": 249
    },
    {
     "cell_type": "code",
     "collapsed": false,
     "input": [
      "10/28."
     ],
     "language": "python",
     "metadata": {},
     "outputs": [
      {
       "metadata": {},
       "output_type": "pyout",
       "prompt_number": 251,
       "text": [
        "0.35714285714285715"
       ]
      }
     ],
     "prompt_number": 251
    },
    {
     "cell_type": "code",
     "collapsed": false,
     "input": [],
     "language": "python",
     "metadata": {},
     "outputs": []
    }
   ],
   "metadata": {}
  }
 ]
}