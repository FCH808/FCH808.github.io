{
 "metadata": {
  "name": "",
  "signature": "sha256:51f4617da513d46a11b98dbc1b0725db40fd9de2b111b88e9fd0e5bbc307a779"
 },
 "nbformat": 3,
 "nbformat_minor": 0,
 "worksheets": [
  {
   "cells": [
    {
     "cell_type": "code",
     "collapsed": false,
     "input": [
      ">>> from sklearn.pipeline import Pipeline\n",
      ">>> from sklearn.svm import SVC\n",
      ">>> from sklearn.decomposition import PCA\n",
      ">>> estimators = [('reduce_dim', PCA()), ('svm', SVC())]\n",
      ">>> clf = Pipeline(estimators)\n",
      ">>> clf "
     ],
     "language": "python",
     "metadata": {},
     "outputs": [
      {
       "metadata": {},
       "output_type": "pyout",
       "prompt_number": 1,
       "text": [
        "Pipeline(steps=[('reduce_dim', PCA(copy=True, n_components=None, whiten=False)), ('svm', SVC(C=1.0, cache_size=200, class_weight=None, coef0=0.0, degree=3, gamma=0.0,\n",
        "  kernel='rbf', max_iter=-1, probability=False, random_state=None,\n",
        "  shrinking=True, tol=0.001, verbose=False))])"
       ]
      }
     ],
     "prompt_number": 1
    },
    {
     "cell_type": "code",
     "collapsed": false,
     "input": [
      "clf.steps"
     ],
     "language": "python",
     "metadata": {},
     "outputs": [
      {
       "metadata": {},
       "output_type": "pyout",
       "prompt_number": 2,
       "text": [
        "[('reduce_dim', PCA(copy=True, n_components=None, whiten=False)),\n",
        " ('svm',\n",
        "  SVC(C=1.0, cache_size=200, class_weight=None, coef0=0.0, degree=3, gamma=0.0,\n",
        "    kernel='rbf', max_iter=-1, probability=False, random_state=None,\n",
        "    shrinking=True, tol=0.001, verbose=False))]"
       ]
      }
     ],
     "prompt_number": 2
    },
    {
     "cell_type": "code",
     "collapsed": false,
     "input": [
      "# Change a param in a specific model\n",
      ">>> clf.set_params(svm__C=10) "
     ],
     "language": "python",
     "metadata": {},
     "outputs": [
      {
       "metadata": {},
       "output_type": "pyout",
       "prompt_number": 3,
       "text": [
        "Pipeline(steps=[('reduce_dim', PCA(copy=True, n_components=None, whiten=False)), ('svm', SVC(C=10, cache_size=200, class_weight=None, coef0=0.0, degree=3, gamma=0.0,\n",
        "  kernel='rbf', max_iter=-1, probability=False, random_state=None,\n",
        "  shrinking=True, tol=0.001, verbose=False))])"
       ]
      }
     ],
     "prompt_number": 3
    },
    {
     "cell_type": "code",
     "collapsed": false,
     "input": [
      ">>> from sklearn.grid_search import GridSearchCV\n",
      ">>> params = dict(reduce_dim__n_components=[2, 5, 10],\n",
      "                  svm__C=[0.1, 10, 100])\n",
      ">>> grid_search = GridSearchCV(clf, param_grid=params)\n",
      "# grid_search.fit(some_X_training_data, y=some_y_training_data)\n",
      "# grid_search.predict(some_X_test_data)"
     ],
     "language": "python",
     "metadata": {},
     "outputs": [],
     "prompt_number": 4
    },
    {
     "cell_type": "markdown",
     "metadata": {},
     "source": [
      "> Calling fit on the pipeline is the same as calling fit on each estimator in turn, transform the input and pass it on to the next step. The pipeline has all the methods that the last estimator in the pipeline has, i.e. if the last estimator is a classifier, the Pipeline can be used as a classifier. If the last estimator is a transformer, again, so is the pipeline."
     ]
    },
    {
     "cell_type": "code",
     "collapsed": false,
     "input": [],
     "language": "python",
     "metadata": {},
     "outputs": [],
     "prompt_number": 4
    },
    {
     "cell_type": "code",
     "collapsed": false,
     "input": [
      "# Example of make_pipeline, nothing saved here:\n",
      ">>> from sklearn.pipeline import make_pipeline\n",
      ">>> from sklearn.naive_bayes import MultinomialNB\n",
      ">>> from sklearn.preprocessing import Binarizer\n",
      ">>> make_pipeline(Binarizer(), MultinomialNB()) "
     ],
     "language": "python",
     "metadata": {},
     "outputs": [
      {
       "metadata": {},
       "output_type": "pyout",
       "prompt_number": 5,
       "text": [
        "Pipeline(steps=[('binarizer', Binarizer(copy=True, threshold=0.0)), ('multinomialnb', MultinomialNB(alpha=1.0, class_prior=None, fit_prior=True))])"
       ]
      }
     ],
     "prompt_number": 5
    },
    {
     "cell_type": "code",
     "collapsed": false,
     "input": [],
     "language": "python",
     "metadata": {},
     "outputs": []
    }
   ],
   "metadata": {}
  }
 ]
}