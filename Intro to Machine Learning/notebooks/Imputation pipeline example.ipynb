{
 "metadata": {
  "name": "",
  "signature": "sha256:57d3548e5185475f0d5d00b064443042a3a104f71640807e57bc142553a2f165"
 },
 "nbformat": 3,
 "nbformat_minor": 0,
 "worksheets": [
  {
   "cells": [
    {
     "cell_type": "code",
     "collapsed": false,
     "input": [
      "import numpy as np\n",
      "\n",
      "from sklearn.datasets import load_boston\n",
      "from sklearn.ensemble import RandomForestRegressor\n",
      "from sklearn.pipeline import Pipeline\n",
      "from sklearn.preprocessing import Imputer\n",
      "from sklearn.cross_validation import cross_val_score\n"
     ],
     "language": "python",
     "metadata": {},
     "outputs": [],
     "prompt_number": 1
    },
    {
     "cell_type": "code",
     "collapsed": false,
     "input": [
      "rng = np.random.RandomState(0)\n",
      "\n",
      "dataset = load_boston()\n",
      "X_full, y_full = dataset.data, dataset.target\n",
      "n_samples = X_full.shape[0]\n",
      "n_features = X_full.shape[1]"
     ],
     "language": "python",
     "metadata": {},
     "outputs": [],
     "prompt_number": 2
    },
    {
     "cell_type": "code",
     "collapsed": false,
     "input": [
      "# Estimate the score on the entire dataset, with no missing values\n",
      "estimator = RandomForestRegressor(random_state=0, n_estimators=100)\n",
      "score = cross_val_score(estimator, X_full, y_full).mean()\n",
      "print(\"Score with the entire dataset = %.2f\" % score)"
     ],
     "language": "python",
     "metadata": {},
     "outputs": [
      {
       "output_type": "stream",
       "stream": "stdout",
       "text": [
        "Score with the entire dataset = 0.56\n"
       ]
      }
     ],
     "prompt_number": 3
    },
    {
     "cell_type": "code",
     "collapsed": false,
     "input": [
      "# Add missing values in 75% of the lines\n",
      "missing_rate = 0.75\n",
      "n_missing_samples = np.floor(n_samples * missing_rate)\n",
      "missing_samples = np.hstack((np.zeros(n_samples - n_missing_samples,\n",
      "                                      dtype=np.bool),\n",
      "                             np.ones(n_missing_samples,\n",
      "                                     dtype=np.bool)))\n",
      "rng.shuffle(missing_samples)\n",
      "missing_features = rng.randint(0, n_features, n_missing_samples)\n"
     ],
     "language": "python",
     "metadata": {},
     "outputs": [],
     "prompt_number": 12
    },
    {
     "cell_type": "code",
     "collapsed": false,
     "input": [
      "# Estimate the score without the lines containing missing values\n",
      "X_filtered = X_full[~missing_samples, :]\n",
      "y_filtered = y_full[~missing_samples]\n",
      "estimator = RandomForestRegressor(random_state=0, n_estimators=100)\n",
      "score = cross_val_score(estimator, X_filtered, y_filtered).mean()\n",
      "print(\"Score without the samples containing missing values = %.2f\" % score)"
     ],
     "language": "python",
     "metadata": {},
     "outputs": [
      {
       "output_type": "stream",
       "stream": "stdout",
       "text": [
        "Score without the samples containing missing values = 0.69\n"
       ]
      }
     ],
     "prompt_number": 13
    },
    {
     "cell_type": "code",
     "collapsed": false,
     "input": [
      "# Estimate the score after imputation of the missing values\n",
      "X_missing = X_full.copy()\n",
      "X_missing[np.where(missing_samples)[0], missing_features] = 0\n",
      "y_missing = y_full.copy()\n",
      "estimator = Pipeline([(\"imputer\", Imputer(missing_values=0,\n",
      "                                          strategy=\"mean\",\n",
      "                                          axis=0)),\n",
      "                      (\"forest\", RandomForestRegressor(random_state=0,\n",
      "                                                       n_estimators=100))])\n",
      "score = cross_val_score(estimator, X_missing, y_missing).mean()\n",
      "print(\"Score after imputation of the missing values = %.2f\" % score)"
     ],
     "language": "python",
     "metadata": {},
     "outputs": [
      {
       "output_type": "stream",
       "stream": "stdout",
       "text": [
        "Score after imputation of the missing values = 0.57\n"
       ]
      }
     ],
     "prompt_number": 6
    },
    {
     "cell_type": "code",
     "collapsed": false,
     "input": [],
     "language": "python",
     "metadata": {},
     "outputs": [],
     "prompt_number": 26
    },
    {
     "cell_type": "code",
     "collapsed": false,
     "input": [],
     "language": "python",
     "metadata": {},
     "outputs": [],
     "prompt_number": 26
    },
    {
     "cell_type": "code",
     "collapsed": false,
     "input": [],
     "language": "python",
     "metadata": {},
     "outputs": [
      {
       "metadata": {},
       "output_type": "pyout",
       "prompt_number": 24,
       "text": [
        "Pipeline(steps=[('reduce_dim', PCA(copy=True, n_components=None, whiten=False)), ('svm', SVC(C=1.0, cache_size=200, class_weight=None, coef0=0.0, degree=3, gamma=0.0,\n",
        "  kernel='rbf', max_iter=-1, probability=False, random_state=None,\n",
        "  shrinking=True, tol=0.001, verbose=False))])"
       ]
      }
     ],
     "prompt_number": 24
    },
    {
     "cell_type": "code",
     "collapsed": false,
     "input": [],
     "language": "python",
     "metadata": {},
     "outputs": [
      {
       "metadata": {},
       "output_type": "pyout",
       "prompt_number": 25,
       "text": [
        "Pipeline(steps=[('binarizer', Binarizer(copy=True, threshold=0.0)), ('multinomialnb', MultinomialNB(alpha=1.0, class_prior=None, fit_prior=True))])"
       ]
      }
     ],
     "prompt_number": 25
    },
    {
     "cell_type": "code",
     "collapsed": false,
     "input": [],
     "language": "python",
     "metadata": {},
     "outputs": [
      {
       "metadata": {},
       "output_type": "pyout",
       "prompt_number": 26,
       "text": [
        "[('reduce_dim', PCA(copy=True, n_components=None, whiten=False)),\n",
        " ('svm',\n",
        "  SVC(C=1.0, cache_size=200, class_weight=None, coef0=0.0, degree=3, gamma=0.0,\n",
        "    kernel='rbf', max_iter=-1, probability=False, random_state=None,\n",
        "    shrinking=True, tol=0.001, verbose=False))]"
       ]
      }
     ],
     "prompt_number": 26
    },
    {
     "cell_type": "code",
     "collapsed": false,
     "input": [],
     "language": "python",
     "metadata": {},
     "outputs": [
      {
       "metadata": {},
       "output_type": "pyout",
       "prompt_number": 27,
       "text": [
        "Pipeline(steps=[('reduce_dim', PCA(copy=True, n_components=None, whiten=False)), ('svm', SVC(C=10, cache_size=200, class_weight=None, coef0=0.0, degree=3, gamma=0.0,\n",
        "  kernel='rbf', max_iter=-1, probability=False, random_state=None,\n",
        "  shrinking=True, tol=0.001, verbose=False))])"
       ]
      }
     ],
     "prompt_number": 27
    },
    {
     "cell_type": "code",
     "collapsed": false,
     "input": [],
     "language": "python",
     "metadata": {},
     "outputs": [],
     "prompt_number": 28
    },
    {
     "cell_type": "markdown",
     "metadata": {},
     "source": []
    },
    {
     "cell_type": "code",
     "collapsed": false,
     "input": [],
     "language": "python",
     "metadata": {},
     "outputs": []
    }
   ],
   "metadata": {}
  }
 ]
}