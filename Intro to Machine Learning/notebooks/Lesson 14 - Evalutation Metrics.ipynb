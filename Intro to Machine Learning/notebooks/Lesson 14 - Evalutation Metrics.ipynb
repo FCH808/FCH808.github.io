{
 "metadata": {
  "name": "",
  "signature": "sha256:a2c1ed45c052915480ae690839e62e2030aa5ae67dc280441cf9871b7f7889ce"
 },
 "nbformat": 3,
 "nbformat_minor": 0,
 "worksheets": [
  {
   "cells": [
    {
     "cell_type": "code",
     "collapsed": false,
     "input": [
      "%matplotlib inline"
     ],
     "language": "python",
     "metadata": {},
     "outputs": [],
     "prompt_number": 1
    },
    {
     "cell_type": "code",
     "collapsed": false,
     "input": [
      "%load ../ud120-projects/evaluation/evaluate_poi_identifier.py"
     ],
     "language": "python",
     "metadata": {},
     "outputs": [],
     "prompt_number": 7
    },
    {
     "cell_type": "code",
     "collapsed": false,
     "input": [
      "#%%writefile ../ud120-projects/evaluation/evaluate_poi_identifier.py\n",
      "#!/usr/bin/python\n",
      "\n",
      "\n",
      "\"\"\"\n",
      "    starter code for the evaluation mini-project\n",
      "    start by copying your trained/tested POI identifier from\n",
      "    that you built in the validation mini-project\n",
      "\n",
      "    the second step toward building your POI identifier!\n",
      "\n",
      "    start by loading/formatting the data\n",
      "\n",
      "\"\"\"\n",
      "\n",
      "import pickle\n",
      "import sys\n",
      "sys.path.append(\"../ud120-projects/tools/\")\n",
      "from feature_format import featureFormat, targetFeatureSplit\n",
      "\n",
      "data_dict = pickle.load(open(\"../ud120-projects/final_project/final_project_dataset.pkl\", \"r\") )\n",
      "\n",
      "### add more features to features_list!\n",
      "features_list = [\"poi\", \"salary\"]\n",
      "\n",
      "data = featureFormat(data_dict, features_list)\n",
      "labels, features = targetFeatureSplit(data)\n",
      "\n",
      "### Splitting train/test\n",
      "\n",
      "from sklearn.cross_validation import train_test_split\n",
      "\n",
      "train_features, test_features, train_labels, test_labels = train_test_split(features, labels,\n",
      "                                                                            test_size=0.3,\n",
      "                                                                            random_state=42)\n",
      "\n",
      "### Train decision tree\n",
      "from sklearn.tree import DecisionTreeClassifier\n",
      "from sklearn.metrics import accuracy_score\n",
      "from sklearn.metrics import confusion_matrix\n",
      "from sklearn.metrics import classification_report\n",
      "\n",
      "clf = DecisionTreeClassifier()\n",
      "clf.fit(train_features, train_labels)\n",
      "\n",
      "pred = clf.predict(test_features)\n",
      "\n",
      "print \"Confusion Matrix:\\n\", confusion_matrix(test_labels, pred), \"\\n\"\n",
      "print \"Classification Report:\\n\", classification_report(test_labels, pred)\n",
      "print \"Accuracy:\", accuracy_score(test_labels, pred)"
     ],
     "language": "python",
     "metadata": {},
     "outputs": [
      {
       "output_type": "stream",
       "stream": "stdout",
       "text": [
        "Overwriting ../ud120-projects/evaluation/evaluate_poi_identifier.py\n"
       ]
      }
     ],
     "prompt_number": 29
    },
    {
     "cell_type": "code",
     "collapsed": false,
     "input": [
      "sum(test_labels)"
     ],
     "language": "python",
     "metadata": {},
     "outputs": [
      {
       "metadata": {},
       "output_type": "pyout",
       "prompt_number": 13,
       "text": [
        "5.0"
       ]
      }
     ],
     "prompt_number": 13
    },
    {
     "cell_type": "code",
     "collapsed": false,
     "input": [
      "len(test_labels)"
     ],
     "language": "python",
     "metadata": {},
     "outputs": [
      {
       "metadata": {},
       "output_type": "pyout",
       "prompt_number": 16,
       "text": [
        "29"
       ]
      }
     ],
     "prompt_number": 16
    },
    {
     "cell_type": "code",
     "collapsed": false,
     "input": [
      "24./29"
     ],
     "language": "python",
     "metadata": {},
     "outputs": [
      {
       "metadata": {},
       "output_type": "pyout",
       "prompt_number": 17,
       "text": [
        "0.8275862068965517"
       ]
      }
     ],
     "prompt_number": 17
    },
    {
     "cell_type": "code",
     "collapsed": false,
     "input": [
      "from sklearn.metrics import precision_score\n",
      "from sklearn.metrics import recall_score"
     ],
     "language": "python",
     "metadata": {},
     "outputs": [],
     "prompt_number": 18
    },
    {
     "cell_type": "code",
     "collapsed": false,
     "input": [
      "precision_score(test_labels, pred)"
     ],
     "language": "python",
     "metadata": {},
     "outputs": [
      {
       "metadata": {},
       "output_type": "pyout",
       "prompt_number": 20,
       "text": [
        "0.0"
       ]
      }
     ],
     "prompt_number": 20
    },
    {
     "cell_type": "code",
     "collapsed": false,
     "input": [
      "recall_score(test_labels, pred)"
     ],
     "language": "python",
     "metadata": {},
     "outputs": [
      {
       "metadata": {},
       "output_type": "pyout",
       "prompt_number": 21,
       "text": [
        "0.0"
       ]
      }
     ],
     "prompt_number": 21
    },
    {
     "cell_type": "code",
     "collapsed": false,
     "input": [
      "predictions = [0, 1, 1, 0, 0, 0, 1, 0, 1, 0, 0, 1, 0, 0, 1, 1, 0, 1, 0, 1] \n",
      "true_labels = [0, 0, 0, 0, 0, 0, 1, 0, 1, 1, 0, 1, 0, 1, 1, 1, 0, 1, 0, 0]"
     ],
     "language": "python",
     "metadata": {},
     "outputs": [],
     "prompt_number": 23
    },
    {
     "cell_type": "code",
     "collapsed": false,
     "input": [
      "(6)/9."
     ],
     "language": "python",
     "metadata": {},
     "outputs": [
      {
       "metadata": {},
       "output_type": "pyout",
       "prompt_number": 27,
       "text": [
        "0.6666666666666666"
       ]
      }
     ],
     "prompt_number": 27
    },
    {
     "cell_type": "code",
     "collapsed": false,
     "input": [
      "6/8."
     ],
     "language": "python",
     "metadata": {},
     "outputs": [
      {
       "metadata": {},
       "output_type": "pyout",
       "prompt_number": 28,
       "text": [
        "0.75"
       ]
      }
     ],
     "prompt_number": 28
    },
    {
     "cell_type": "code",
     "collapsed": false,
     "input": [],
     "language": "python",
     "metadata": {},
     "outputs": []
    }
   ],
   "metadata": {}
  }
 ]
}