{
 "metadata": {
  "name": "",
  "signature": "sha256:5462a98a5a33030c366830876f517d396b80c3a65c96044862dcbd78014148c5"
 },
 "nbformat": 3,
 "nbformat_minor": 0,
 "worksheets": [
  {
   "cells": [
    {
     "cell_type": "code",
     "collapsed": false,
     "input": [
      "from sklearn import svm\n",
      "%matplotlib inline"
     ],
     "language": "python",
     "metadata": {},
     "outputs": [],
     "prompt_number": 4
    },
    {
     "cell_type": "code",
     "collapsed": false,
     "input": [
      "X = [[0, 0], [1, 2]]\n",
      "y = [0, 1]\n",
      "\n",
      "clf = svm.SVC()\n",
      "\n",
      "clf.fit(X, y)\n",
      "\n",
      "clf.predict([[2., 2.]])"
     ],
     "language": "python",
     "metadata": {},
     "outputs": [
      {
       "metadata": {},
       "output_type": "pyout",
       "prompt_number": 2,
       "text": [
        "array([1])"
       ]
      }
     ],
     "prompt_number": 2
    },
    {
     "cell_type": "code",
     "collapsed": false,
     "input": [
      "%load scripts/class_vis.py"
     ],
     "language": "python",
     "metadata": {},
     "outputs": [],
     "prompt_number": 3
    },
    {
     "cell_type": "code",
     "collapsed": false,
     "input": [
      "#!/usr/bin/python\n",
      "\n",
      "#from udacityplots import *\n",
      "import matplotlib \n",
      "matplotlib.use('agg')\n",
      "\n",
      "import matplotlib.pyplot as plt\n",
      "import pylab as pl\n",
      "import numpy as np\n",
      "\n",
      "#import numpy as np\n",
      "#import matplotlib.pyplot as plt\n",
      "#plt.ioff()\n",
      "\n",
      "def prettyPicture(clf, X_test, y_test):\n",
      "    x_min = 0.0; x_max = 1.0\n",
      "    y_min = 0.0; y_max = 1.0\n",
      "\n",
      "    # Plot the decision boundary. For that, we will assign a color to each\n",
      "    # point in the mesh [x_min, m_max]x[y_min, y_max].\n",
      "    h = .01  # step size in the mesh\n",
      "    xx, yy = np.meshgrid(np.arange(x_min, x_max, h), np.arange(y_min, y_max, h))\n",
      "    Z = clf.predict(np.c_[xx.ravel(), yy.ravel()])\n",
      "\n",
      "    # Put the result into a color plot\n",
      "    Z = Z.reshape(xx.shape)\n",
      "    plt.xlim(xx.min(), xx.max())\n",
      "    plt.ylim(yy.min(), yy.max())\n",
      "\n",
      "    plt.pcolormesh(xx, yy, Z, cmap=pl.cm.seismic)\n",
      "\n",
      "    # Plot also the test points\n",
      "    grade_sig = [X_test[ii][0] for ii in range(0, len(X_test)) if y_test[ii]==0]\n",
      "    bumpy_sig = [X_test[ii][1] for ii in range(0, len(X_test)) if y_test[ii]==0]\n",
      "    grade_bkg = [X_test[ii][0] for ii in range(0, len(X_test)) if y_test[ii]==1]\n",
      "    bumpy_bkg = [X_test[ii][1] for ii in range(0, len(X_test)) if y_test[ii]==1]\n",
      "\n",
      "    plt.scatter(grade_sig, bumpy_sig, color = \"b\", label=\"fast\")\n",
      "    plt.scatter(grade_bkg, bumpy_bkg, color = \"r\", label=\"slow\")\n",
      "    plt.legend()\n",
      "    plt.xlabel(\"bumpiness\")\n",
      "    plt.ylabel(\"grade\")\n",
      "    plt.show()\n",
      "    #plt.savefig(\"test.png\")\n",
      "    \n",
      "import base64\n",
      "import json\n",
      "import subprocess\n",
      "\n",
      "def output_image(name, format, bytes):\n",
      "    image_start = \"BEGIN_IMAGE_f9825uweof8jw9fj4r8\"\n",
      "    image_end = \"END_IMAGE_0238jfw08fjsiufhw8frs\"\n",
      "    data = {}\n",
      "    data['name'] = name\n",
      "    data['format'] = format\n",
      "    data['bytes'] = base64.encodestring(bytes)\n",
      "    print image_start+json.dumps(data)+image_end"
     ],
     "language": "python",
     "metadata": {},
     "outputs": [
      {
       "output_type": "stream",
       "stream": "stderr",
       "text": [
        "c:\\Users\\fch80_000\\Anaconda\\lib\\site-packages\\matplotlib\\__init__.py:1256: UserWarning:  This call to matplotlib.use() has no effect\n",
        "because the backend has already been chosen;\n",
        "matplotlib.use() must be called *before* pylab, matplotlib.pyplot,\n",
        "or matplotlib.backends is imported for the first time.\n",
        "\n",
        "  warnings.warn(_use_error_msg)\n"
       ]
      }
     ],
     "prompt_number": 5
    },
    {
     "cell_type": "code",
     "collapsed": false,
     "input": [
      "%load scripts/prep_terrain_data.py"
     ],
     "language": "python",
     "metadata": {},
     "outputs": [],
     "prompt_number": 6
    },
    {
     "cell_type": "code",
     "collapsed": false,
     "input": [
      "#!/usr/bin/python\n",
      "import random\n",
      "\n",
      "\n",
      "def makeTerrainData(n_points=1000):\n",
      "###############################################################################\n",
      "### make the toy dataset\n",
      "    random.seed(42)\n",
      "    grade = [random.random() for ii in range(0,n_points)]\n",
      "    bumpy = [random.random() for ii in range(0,n_points)]\n",
      "    error = [random.random() for ii in range(0,n_points)]\n",
      "    y = [round(grade[ii]*bumpy[ii]+0.3+0.1*error[ii]) for ii in range(0,n_points)]\n",
      "    for ii in range(0, len(y)):\n",
      "        if grade[ii]>0.8 or bumpy[ii]>0.8:\n",
      "            y[ii] = 1.0\n",
      "\n",
      "### split into train/test sets\n",
      "    X = [[gg, ss] for gg, ss in zip(grade, bumpy)]\n",
      "    split = int(0.75*n_points)\n",
      "    X_train = X[0:split]\n",
      "    X_test  = X[split:]\n",
      "    y_train = y[0:split]\n",
      "    y_test  = y[split:]\n",
      "\n",
      "    grade_sig = [X_train[ii][0] for ii in range(0, len(X_train)) if y_train[ii]==0]\n",
      "    bumpy_sig = [X_train[ii][1] for ii in range(0, len(X_train)) if y_train[ii]==0]\n",
      "    grade_bkg = [X_train[ii][0] for ii in range(0, len(X_train)) if y_train[ii]==1]\n",
      "    bumpy_bkg = [X_train[ii][1] for ii in range(0, len(X_train)) if y_train[ii]==1]\n",
      "\n",
      "#    training_data = {\"fast\":{\"grade\":grade_sig, \"bumpiness\":bumpy_sig}\n",
      "#            , \"slow\":{\"grade\":grade_bkg, \"bumpiness\":bumpy_bkg}}\n",
      "\n",
      "\n",
      "    grade_sig = [X_test[ii][0] for ii in range(0, len(X_test)) if y_test[ii]==0]\n",
      "    bumpy_sig = [X_test[ii][1] for ii in range(0, len(X_test)) if y_test[ii]==0]\n",
      "    grade_bkg = [X_test[ii][0] for ii in range(0, len(X_test)) if y_test[ii]==1]\n",
      "    bumpy_bkg = [X_test[ii][1] for ii in range(0, len(X_test)) if y_test[ii]==1]\n",
      "\n",
      "    test_data = {\"fast\":{\"grade\":grade_sig, \"bumpiness\":bumpy_sig}\n",
      "            , \"slow\":{\"grade\":grade_bkg, \"bumpiness\":bumpy_bkg}}\n",
      "\n",
      "    return X_train, y_train, X_test, y_test\n",
      "#    return training_data, test_data"
     ],
     "language": "python",
     "metadata": {},
     "outputs": [],
     "prompt_number": 7
    },
    {
     "cell_type": "markdown",
     "metadata": {},
     "source": [
      "SVM"
     ]
    },
    {
     "cell_type": "code",
     "collapsed": false,
     "input": [
      "import sys\n",
      "#from class_vis import prettyPicture\n",
      "#from prep_terrain_data import makeTerrainData\n",
      "\n",
      "import matplotlib.pyplot as plt\n",
      "import copy\n",
      "import numpy as np\n",
      "import pylab as pl\n",
      "\n",
      "\n",
      "features_train, labels_train, features_test, labels_test = makeTerrainData()\n",
      "\n",
      "\n",
      "########################## SVM #################################\n",
      "### we handle the import statement and SVC creation for you here\n",
      "from sklearn.svm import SVC\n",
      "clf = SVC(kernel=\"linear\")\n",
      "\n",
      "\n",
      "#### now your job is to fit the classifier\n",
      "#### using the training features/labels, and to\n",
      "#### make a set of predictions on the test data\n",
      "\n",
      "\n",
      "clf.fit(features_train, labels_train)\n",
      "\n",
      "#### store your predictions in a list named pred\n",
      "\n",
      "pred = clf.predict(features_test)\n",
      "\n",
      "\n",
      "from sklearn.metrics import accuracy_score\n",
      "acc = accuracy_score(pred, labels_test)\n",
      "\n",
      "def submitAccuracy():\n",
      "    return acc\n",
      "\n",
      "print \"Accuracy: \", submitAccuracy()"
     ],
     "language": "python",
     "metadata": {},
     "outputs": [
      {
       "output_type": "stream",
       "stream": "stdout",
       "text": [
        "Accuracy:  0.92\n"
       ]
      }
     ],
     "prompt_number": 8
    },
    {
     "cell_type": "code",
     "collapsed": false,
     "input": [
      "prettyPicture(clf, features_test, labels_test)"
     ],
     "language": "python",
     "metadata": {},
     "outputs": [
      {
       "metadata": {},
       "output_type": "display_data",
       "png": "[encoded data removed]",
       "text": [
        "<matplotlib.figure.Figure at 0x12d682e8>"
       ]
      }
     ],
     "prompt_number": 9
    },
    {
     "cell_type": "code",
     "collapsed": false,
     "input": [
      "clf2 = SVC(kernel=\"linear\", gamma=1.0)\n",
      "clf2.fit(features_train, labels_train)"
     ],
     "language": "python",
     "metadata": {},
     "outputs": [
      {
       "metadata": {},
       "output_type": "pyout",
       "prompt_number": 10,
       "text": [
        "SVC(C=1.0, cache_size=200, class_weight=None, coef0=0.0, degree=3, gamma=1.0,\n",
        "  kernel='linear', max_iter=-1, probability=False, random_state=None,\n",
        "  shrinking=True, tol=0.001, verbose=False)"
       ]
      }
     ],
     "prompt_number": 10
    },
    {
     "cell_type": "code",
     "collapsed": false,
     "input": [
      "prettyPicture(clf2, features_test, labels_test)"
     ],
     "language": "python",
     "metadata": {},
     "outputs": [
      {
       "metadata": {},
       "output_type": "display_data",
       "png": "[encoded data removed]",
       "text": [
        "<matplotlib.figure.Figure at 0x12d683c8>"
       ]
      }
     ],
     "prompt_number": 11
    },
    {
     "cell_type": "code",
     "collapsed": false,
     "input": [
      "clf2 = SVC(kernel=\"rbf\", C=100000000)\n",
      "clf2.fit(features_train, labels_train)\n",
      "prettyPicture(clf2, features_test, labels_test)"
     ],
     "language": "python",
     "metadata": {},
     "outputs": [
      {
       "metadata": {},
       "output_type": "display_data",
       "png": "[encoded data removed]",
       "text": [
        "<matplotlib.figure.Figure at 0x148f8c88>"
       ]
      }
     ],
     "prompt_number": 12
    },
    {
     "cell_type": "code",
     "collapsed": false,
     "input": [
      "%load ../ud120-projects/svm/svm_author_id.py"
     ],
     "language": "python",
     "metadata": {},
     "outputs": [],
     "prompt_number": 16
    },
    {
     "cell_type": "code",
     "collapsed": false,
     "input": [
      "# %%writefile ../ud120-projects/svm/svm_author_id.py\n",
      "#!/usr/bin/python\n",
      "\n",
      "\"\"\" \n",
      "    this is the code to accompany the Lesson 2 (SVM) mini-project\n",
      "\n",
      "    use an SVM to identify emails from the Enron corpus by their authors\n",
      "    \n",
      "    Sara has label 0\n",
      "    Chris has label 1\n",
      "\n",
      "\"\"\"\n",
      "    \n",
      "import sys\n",
      "from time import time\n",
      "sys.path.append(\"../ud120-projects/tools/\")\n",
      "from email_preprocess import preprocess\n",
      "\n",
      "\n",
      "### features_train and features_test are the features for the training\n",
      "### and testing datasets, respectively\n",
      "### labels_train and labels_test are the corresponding item labels\n",
      "features_train, features_test, labels_train, labels_test = preprocess()\n",
      "\n",
      "\n",
      "\n",
      "#########################################################\n",
      "from sklearn.svm import SVC\n",
      "from sklearn.metrics import accuracy_score\n",
      "\n",
      "if __name__ == '__main__':\n",
      "\n",
      "    clt = SVC(kernel=\"linear\")\n",
      "    time0 = time()\n",
      "    clt.fit(features_train, labels_train)\n",
      "    print \"Training time: \", round(time()-t0, 3), \"seconds.\"\n",
      "    \n",
      "    t0 = time()\n",
      "    pred = clt.predict(features_test)\n",
      "    print \"Prediction Time: \", round(time()-t0, 3), \"seconds.\"\n",
      "    \n",
      "    acc = accuracy_score(pred, labels_test)\n",
      "    print \"Accuracy: \", acc\n",
      "    \n",
      "#########################################################\n",
      "\n",
      "\n"
     ],
     "language": "python",
     "metadata": {},
     "outputs": []
    },
    {
     "cell_type": "code",
     "collapsed": false,
     "input": [
      "if __name__ == '__main__':\n",
      "    \n",
      "    features_train, features_test, labels_train, labels_test = preprocess()\n",
      "    \n",
      "    clt = SVC(kernel=\"linear\")\n",
      "    t0 = time()\n",
      "    \n",
      "    features_train = features_train[:len(features_train)/100]\n",
      "    labels_train = labels_train[:len(labels_train)/100]\n",
      "    \n",
      "    clt.fit(features_train, labels_train)\n",
      "    print \"Training time: \", round(time()-t0, 3), \"seconds.\"\n",
      "    \n",
      "    t0 = time()\n",
      "    pred = clt.predict(features_test)\n",
      "    print \"Prediction Time: \", round(time()-t0, 3), \"seconds.\"\n",
      "    \n",
      "    acc = accuracy_score(pred, labels_test)\n",
      "    print \"Accuracy: \", acc"
     ],
     "language": "python",
     "metadata": {},
     "outputs": [
      {
       "output_type": "stream",
       "stream": "stdout",
       "text": [
        " no. of Chris training emails: 7936\n",
        "no. of Sara training emails: 7884\n",
        "Training time: "
       ]
      },
      {
       "output_type": "stream",
       "stream": "stdout",
       "text": [
        " 0.123 seconds.\n",
        "Prediction Time: "
       ]
      },
      {
       "output_type": "stream",
       "stream": "stdout",
       "text": [
        " 1.122 seconds.\n",
        "Accuracy:  0.884527872582\n"
       ]
      }
     ],
     "prompt_number": 26
    },
    {
     "cell_type": "code",
     "collapsed": false,
     "input": [
      "if __name__ == '__main__':\n",
      "    \n",
      "    features_train, features_test, labels_train, labels_test = preprocess()\n",
      "    \n",
      "    clt = SVC(kernel=\"rbf\")\n",
      "    t0 = time()\n",
      "    \n",
      "    features_train = features_train[:len(features_train)/100]\n",
      "    labels_train = labels_train[:len(labels_train)/100]\n",
      "    \n",
      "    clt.fit(features_train, labels_train)\n",
      "    print \"Training time: \", round(time()-t0, 3), \"seconds.\"\n",
      "    \n",
      "    t0 = time()\n",
      "    pred = clt.predict(features_test)\n",
      "    print \"Prediction Time: \", round(time()-t0, 3), \"seconds.\"\n",
      "    \n",
      "    acc = accuracy_score(pred, labels_test)\n",
      "    print \"Accuracy: \", acc"
     ],
     "language": "python",
     "metadata": {},
     "outputs": [
      {
       "output_type": "stream",
       "stream": "stdout",
       "text": [
        "no. of Chris training emails: 7936\n",
        "no. of Sara training emails: 7884\n",
        "Training time: "
       ]
      },
      {
       "output_type": "stream",
       "stream": "stdout",
       "text": [
        " 0.118 seconds.\n",
        "Prediction Time: "
       ]
      },
      {
       "output_type": "stream",
       "stream": "stdout",
       "text": [
        " 1.241 seconds.\n",
        "Accuracy:  0.616040955631\n"
       ]
      }
     ],
     "prompt_number": 27
    },
    {
     "cell_type": "code",
     "collapsed": false,
     "input": [
      "if __name__ == '__main__':\n",
      "    \n",
      "    features_train, features_test, labels_train, labels_test = preprocess()\n",
      "    \n",
      "    clt = SVC(kernel=\"rbf\", C=10000.0)\n",
      "    t0 = time()\n",
      "    \n",
      "    features_train = features_train[:len(features_train)/100]\n",
      "    labels_train = labels_train[:len(labels_train)/100]\n",
      "    \n",
      "    clt.fit(features_train, labels_train)\n",
      "    print \"Training time: \", round(time()-t0, 3), \"seconds.\"\n",
      "    \n",
      "    t0 = time()\n",
      "    pred = clt.predict(features_test)\n",
      "    print \"Prediction Time: \", round(time()-t0, 3), \"seconds.\"\n",
      "    \n",
      "    acc = accuracy_score(pred, labels_test)\n",
      "    print \"Accuracy: \", acc"
     ],
     "language": "python",
     "metadata": {},
     "outputs": [
      {
       "output_type": "stream",
       "stream": "stdout",
       "text": [
        "no. of Chris training emails: 7936\n",
        "no. of Sara training emails: 7884\n",
        "Training time: "
       ]
      },
      {
       "output_type": "stream",
       "stream": "stdout",
       "text": [
        " 0.109 seconds.\n",
        "Prediction Time: "
       ]
      },
      {
       "output_type": "stream",
       "stream": "stdout",
       "text": [
        " 0.964 seconds.\n",
        "Accuracy:  0.892491467577\n"
       ]
      }
     ],
     "prompt_number": 31
    },
    {
     "cell_type": "code",
     "collapsed": false,
     "input": [
      "if __name__ == '__main__':\n",
      "    \n",
      "    features_train, features_test, labels_train, labels_test = preprocess()\n",
      "    \n",
      "    clt = SVC(kernel=\"rbf\", C=10000.0)\n",
      "    t0 = time()\n",
      "    \n",
      "    #features_train = features_train[:len(features_train)/100]\n",
      "    #labels_train = labels_train[:len(labels_train)/100]\n",
      "    \n",
      "    clt.fit(features_train, labels_train)\n",
      "    print \"Training time: \", round(time()-t0, 3), \"seconds.\"\n",
      "    \n",
      "    t0 = time()\n",
      "    pred = clt.predict(features_test)\n",
      "    print \"Prediction Time: \", round(time()-t0, 3), \"seconds.\"\n",
      "    \n",
      "    acc = accuracy_score(pred, labels_test)\n",
      "    print \"Accuracy: \", acc"
     ],
     "language": "python",
     "metadata": {},
     "outputs": [
      {
       "output_type": "stream",
       "stream": "stdout",
       "text": [
        "no. of Chris training emails: 7936\n",
        "no. of Sara training emails: 7884\n",
        "Training time: "
       ]
      },
      {
       "output_type": "stream",
       "stream": "stdout",
       "text": [
        " 118.905 seconds.\n",
        "Prediction Time: "
       ]
      },
      {
       "output_type": "stream",
       "stream": "stdout",
       "text": [
        " 12.023 seconds.\n",
        "Accuracy:  0.990898748578\n"
       ]
      }
     ],
     "prompt_number": 32
    },
    {
     "cell_type": "code",
     "collapsed": false,
     "input": [
      "print pred[10]\n",
      "print pred[26]\n",
      "print pred[50]"
     ],
     "language": "python",
     "metadata": {},
     "outputs": [
      {
       "output_type": "stream",
       "stream": "stdout",
       "text": [
        "1\n",
        "0\n",
        "1\n"
       ]
      }
     ],
     "prompt_number": 34
    },
    {
     "cell_type": "code",
     "collapsed": false,
     "input": [
      "np.bincount(pred)"
     ],
     "language": "python",
     "metadata": {},
     "outputs": [
      {
       "metadata": {},
       "output_type": "pyout",
       "prompt_number": 38,
       "text": [
        "array([881, 877], dtype=int64)"
       ]
      }
     ],
     "prompt_number": 38
    },
    {
     "cell_type": "code",
     "collapsed": false,
     "input": [],
     "language": "python",
     "metadata": {},
     "outputs": []
    }
   ],
   "metadata": {}
  }
 ]
}