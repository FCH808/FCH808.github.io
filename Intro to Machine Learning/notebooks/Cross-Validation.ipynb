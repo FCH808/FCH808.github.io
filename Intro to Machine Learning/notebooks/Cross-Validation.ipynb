{
 "metadata": {
  "name": "",
  "signature": "sha256:b4cb78a063a1e814d967168c0b93f73f2ac7385ff8bfd0da26e177a9c2fb28c6"
 },
 "nbformat": 3,
 "nbformat_minor": 0,
 "worksheets": [
  {
   "cells": [
    {
     "cell_type": "code",
     "collapsed": false,
     "input": [
      "# http://nbviewer.ipython.org/github/jming/cs109/blob/master/lec_10_cross_val.ipynb"
     ],
     "language": "python",
     "metadata": {},
     "outputs": [],
     "prompt_number": 2
    },
    {
     "cell_type": "code",
     "collapsed": false,
     "input": [
      "%matplotlib inline\n",
      "\n",
      "import numpy as np\n",
      "import matplotlib.pyplot as plt\n",
      "\n",
      "from sklearn.feature_selection import SelectKBest, f_regression\n",
      "from sklearn.cross_validation import cross_val_score, KFold\n",
      "from sklearn.linear_model import LinearRegression"
     ],
     "language": "python",
     "metadata": {},
     "outputs": []
    },
    {
     "cell_type": "code",
     "collapsed": false,
     "input": [
      "def hidden_model(x):\n",
      "    # y is a linear combination of columns 5 and 10...\n",
      "    result = x[:, 5] + x[:, 10]\n",
      "    # ... with a little noise\n",
      "    # loc is mean, scale is standard deviation\n",
      "    result += np.random.normal(loc=0, scale=.005, size=result.shape)\n",
      "    return result\n",
      "\n",
      "def make_x(nobs):\n",
      "    return np.random.uniform(low=0, high=3, size=(nobs, 10**6))\n",
      "\n",
      "x = make_x(20)\n",
      "y = hidden_model(x)\n",
      "\n",
      "print x.shape"
     ],
     "language": "python",
     "metadata": {},
     "outputs": [
      {
       "output_type": "stream",
       "stream": "stdout",
       "text": [
        "(20L, 1000000L)\n"
       ]
      }
     ],
     "prompt_number": 5
    },
    {
     "cell_type": "code",
     "collapsed": false,
     "input": [
      "selector = SelectKBest(f_regression, k=2).fit(x, y)\n",
      "best_features = np.where(selector.get_support())[0]\n",
      "print best_features"
     ],
     "language": "python",
     "metadata": {},
     "outputs": [
      {
       "output_type": "stream",
       "stream": "stdout",
       "text": [
        "[595299 969164]\n"
       ]
      }
     ],
     "prompt_number": 7
    },
    {
     "cell_type": "code",
     "collapsed": false,
     "input": [
      "# get_support returns boolean array with KBest features as True, rest False\n",
      "selector.get_support()[0:10]"
     ],
     "language": "python",
     "metadata": {},
     "outputs": [
      {
       "metadata": {},
       "output_type": "pyout",
       "prompt_number": 11,
       "text": [
        "array([False, False, False, False, False, False, False, False, False, False], dtype=bool)"
       ]
      }
     ],
     "prompt_number": 11
    },
    {
     "cell_type": "code",
     "collapsed": false,
     "input": [
      "# when given only one array, returns indices of non-zero(True) values\n",
      "np.where(selector.get_support())"
     ],
     "language": "python",
     "metadata": {},
     "outputs": [
      {
       "metadata": {},
       "output_type": "pyout",
       "prompt_number": 13,
       "text": [
        "(array([595299, 969164], dtype=int64),)"
       ]
      }
     ],
     "prompt_number": 13
    },
    {
     "cell_type": "code",
     "collapsed": false,
     "input": [
      "for b in best_features:\n",
      "    plt.plot(x[:, b], y, 'o')\n",
      "    plt.title('Column %i' % b)\n",
      "    plt.xlabel('X')\n",
      "    plt.ylabel('Y')\n",
      "    plt.show()"
     ],
     "language": "python",
     "metadata": {},
     "outputs": [
      {
       "metadata": {},
       "output_type": "display_data",
       "png": "[encoded data removed]",
       "text": [
        "<matplotlib.figure.Figure at 0x13d54080>"
       ]
      },
      {
       "metadata": {},
       "output_type": "display_data",
       "png": "[encoded data removed]",
       "text": [
        "<matplotlib.figure.Figure at 0x14262a20>"
       ]
      }
     ],
     "prompt_number": 18
    },
    {
     "cell_type": "code",
     "collapsed": false,
     "input": [
      "xt = x[:, best_features]\n",
      "clf = LinearRegression().fit(xt, y)\n",
      "print \"Score(R^2) is :\", clf.score(xt, y)"
     ],
     "language": "python",
     "metadata": {},
     "outputs": [
      {
       "output_type": "stream",
       "stream": "stdout",
       "text": [
        "Score(R^2) is : 0.829452455754\n"
       ]
      }
     ],
     "prompt_number": 19
    },
    {
     "cell_type": "code",
     "collapsed": false,
     "input": [
      "y_pred = clf.predict(xt)\n",
      "plt.plot(y_pred, y, 'o')\n",
      "plt.plot(y, y, 'r-')\n",
      "plt.xlabel('Predicted')\n",
      "plt.ylabel('Observed')"
     ],
     "language": "python",
     "metadata": {},
     "outputs": [
      {
       "metadata": {},
       "output_type": "pyout",
       "prompt_number": 20,
       "text": [
        "<matplotlib.text.Text at 0x13fb8cf8>"
       ]
      },
      {
       "metadata": {},
       "output_type": "display_data",
       "png": "[encoded data removed]",
       "text": [
        "<matplotlib.figure.Figure at 0x1401fda0>"
       ]
      }
     ],
     "prompt_number": 20
    },
    {
     "cell_type": "code",
     "collapsed": false,
     "input": [
      "cross_val_score(clf, xt, y, cv=5).mean()"
     ],
     "language": "python",
     "metadata": {},
     "outputs": [
      {
       "metadata": {},
       "output_type": "pyout",
       "prompt_number": 21,
       "text": [
        "0.53542337114497585"
       ]
      }
     ],
     "prompt_number": 21
    },
    {
     "cell_type": "code",
     "collapsed": false,
     "input": [
      "for train, test in KFold(n=len(y), n_folds=10):\n",
      "    xtrain, xtest, ytrain, ytest = xt[train], xt[test], y[train], y[test]\n",
      "    \n",
      "    clf.fit(xtrain, ytrain)\n",
      "    y_pred = clf.predict(xtest)\n",
      "    \n",
      "    plt.plot(y_pred, ytest, 'o')\n",
      "    plt.plot(ytest, ytest, 'r-')\n",
      "    \n",
      "plt.xlabel('Predicted')\n",
      "plt.ylabel('Observed')"
     ],
     "language": "python",
     "metadata": {},
     "outputs": [
      {
       "metadata": {},
       "output_type": "pyout",
       "prompt_number": 26,
       "text": [
        "<matplotlib.text.Text at 0x139aa470>"
       ]
      },
      {
       "metadata": {},
       "output_type": "display_data",
       "png": "[encoded data removed]",
       "text": [
        "<matplotlib.figure.Figure at 0x13c8fda0>"
       ]
      }
     ],
     "prompt_number": 26
    },
    {
     "cell_type": "code",
     "collapsed": false,
     "input": [
      "x2 = make_x(100)\n",
      "y2 = hidden_model(x2)\n",
      "x2 = x2[:, best_features]\n",
      "\n",
      "y2_pred = clf.predict(x2)\n",
      "\n",
      "plt.plot(y2_pred, y2, 'o')\n",
      "plt.plot(y2, y2, 'r-')\n",
      "plt.xlabel('Predicted')\n",
      "plt.ylabel('Observed')\n"
     ],
     "language": "python",
     "metadata": {},
     "outputs": [
      {
       "metadata": {},
       "output_type": "pyout",
       "prompt_number": 27,
       "text": [
        "<matplotlib.text.Text at 0x137444e0>"
       ]
      },
      {
       "metadata": {},
       "output_type": "display_data",
       "png": "[encoded data removed]",
       "text": [
        "<matplotlib.figure.Figure at 0x13b619b0>"
       ]
      }
     ],
     "prompt_number": 27
    },
    {
     "cell_type": "markdown",
     "metadata": {},
     "source": [
      "Our model fails! There's not really any correlation because we used the entire dataset to select our K-best features. Because of this, cross-validation did not detect the overfitting."
     ]
    },
    {
     "cell_type": "markdown",
     "metadata": {},
     "source": [
      "#The right way to cross-validate."
     ]
    },
    {
     "cell_type": "markdown",
     "metadata": {},
     "source": [
      "To combat overfitting, we cannot peak into the cross-validation set at all. To accomplish this, we need to find the k-best features in each cross-validation iteration."
     ]
    },
    {
     "cell_type": "code",
     "collapsed": false,
     "input": [
      "scores = []\n",
      "best_features_list = []\n",
      "\n",
      "for train, test in KFold(len(y), n_folds=5):\n",
      "    xtrain, xtest, ytrain, ytest = x[train], x[test], y[train], y[test]\n",
      "    \n",
      "    b = SelectKBest(score_func=f_regression, k=2)\n",
      "    b.fit(xtrain, ytrain)\n",
      "    xtrain = xtrain[:, b.get_support()]\n",
      "    xtest = xtest[:, b.get_support()]\n",
      "    \n",
      "    # Save the best features selected each time.\n",
      "    best_features_list.append(np.where(b.get_support())[0])\n",
      "    \n",
      "    clf.fit(xtrain, ytrain)\n",
      "    scores.append(clf.score(xtest, ytest))\n",
      "    \n",
      "    y_pred = clf.predict(xtest)\n",
      "    plt.plot(y_pred, ytest, 'o')\n",
      "    plt.plot(ytest, ytest, 'r-')\n",
      "\n",
      "plt.xlabel('Predicted')\n",
      "plt.ylabel('Observed')\n",
      "\n",
      "print \"CV Score (R^2) is:\", np.mean(scores)\n",
      "    "
     ],
     "language": "python",
     "metadata": {},
     "outputs": [
      {
       "output_type": "stream",
       "stream": "stdout",
       "text": [
        "CV Score (R^2) is: -1.08858015915\n"
       ]
      },
      {
       "metadata": {},
       "output_type": "display_data",
       "png": "[encoded data removed]",
       "text": [
        "<matplotlib.figure.Figure at 0x139e6128>"
       ]
      }
     ],
     "prompt_number": 30
    },
    {
     "cell_type": "code",
     "collapsed": false,
     "input": [],
     "language": "python",
     "metadata": {},
     "outputs": []
    },
    {
     "cell_type": "code",
     "collapsed": false,
     "input": [
      "import pprint\n",
      "\n",
      "pprint.pprint(best_features_list)\n"
     ],
     "language": "python",
     "metadata": {},
     "outputs": [
      {
       "output_type": "stream",
       "stream": "stdout",
       "text": [
        "[array([595299, 932157], dtype=int64),\n",
        " array([137514, 618756], dtype=int64),\n",
        " array([181178, 617072], dtype=int64),\n",
        " array([658208, 961409], dtype=int64),\n",
        " array([615455, 895830], dtype=int64)]\n",
        "[-1.296585903714977,\n",
        " 0.0035047490530437653,\n",
        " -1.883693928785247,\n",
        " -2.0743377549307271,\n",
        " -0.19178795737601195]\n"
       ]
      }
     ],
     "prompt_number": 34
    },
    {
     "cell_type": "markdown",
     "metadata": {},
     "source": [
      "The same K-best features never show up twice between any of the 5 folds! For now, we have properly found detected overfitting by finding that our predictions were pretty awful for the holdout fold in each iteration. \n",
      "\n",
      "The abysmal average R^2 shows this as well. We also were never able to detect the true correlated columns (5 and 10.) This may not be possible with only 20 total datapoints to work with, but at least we can know when our model isn't generalizing to new out of sample data."
     ]
    },
    {
     "cell_type": "code",
     "collapsed": false,
     "input": [],
     "language": "python",
     "metadata": {},
     "outputs": []
    }
   ],
   "metadata": {}
  }
 ]
}