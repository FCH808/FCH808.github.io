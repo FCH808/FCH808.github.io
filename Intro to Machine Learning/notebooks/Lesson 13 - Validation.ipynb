{
 "metadata": {
  "name": "",
  "signature": "sha256:d06b563d95c377885551ff982356e84e79243cf62c74653f46fac416361366c8"
 },
 "nbformat": 3,
 "nbformat_minor": 0,
 "worksheets": [
  {
   "cells": [
    {
     "cell_type": "code",
     "collapsed": false,
     "input": [
      "#!/usr/bin/python\n",
      "\n",
      "\"\"\" this example borrows heavily from the example\n",
      "    shown on the sklearn documentation:\n",
      "\n",
      "    http://scikit-learn.org/stable/modules/cross_validation.html\n",
      "\n",
      "\"\"\"\n",
      "\n",
      "from sklearn import datasets\n",
      "from sklearn.svm import SVC\n",
      "\n",
      "iris = datasets.load_iris()\n",
      "features = iris.data\n",
      "labels = iris.target\n",
      "\n",
      "###############################################################\n",
      "from sklearn.cross_validation import train_test_split\n",
      "\n",
      "features_train, features_test, labels_train, labels_test = train_test_split(features, labels, test_size=0.4, random_state=0)\n",
      "###############################################################\n",
      "\n",
      "### import the relevant code and make your train/test split\n",
      "### name the output datasets features_train, features_test,\n",
      "### labels_train, and labels_test\n",
      "\n",
      "### set the random_state to 0 and the test_size to 0.4 so\n",
      "### we can exactly check your result\n",
      "\n",
      "\n",
      "\n",
      "\n",
      "###############################################################\n",
      "\n",
      "clf = SVC(kernel=\"linear\", C=1.)\n",
      "clf.fit(features_train, labels_train)\n",
      "\n",
      "print clf.score(features_test, labels_test)\n",
      "\n",
      "\n",
      "##############################################################\n",
      "def submitAcc():\n",
      "    return clf.score(features_test, labels_test)"
     ],
     "language": "python",
     "metadata": {},
     "outputs": [
      {
       "output_type": "stream",
       "stream": "stdout",
       "text": [
        "0.966666666667\n"
       ]
      }
     ],
     "prompt_number": 3
    },
    {
     "cell_type": "code",
     "collapsed": false,
     "input": [
      "%load ../ud120-projects/validation/validate_poi.py"
     ],
     "language": "python",
     "metadata": {},
     "outputs": [],
     "prompt_number": 5
    },
    {
     "cell_type": "code",
     "collapsed": false,
     "input": [
      "#%%writefile ../ud120-projects/validation/validate_poi.py\n",
      "#!/usr/bin/python\n",
      "\n",
      "\n",
      "\"\"\"\n",
      "    starter code for the validation mini-project\n",
      "    the first step toward building your POI identifier!\n",
      "\n",
      "    start by loading/formatting the data\n",
      "\n",
      "    after that, it's not our code anymore--it's yours!\n",
      "\"\"\"\n",
      "\n",
      "import pickle\n",
      "import sys\n",
      "sys.path.append(\"../ud120-projects/tools/\")\n",
      "from feature_format import featureFormat, targetFeatureSplit\n",
      "\n",
      "data_dict = pickle.load(open(\"../ud120-projects/final_project/final_project_dataset.pkl\", \"r\") )\n",
      "\n",
      "### add more features to features_list!\n",
      "features_list = [\"poi\", \"salary\"]\n",
      "\n",
      "data = featureFormat(data_dict, features_list)\n",
      "labels, features = targetFeatureSplit(data)\n",
      "\n",
      "### Splitting train/test\n",
      "\n",
      "from sklearn.cross_validation import train_test_split\n",
      "\n",
      "train_features, test_features, train_labels, test_labels = train_test_split(features, labels,\n",
      "                                                                            test_size=0.3,\n",
      "                                                                            random_state=42)\n",
      "\n",
      "### Train decision tree\n",
      "from sklearn.tree import DecisionTreeClassifier\n",
      "from sklearn.metrics import accuracy_score\n",
      "from sklearn.metrics import confusion_matrix\n",
      "\n",
      "clf = DecisionTreeClassifier()\n",
      "clf.fit(train_features, train_labels)\n",
      "\n",
      "pred = clf.predict(test_features)\n",
      "\n",
      "print \"Confusion Matrix:\\n\", confusion_matrix(test_labels, pred), \"\\n\"\n",
      "print \"Classification Report:\\n\", classification_report(test_labels, pred)\n",
      "print \"Accuracy:\", accuracy_score(test_labels, pred)"
     ],
     "language": "python",
     "metadata": {},
     "outputs": [
      {
       "output_type": "stream",
       "stream": "stdout",
       "text": [
        "Overwriting ../ud120-projects/validation/validate_poi.py\n"
       ]
      }
     ],
     "prompt_number": 21
    },
    {
     "cell_type": "code",
     "collapsed": false,
     "input": [
      "#%load ../ud120-projects/tools/feature_format.py"
     ],
     "language": "python",
     "metadata": {},
     "outputs": [],
     "prompt_number": 19
    },
    {
     "cell_type": "code",
     "collapsed": false,
     "input": [
      "from sklearn.metrics import classification_report\n",
      "from sklearn.metrics import confusion_matrix\n"
     ],
     "language": "python",
     "metadata": {},
     "outputs": [],
     "prompt_number": 8
    },
    {
     "cell_type": "code",
     "collapsed": false,
     "input": [
      "help(train_test_split)"
     ],
     "language": "python",
     "metadata": {},
     "outputs": [
      {
       "output_type": "stream",
       "stream": "stdout",
       "text": [
        "Help on function train_test_split in module sklearn.cross_validation:\n",
        "\n",
        "train_test_split(*arrays, **options)\n",
        "    Split arrays or matrices into random train and test subsets\n",
        "    \n",
        "    Quick utility that wraps calls to ``check_arrays`` and\n",
        "    ``next(iter(ShuffleSplit(n_samples)))`` and application to input\n",
        "    data into a single call for splitting (and optionally subsampling)\n",
        "    data in a oneliner.\n",
        "    \n",
        "    Parameters\n",
        "    ----------\n",
        "    *arrays : sequence of arrays or scipy.sparse matrices with same shape[0]\n",
        "        Python lists or tuples occurring in arrays are converted to 1D numpy\n",
        "        arrays.\n",
        "    \n",
        "    test_size : float, int, or None (default is None)\n",
        "        If float, should be between 0.0 and 1.0 and represent the\n",
        "        proportion of the dataset to include in the test split. If\n",
        "        int, represents the absolute number of test samples. If None,\n",
        "        the value is automatically set to the complement of the train size.\n",
        "        If train size is also None, test size is set to 0.25.\n",
        "    \n",
        "    train_size : float, int, or None (default is None)\n",
        "        If float, should be between 0.0 and 1.0 and represent the\n",
        "        proportion of the dataset to include in the train split. If\n",
        "        int, represents the absolute number of train samples. If None,\n",
        "        the value is automatically set to the complement of the test size.\n",
        "    \n",
        "    random_state : int or RandomState\n",
        "        Pseudo-random number generator state used for random sampling.\n",
        "    \n",
        "    dtype : a numpy dtype instance, None by default\n",
        "        Enforce a specific dtype.\n",
        "    \n",
        "    Returns\n",
        "    -------\n",
        "    splitting : list of arrays, length=2 * len(arrays)\n",
        "        List containing train-test split of input array.\n",
        "    \n",
        "    Examples\n",
        "    --------\n",
        "    >>> import numpy as np\n",
        "    >>> from sklearn.cross_validation import train_test_split\n",
        "    >>> a, b = np.arange(10).reshape((5, 2)), range(5)\n",
        "    >>> a\n",
        "    array([[0, 1],\n",
        "           [2, 3],\n",
        "           [4, 5],\n",
        "           [6, 7],\n",
        "           [8, 9]])\n",
        "    >>> list(b)\n",
        "    [0, 1, 2, 3, 4]\n",
        "    \n",
        "    >>> a_train, a_test, b_train, b_test = train_test_split(\n",
        "    ...     a, b, test_size=0.33, random_state=42)\n",
        "    ...\n",
        "    >>> a_train\n",
        "    array([[4, 5],\n",
        "           [0, 1],\n",
        "           [6, 7]])\n",
        "    >>> b_train\n",
        "    [2, 0, 3]\n",
        "    >>> a_test\n",
        "    array([[2, 3],\n",
        "           [8, 9]])\n",
        "    >>> b_test\n",
        "    [1, 4]\n",
        "\n"
       ]
      }
     ],
     "prompt_number": 17
    },
    {
     "cell_type": "code",
     "collapsed": false,
     "input": [],
     "language": "python",
     "metadata": {},
     "outputs": []
    }
   ],
   "metadata": {}
  }
 ]
}