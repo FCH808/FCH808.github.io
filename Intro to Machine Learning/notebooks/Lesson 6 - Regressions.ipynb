{
 "metadata": {
  "name": "",
  "signature": "sha256:0f98067c0bc1200703603c124ed7e8904abefb20cac0670c277e1bdd28c6cde3"
 },
 "nbformat": 3,
 "nbformat_minor": 0,
 "worksheets": [
  {
   "cells": [
    {
     "cell_type": "code",
     "collapsed": false,
     "input": [
      "from sklearn.linear_model import LinearRegression\n",
      "%matplotlib inline"
     ],
     "language": "python",
     "metadata": {},
     "outputs": [],
     "prompt_number": 1
    },
    {
     "cell_type": "code",
     "collapsed": false,
     "input": [
      "import numpy\n",
      "import random\n",
      "\n",
      "def ageNetWorthData():\n",
      "\n",
      "    random.seed(42)\n",
      "    numpy.random.seed(42)\n",
      "\n",
      "    ages = []\n",
      "    for ii in range(100):\n",
      "        ages.append( random.randint(20,65) )\n",
      "    net_worths = [ii * 6.25 + numpy.random.normal(scale=40.) for ii in ages]\n",
      "### need massage list into a 2d numpy array to get it to work in LinearRegression\n",
      "    ages       = numpy.reshape( numpy.array(ages), (len(ages), 1))\n",
      "    net_worths = numpy.reshape( numpy.array(net_worths), (len(net_worths), 1))\n",
      "\n",
      "    from sklearn.cross_validation import train_test_split\n",
      "    ages_train, ages_test, net_worths_train, net_worths_test = train_test_split(ages, net_worths)\n",
      "\n",
      "    return ages_train, ages_test, net_worths_train, net_worths_test"
     ],
     "language": "python",
     "metadata": {},
     "outputs": [],
     "prompt_number": 5
    },
    {
     "cell_type": "code",
     "collapsed": false,
     "input": [
      "reg = LinearRegression()\n",
      "\n",
      "ages_train, ages_test, net_worths_train, net_worths_test = ageNetWorthData()"
     ],
     "language": "python",
     "metadata": {},
     "outputs": [],
     "prompt_number": 8
    },
    {
     "cell_type": "code",
     "collapsed": false,
     "input": [
      "reg.fit(ages_train, net_worths_train)\n",
      "reg.predict([27])\n",
      "reg.coef_\n",
      "reg.intercept_\n",
      "print reg.score(ages_test, net_worths_test) # R^2\n",
      "print reg.score(ages_train, net_worths_train) #R^2"
     ],
     "language": "python",
     "metadata": {},
     "outputs": [
      {
       "output_type": "stream",
       "stream": "stdout",
       "text": [
        "0.812365730575\n",
        "0.874588235822\n"
       ]
      }
     ],
     "prompt_number": 12
    },
    {
     "cell_type": "code",
     "collapsed": false,
     "input": [
      "import numpy\n",
      "import matplotlib.pyplot as plt\n",
      "\n",
      "# from ages_net_worths import ageNetWorthData\n",
      "\n",
      "ages_train, ages_test, net_worths_train, net_worths_test = ageNetWorthData()\n",
      "\n",
      "\n",
      "\n",
      "from sklearn.linear_model import LinearRegression\n",
      "\n",
      "reg = LinearRegression()\n",
      "reg.fit(ages_train, net_worths_train)\n",
      "\n",
      "### get Katie's net worth (she's 27)\n",
      "### sklearn predictions are returned in an array,\n",
      "### so you'll want to do something like net_worth = predict([27])[0]\n",
      "### (not exact syntax, the point is that [0] at the end)\n",
      "km_net_worth = reg.predict([27])[0] \n",
      "\n",
      "### get the slope\n",
      "### again, you'll get a 2-D array, so stick the [0][0] at the end\n",
      "slope = reg.coef_[0][0] \n",
      "\n",
      "### get the intercept\n",
      "### here you get a 1-D array, so stick [0] on the end to access\n",
      "### the info we want\n",
      "intercept = reg.intercept_[0] \n",
      "\n",
      "\n",
      "### get the score on test data\n",
      "test_score = reg.score(ages_test, net_worths_test)\n",
      "\n",
      "\n",
      "### get the score on the training data\n",
      "training_score = reg.score(ages_train, net_worths_train)\n",
      "\n",
      "def submitFit():\n",
      "    return {\"networth\":km_net_worth,\n",
      "            \"slope\":slope,\n",
      "            \"intercept\":intercept,\n",
      "            \"stats on test\":test_score,\n",
      "            \"stats on training\": training_score}"
     ],
     "language": "python",
     "metadata": {},
     "outputs": [],
     "prompt_number": 25
    },
    {
     "cell_type": "code",
     "collapsed": false,
     "input": [
      "print submitFit()"
     ],
     "language": "python",
     "metadata": {},
     "outputs": [
      {
       "output_type": "stream",
       "stream": "stdout",
       "text": [
        "{'slope': 6.4735495495770534, 'stats on training': 0.87458823582171819, 'intercept': -14.353781332184781, 'stats on test': 0.81236573057499983, 'networth': 160.43205650639567}\n"
       ]
      }
     ],
     "prompt_number": 26
    },
    {
     "cell_type": "code",
     "collapsed": false,
     "input": [
      "%load ../ud120-projects/regression/finance_regression.py"
     ],
     "language": "python",
     "metadata": {},
     "outputs": [],
     "prompt_number": 27
    },
    {
     "cell_type": "code",
     "collapsed": false,
     "input": [
      "# %%writefile ../ud120-projects/regression/finance_regression.py\n",
      "#!/usr/bin/python\n",
      "\n",
      "\"\"\"\n",
      "    starter code for the regression mini-project\n",
      "    \n",
      "    loads up/formats a modified version of the dataset\n",
      "    (why modified?  we've removed some trouble points\n",
      "    that you'll find yourself in the outliers mini-project)\n",
      "\n",
      "    draws a little scatterplot of the training/testing data\n",
      "\n",
      "    you fill in the regression code where indicated\n",
      "\n",
      "\"\"\"    \n",
      "\n",
      "\n",
      "import sys\n",
      "import pickle\n",
      "sys.path.append(\"../ud120-projects/tools/\")\n",
      "from feature_format import featureFormat, targetFeatureSplit\n",
      "dictionary = pickle.load( open(\"../ud120-projects/final_project/final_project_dataset_modified.pkl\", \"r\") )\n",
      "\n",
      "### list the features you want to look at--first item in the \n",
      "### list will be the \"target\" feature\n",
      "features_list = [\"bonus\", \"salary\"]\n",
      "data = featureFormat( dictionary, features_list, remove_any_zeroes=True)#, \"long_term_incentive\"], remove_any_zeroes=True )\n",
      "target, features = targetFeatureSplit( data )\n",
      "\n",
      "### training-testing split needed in regression, just like classification\n",
      "from sklearn.cross_validation import train_test_split\n",
      "feature_train, feature_test, target_train, target_test = train_test_split(features, target, test_size=0.5, random_state=42)\n",
      "train_color = \"b\"\n",
      "test_color = \"r\"\n",
      "\n",
      "\n",
      "\n",
      "### your regression goes here!\n",
      "### please name it reg, so that the plotting code below picks it up and \n",
      "### plots it correctly\n",
      "\n",
      "from sklearn.linear_model import LinearRegression\n",
      "\n",
      "reg = LinearRegression()\n",
      "reg.fit(feature_train, target_train)\n",
      "\n",
      "\n",
      "\n",
      "\n",
      "### draw the scatterplot, with color-coded training and testing points\n",
      "import matplotlib.pyplot as plt\n",
      "for feature, target in zip(feature_test, target_test):\n",
      "    plt.scatter( feature, target, color=test_color ) \n",
      "for feature, target in zip(feature_train, target_train):\n",
      "    plt.scatter( feature, target, color=train_color ) \n",
      "\n",
      "### labels for the legend\n",
      "plt.scatter(feature_test[0], target_test[0], color=test_color, label=\"test\")\n",
      "plt.scatter(feature_test[0], target_test[0], color=train_color, label=\"train\")\n",
      "\n",
      "\n",
      "\n",
      "\n",
      "### draw the regression line, once it's coded\n",
      "try:\n",
      "    plt.plot( feature_test, reg.predict(feature_test) )\n",
      "except NameError:\n",
      "    print \"Exception\"\n",
      "    pass\n",
      "plt.xlabel(features_list[1])\n",
      "plt.ylabel(features_list[0])\n",
      "plt.legend()\n",
      "plt.show()\n"
     ],
     "language": "python",
     "metadata": {},
     "outputs": [
      {
       "output_type": "stream",
       "stream": "stdout",
       "text": [
        "Overwriting ../ud120-projects/regression/finance_regression.py\n"
       ]
      }
     ],
     "prompt_number": 11
    },
    {
     "cell_type": "code",
     "collapsed": false,
     "input": [
      "reg.intercept_"
     ],
     "language": "python",
     "metadata": {},
     "outputs": [
      {
       "metadata": {},
       "output_type": "pyout",
       "prompt_number": 5,
       "text": [
        "-102360.54329387937"
       ]
      }
     ],
     "prompt_number": 5
    },
    {
     "cell_type": "code",
     "collapsed": false,
     "input": [
      "reg.coef_[0]"
     ],
     "language": "python",
     "metadata": {},
     "outputs": [
      {
       "metadata": {},
       "output_type": "pyout",
       "prompt_number": 8,
       "text": [
        "5.4481402888055159"
       ]
      }
     ],
     "prompt_number": 8
    },
    {
     "cell_type": "code",
     "collapsed": false,
     "input": [
      "reg.score(feature_train, target_train)"
     ],
     "language": "python",
     "metadata": {},
     "outputs": [
      {
       "metadata": {},
       "output_type": "pyout",
       "prompt_number": 9,
       "text": [
        "0.045509192699524359"
       ]
      }
     ],
     "prompt_number": 9
    },
    {
     "cell_type": "code",
     "collapsed": false,
     "input": [
      "reg.score(feature_test, target_test)"
     ],
     "language": "python",
     "metadata": {},
     "outputs": [
      {
       "metadata": {},
       "output_type": "pyout",
       "prompt_number": 10,
       "text": [
        "-1.4849924173685092"
       ]
      }
     ],
     "prompt_number": 10
    },
    {
     "cell_type": "code",
     "collapsed": false,
     "input": [
      "%load ../ud120-projects/regression/finance_regression.py"
     ],
     "language": "python",
     "metadata": {},
     "outputs": [],
     "prompt_number": 12
    },
    {
     "cell_type": "code",
     "collapsed": false,
     "input": [
      "#!/usr/bin/python\n",
      "\n",
      "\"\"\"\n",
      "    starter code for the regression mini-project\n",
      "    \n",
      "    loads up/formats a modified version of the dataset\n",
      "    (why modified?  we've removed some trouble points\n",
      "    that you'll find yourself in the outliers mini-project)\n",
      "\n",
      "    draws a little scatterplot of the training/testing data\n",
      "\n",
      "    you fill in the regression code where indicated\n",
      "\n",
      "\"\"\"    \n",
      "\n",
      "\n",
      "import sys\n",
      "import pickle\n",
      "sys.path.append(\"../ud120-projects/tools/\")\n",
      "from feature_format import featureFormat, targetFeatureSplit\n",
      "dictionary = pickle.load( open(\"../ud120-projects/final_project/final_project_dataset_modified.pkl\", \"r\") )\n",
      "\n",
      "### list the features you want to look at--first item in the \n",
      "### list will be the \"target\" feature\n",
      "features_list = [\"bonus\", \"long_term_incentive\"]\n",
      "data = featureFormat( dictionary, features_list, remove_any_zeroes=True)#, \"long_term_incentive\"], remove_any_zeroes=True )\n",
      "target, features = targetFeatureSplit( data )\n",
      "\n",
      "### training-testing split needed in regression, just like classification\n",
      "from sklearn.cross_validation import train_test_split\n",
      "feature_train, feature_test, target_train, target_test = train_test_split(features, target, test_size=0.5, random_state=42)\n",
      "train_color = \"b\"\n",
      "test_color = \"r\"\n",
      "\n",
      "\n",
      "\n",
      "### your regression goes here!\n",
      "### please name it reg, so that the plotting code below picks it up and \n",
      "### plots it correctly\n",
      "\n",
      "from sklearn.linear_model import LinearRegression\n",
      "\n",
      "reg = LinearRegression()\n",
      "reg.fit(feature_train, target_train)\n",
      "\n",
      "\n",
      "\n",
      "\n",
      "### draw the scatterplot, with color-coded training and testing points\n",
      "import matplotlib.pyplot as plt\n",
      "for feature, target in zip(feature_test, target_test):\n",
      "    plt.scatter( feature, target, color=test_color ) \n",
      "for feature, target in zip(feature_train, target_train):\n",
      "    plt.scatter( feature, target, color=train_color ) \n",
      "\n",
      "### labels for the legend\n",
      "plt.scatter(feature_test[0], target_test[0], color=test_color, label=\"test\")\n",
      "plt.scatter(feature_test[0], target_test[0], color=train_color, label=\"train\")\n",
      "\n",
      "\n",
      "\n",
      "\n",
      "### draw the regression line, once it's coded\n",
      "try:\n",
      "    plt.plot( feature_test, reg.predict(feature_test) )\n",
      "except NameError:\n",
      "    print \"Exception\"\n",
      "    pass\n",
      "plt.xlabel(features_list[1])\n",
      "plt.ylabel(features_list[0])\n",
      "plt.legend()\n",
      "plt.show()"
     ],
     "language": "python",
     "metadata": {},
     "outputs": [
      {
       "metadata": {},
       "output_type": "display_data",
       "png": "[encoded data removed]",
       "text": [
        "<matplotlib.figure.Figure at 0x148fecf8>"
       ]
      }
     ],
     "prompt_number": 13
    },
    {
     "cell_type": "code",
     "collapsed": false,
     "input": [
      "reg.score(feature_test, target_test)"
     ],
     "language": "python",
     "metadata": {},
     "outputs": [
      {
       "metadata": {},
       "output_type": "pyout",
       "prompt_number": 14,
       "text": [
        "-0.59271289994986387"
       ]
      }
     ],
     "prompt_number": 14
    },
    {
     "cell_type": "code",
     "collapsed": false,
     "input": [
      "%load ../ud120-projects/regression/finance_regression.py"
     ],
     "language": "python",
     "metadata": {},
     "outputs": [],
     "prompt_number": 15
    },
    {
     "cell_type": "code",
     "collapsed": false,
     "input": [
      "#!/usr/bin/python\n",
      "\n",
      "\"\"\"\n",
      "    starter code for the regression mini-project\n",
      "    \n",
      "    loads up/formats a modified version of the dataset\n",
      "    (why modified?  we've removed some trouble points\n",
      "    that you'll find yourself in the outliers mini-project)\n",
      "\n",
      "    draws a little scatterplot of the training/testing data\n",
      "\n",
      "    you fill in the regression code where indicated\n",
      "\n",
      "\"\"\"    \n",
      "\n",
      "\n",
      "import sys\n",
      "import pickle\n",
      "sys.path.append(\"../ud120-projects/tools/\")\n",
      "from feature_format import featureFormat, targetFeatureSplit\n",
      "dictionary = pickle.load( open(\"../ud120-projects/final_project/final_project_dataset_modified.pkl\", \"r\") )\n",
      "\n",
      "### list the features you want to look at--first item in the \n",
      "### list will be the \"target\" feature\n",
      "features_list = [\"bonus\", \"salary\"]\n",
      "data = featureFormat( dictionary, features_list, remove_any_zeroes=True)#, \"long_term_incentive\"], remove_any_zeroes=True )\n",
      "target, features = targetFeatureSplit( data )\n",
      "\n",
      "### training-testing split needed in regression, just like classification\n",
      "from sklearn.cross_validation import train_test_split\n",
      "feature_train, feature_test, target_train, target_test = train_test_split(features, target, test_size=0.5, random_state=42)\n",
      "train_color = \"b\"\n",
      "test_color = \"r\"\n",
      "\n",
      "\n",
      "\n",
      "### your regression goes here!\n",
      "### please name it reg, so that the plotting code below picks it up and \n",
      "### plots it correctly\n",
      "\n",
      "from sklearn.linear_model import LinearRegression\n",
      "\n",
      "reg = LinearRegression()\n",
      "reg.fit(feature_train, target_train)\n",
      "\n",
      "\n",
      "\n",
      "\n",
      "### draw the scatterplot, with color-coded training and testing points\n",
      "import matplotlib.pyplot as plt\n",
      "for feature, target in zip(feature_test, target_test):\n",
      "    plt.scatter( feature, target, color=test_color ) \n",
      "for feature, target in zip(feature_train, target_train):\n",
      "    plt.scatter( feature, target, color=train_color ) \n",
      "\n",
      "### labels for the legend\n",
      "plt.scatter(feature_test[0], target_test[0], color=test_color, label=\"test\")\n",
      "plt.scatter(feature_test[0], target_test[0], color=train_color, label=\"train\")\n",
      "\n",
      "\n",
      "\n",
      "\n",
      "### draw the regression line, once it's coded\n",
      "try:\n",
      "    plt.plot( feature_test, reg.predict(feature_test) )\n",
      "except NameError:\n",
      "    print \"Exception\"\n",
      "    pass\n",
      "reg.fit(feature_test, target_test)\n",
      "plt.plot(feature_train, reg.predict(feature_train), color='r')\n",
      "plt.xlabel(features_list[1])\n",
      "plt.ylabel(features_list[0])\n",
      "plt.legend()\n",
      "plt.show()"
     ],
     "language": "python",
     "metadata": {},
     "outputs": [
      {
       "metadata": {},
       "output_type": "display_data",
       "png": "[encoded data removed]",
       "text": [
        "<matplotlib.figure.Figure at 0x14dd30f0>"
       ]
      }
     ],
     "prompt_number": 16
    },
    {
     "cell_type": "code",
     "collapsed": false,
     "input": [
      "reg.coef_[0]"
     ],
     "language": "python",
     "metadata": {},
     "outputs": [
      {
       "metadata": {},
       "output_type": "pyout",
       "prompt_number": 18,
       "text": [
        "2.2741011412666916"
       ]
      }
     ],
     "prompt_number": 18
    },
    {
     "cell_type": "code",
     "collapsed": false,
     "input": [],
     "language": "python",
     "metadata": {},
     "outputs": []
    }
   ],
   "metadata": {}
  }
 ]
}