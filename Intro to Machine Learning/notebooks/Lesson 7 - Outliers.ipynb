{
 "metadata": {
  "name": "",
  "signature": "sha256:ceee766b25eba9daae0d7b3ef0e7abb2c9a6fad8f57202e9bd486340cb43a13d"
 },
 "nbformat": 3,
 "nbformat_minor": 0,
 "worksheets": [
  {
   "cells": [
    {
     "cell_type": "code",
     "collapsed": false,
     "input": [
      "%matplotlib inline"
     ],
     "language": "python",
     "metadata": {},
     "outputs": [],
     "prompt_number": 2
    },
    {
     "cell_type": "code",
     "collapsed": false,
     "input": [
      "%load ../ud120-projects/outliers/outlier_cleaner.py"
     ],
     "language": "python",
     "metadata": {},
     "outputs": [],
     "prompt_number": 7
    },
    {
     "cell_type": "code",
     "collapsed": false,
     "input": [
      "#!/usr/bin/python\n",
      "\n",
      "\n",
      "def outlierCleaner(predictions, ages, net_worths):\n",
      "    \"\"\"\n",
      "        clean away the 10% of points that have the largest\n",
      "        residual errors (different between the prediction\n",
      "        and the actual net worth)\n",
      "\n",
      "        return a list of tuples named cleaned_data where \n",
      "        each tuple is of the form (age, net_worth, error)\n",
      "    \"\"\"\n",
      "    from operator import itemgetter\n",
      "    \n",
      "    \n",
      "    combined = zip(ages, net_worths, (net_worths - predictions)**2)\n",
      "    combined = sorted(combined, key=itemgetter(2))\n",
      "    \n",
      "    keep = int(len(ages) * .9)\n",
      "    \n",
      "    cleaned_data = combined[:keep]    \n",
      "    \n",
      "    return cleaned_data\n",
      "\n"
     ],
     "language": "python",
     "metadata": {},
     "outputs": [],
     "prompt_number": 29
    },
    {
     "cell_type": "code",
     "collapsed": false,
     "input": [
      "%load ../ud120-projects/outliers/outlier_removal_regression.py"
     ],
     "language": "python",
     "metadata": {},
     "outputs": [],
     "prompt_number": 1
    },
    {
     "cell_type": "code",
     "collapsed": false,
     "input": [
      "#%%writefile ../ud120-projects/outliers/outlier_removal_regression.py\n",
      "#!/usr/bin/python\n",
      "\n",
      "import random\n",
      "import numpy\n",
      "import matplotlib.pyplot as plt\n",
      "import pickle\n",
      "\n",
      "# from outlier_cleaner import outlierCleaner\n",
      "\n",
      "\n",
      "### load up some practice data with outliers in it\n",
      "ages = pickle.load( open(\"../ud120-projects/outliers/practice_outliers_ages.pkl\", \"r\") )\n",
      "net_worths = pickle.load( open(\"../ud120-projects/outliers/practice_outliers_net_worths.pkl\", \"r\") )\n",
      "\n",
      "\n",
      "\n",
      "### ages and net_worths need to be reshaped into 2D numpy arrays\n",
      "### second argument of reshape command is a tuple of integers: (n_rows, n_columns)\n",
      "### by convention, n_rows is the number of data points\n",
      "### and n_columns is the number of features\n",
      "ages       = numpy.reshape( numpy.array(ages), (len(ages), 1))\n",
      "net_worths = numpy.reshape( numpy.array(net_worths), (len(net_worths), 1))\n",
      "from sklearn.cross_validation import train_test_split\n",
      "ages_train, ages_test, net_worths_train, net_worths_test = train_test_split(ages, net_worths, test_size=0.1, random_state=42)\n",
      "\n",
      "### fill in a regression here!  Name the regression object reg so that\n",
      "### the plotting code below works, and you can see what your regression looks like\n",
      "\n",
      "\n",
      "\n",
      "from sklearn.linear_model import LinearRegression\n",
      "\n",
      "reg = LinearRegression()\n",
      "\n",
      "reg.fit(ages_train, net_worths_train)\n",
      "\n",
      "\n",
      "try:\n",
      "    plt.plot(ages, reg.predict(ages), color=\"blue\")\n",
      "except NameError:\n",
      "    pass\n",
      "plt.scatter(ages, net_worths)\n",
      "plt.show()\n",
      "\n",
      "\n",
      "### identify and remove the most outlier-y points\n",
      "cleaned_data = []\n",
      "try:\n",
      "    predictions = reg.predict(ages_train)\n",
      "    cleaned_data = outlierCleaner( predictions, ages_train, net_worths_train )\n",
      "except NameError:\n",
      "    print \"your regression object doesn't exist, or isn't name reg\"\n",
      "    print \"can't make predictions to use in identifying outliers\"\n",
      "\n",
      "\n",
      "\n",
      "\n",
      "\n",
      "\n",
      "\n",
      "### only run this code if cleaned_data is returning data\n",
      "if len(cleaned_data) > 0:\n",
      "    ages, net_worths, errors = zip(*cleaned_data)\n",
      "    ages       = numpy.reshape( numpy.array(ages), (len(ages), 1))\n",
      "    net_worths = numpy.reshape( numpy.array(net_worths), (len(net_worths), 1))\n",
      "\n",
      "    ### refit your cleaned data!\n",
      "    try:\n",
      "        reg.fit(ages, net_worths)\n",
      "        plt.plot(ages, reg.predict(ages), color=\"blue\")\n",
      "    except NameError:\n",
      "        print \"you don't seem to have regression imported/created,\"\n",
      "        print \"   or else your regression object isn't named reg\"\n",
      "        print \"   either way, only draw the scatter plot of the cleaned data\"\n",
      "    plt.scatter(ages, net_worths)\n",
      "    plt.xlabel(\"ages\")\n",
      "    plt.ylabel(\"net worths\")\n",
      "    plt.show()\n",
      "\n",
      "\n",
      "else:\n",
      "    print \"outlierCleaner() is returning an empty list, no refitting to be done\"\n",
      "\n"
     ],
     "language": "python",
     "metadata": {},
     "outputs": [
      {
       "metadata": {},
       "output_type": "display_data",
       "png": "[encoded data removed]",
       "text": [
        "<matplotlib.figure.Figure at 0x149d2f60>"
       ]
      },
      {
       "metadata": {},
       "output_type": "display_data",
       "png": "[encoded data removed]",
       "text": [
        "<matplotlib.figure.Figure at 0x14ca9a58>"
       ]
      }
     ],
     "prompt_number": 34
    },
    {
     "cell_type": "code",
     "collapsed": false,
     "input": [
      "reg.coef_[0][0]"
     ],
     "language": "python",
     "metadata": {},
     "outputs": [
      {
       "metadata": {},
       "output_type": "pyout",
       "prompt_number": 14,
       "text": [
        "5.0779306434402516"
       ]
      }
     ],
     "prompt_number": 14
    },
    {
     "cell_type": "code",
     "collapsed": false,
     "input": [
      "reg.score(ages_test, net_worths_test)"
     ],
     "language": "python",
     "metadata": {},
     "outputs": [
      {
       "metadata": {},
       "output_type": "pyout",
       "prompt_number": 15,
       "text": [
        "0.87826247883513953"
       ]
      }
     ],
     "prompt_number": 15
    },
    {
     "cell_type": "code",
     "collapsed": false,
     "input": [
      "## Retrain with working cleanOutliers()\n",
      "reg.coef_[0][0]"
     ],
     "language": "python",
     "metadata": {},
     "outputs": [
      {
       "metadata": {},
       "output_type": "pyout",
       "prompt_number": 32,
       "text": [
        "6.3685948069436629"
       ]
      }
     ],
     "prompt_number": 32
    },
    {
     "cell_type": "code",
     "collapsed": false,
     "input": [
      "reg.score(ages_test, net_worths_test)"
     ],
     "language": "python",
     "metadata": {},
     "outputs": [
      {
       "metadata": {},
       "output_type": "pyout",
       "prompt_number": 35,
       "text": [
        "0.98318945568560667"
       ]
      }
     ],
     "prompt_number": 35
    },
    {
     "cell_type": "code",
     "collapsed": false,
     "input": [
      "%load ../ud120-projects/outliers/enron_outliers.py"
     ],
     "language": "python",
     "metadata": {},
     "outputs": [],
     "prompt_number": 36
    },
    {
     "cell_type": "code",
     "collapsed": false,
     "input": [
      "# %%writefile ../ud120-projects/outliers/enron_outliers.py\n",
      "#!/usr/bin/python\n",
      "\n",
      "import pickle\n",
      "import sys\n",
      "import matplotlib.pyplot\n",
      "sys.path.append(\"../ud120-projects/tools/\")\n",
      "from feature_format import featureFormat, targetFeatureSplit\n",
      "\n",
      "\n",
      "### read in data dictionary, convert to numpy array\n",
      "data_dict = pickle.load( open(\"../ud120-projects/final_project/final_project_dataset.pkl\", \"r\") )\n",
      "\n",
      "# Remove the outlier - 'TOTAL' entry\n",
      "data_dict.pop('TOTAL', 0)\n",
      "\n",
      "features = [\"salary\", \"bonus\"]\n",
      "data = featureFormat(data_dict, features)\n",
      "\n",
      "\n",
      "\n",
      "for point in data:\n",
      "    salary = point[0]\n",
      "    bonus = point[1]\n",
      "    matplotlib.pyplot.scatter( salary, bonus )\n",
      "\n",
      "matplotlib.pyplot.xlabel(\"salary\")\n",
      "matplotlib.pyplot.ylabel(\"bonus\")\n",
      "matplotlib.pyplot.show()"
     ],
     "language": "python",
     "metadata": {},
     "outputs": [
      {
       "metadata": {},
       "output_type": "display_data",
       "png": "[encoded data removed]",
       "text": [
        "<matplotlib.figure.Figure at 0x141052b0>"
       ]
      }
     ],
     "prompt_number": 50
    },
    {
     "cell_type": "code",
     "collapsed": false,
     "input": [
      "data.argmax(axis=0)[0]"
     ],
     "language": "python",
     "metadata": {},
     "outputs": [
      {
       "metadata": {},
       "output_type": "pyout",
       "prompt_number": 43,
       "text": [
        "67"
       ]
      }
     ],
     "prompt_number": 43
    },
    {
     "cell_type": "code",
     "collapsed": false,
     "input": [
      "import numpy as np\n",
      "np.max(data, axis=0)"
     ],
     "language": "python",
     "metadata": {},
     "outputs": [
      {
       "metadata": {},
       "output_type": "pyout",
       "prompt_number": 47,
       "text": [
        "array([ 26704229.,  97343619.])"
       ]
      }
     ],
     "prompt_number": 47
    },
    {
     "cell_type": "code",
     "collapsed": false,
     "input": [
      "sal = [k for k, v in data_dict.iteritems() if v['salary'] > 1000000 and v['salary'] != 'NaN']\n",
      "bonus = [k for k, v in data_dict.iteritems() if v['bonus'] > 5500000 and v['bonus'] != 'NaN']\n",
      "print set(sal) & set(bonus)"
     ],
     "language": "python",
     "metadata": {},
     "outputs": [
      {
       "output_type": "stream",
       "stream": "stdout",
       "text": [
        "set(['SKILLING JEFFREY K', 'LAY KENNETH L'])\n"
       ]
      }
     ],
     "prompt_number": 68
    },
    {
     "cell_type": "code",
     "collapsed": false,
     "input": [],
     "language": "python",
     "metadata": {},
     "outputs": []
    }
   ],
   "metadata": {}
  }
 ]
}