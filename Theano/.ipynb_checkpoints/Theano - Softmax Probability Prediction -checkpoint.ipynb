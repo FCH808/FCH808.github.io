{
 "metadata": {
  "name": "",
  "signature": "sha256:e803277bad3ba0a4edf605037250e3ff0732ced31e7ce0e6b0343bb6ba05404a"
 },
 "nbformat": 3,
 "nbformat_minor": 0,
 "worksheets": [
  {
   "cells": [
    {
     "cell_type": "code",
     "collapsed": false,
     "input": [
      "import theano\n",
      "from theano import tensor as T\n",
      "import numpy as np\n",
      "from load import mnist # mnist function from load.py\n",
      "# using unzipped files from http://yann.lecun.com/exdb/mnist/"
     ],
     "language": "python",
     "metadata": {},
     "outputs": [],
     "prompt_number": 1
    },
    {
     "cell_type": "code",
     "collapsed": false,
     "input": [
      "## Convert array to correct type for theano loadings onto GPU\n",
      "def floatX(X):\n",
      "    return np.asarray(X, dtype=theano.config.floatX)"
     ],
     "language": "python",
     "metadata": {},
     "outputs": [],
     "prompt_number": 2
    },
    {
     "cell_type": "code",
     "collapsed": false,
     "input": [
      "## Initialize parameters as random weights and floatX type for theano\n",
      "def init_weights(shape):\n",
      "    return theano.shared(floatX(np.random.randn(*shape) * 0.01))"
     ],
     "language": "python",
     "metadata": {},
     "outputs": [],
     "prompt_number": 3
    },
    {
     "cell_type": "code",
     "collapsed": false,
     "input": [
      "## Our model matrix format\n",
      "## Get the dot product of our weight and fature matrices.\n",
      "## Then run through the softmax function to get a probabilities distribution.\n",
      "def model(X, w):\n",
      "    return T.nnet.softmax(T.dot(X, w))\n",
      "\n"
     ],
     "language": "python",
     "metadata": {},
     "outputs": [],
     "prompt_number": 6
    },
    {
     "cell_type": "code",
     "collapsed": false,
     "input": [
      "## Load data matrices with our custom load.py function, mnist()\n",
      "## onehot argument is for a matrix of dummy variables for each of the 10 digits. \n",
      "## 1 for one digit, 0 for the rest, for each of the variables.\n",
      "train_x, test_x, train_y, test_y = mnist(onehot=True)"
     ],
     "language": "python",
     "metadata": {},
     "outputs": [],
     "prompt_number": 7
    },
    {
     "cell_type": "code",
     "collapsed": false,
     "input": [
      "## Now using matrix types\n",
      "X = T.fmatrix()\n",
      "Y = T.fmatrix()\n"
     ],
     "language": "python",
     "metadata": {},
     "outputs": [],
     "prompt_number": 8
    },
    {
     "cell_type": "code",
     "collapsed": false,
     "input": [
      "w = init_weights((784, 10))"
     ],
     "language": "python",
     "metadata": {},
     "outputs": [],
     "prompt_number": 9
    },
    {
     "cell_type": "code",
     "collapsed": false,
     "input": [
      "# Prob of y, given x. Multiply the weights (w) by x features to predict y.\n",
      "py_x = model(X, w) \n",
      "# Choose the y with the highest probability as our prediction\n",
      "y_pred = T.argmax(py_x, axis=1)"
     ],
     "language": "python",
     "metadata": {},
     "outputs": [],
     "prompt_number": 11
    },
    {
     "cell_type": "code",
     "collapsed": true,
     "input": [],
     "language": "python",
     "metadata": {},
     "outputs": []
    }
   ],
   "metadata": {}
  }
 ]
}