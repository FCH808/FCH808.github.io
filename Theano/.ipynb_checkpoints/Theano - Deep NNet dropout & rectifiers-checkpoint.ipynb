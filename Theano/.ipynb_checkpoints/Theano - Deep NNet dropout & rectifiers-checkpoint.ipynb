{
 "metadata": {
  "name": "",
  "signature": "sha256:9990c95b3c79dff37ddc76d4ef9f7b88390aa7307f4f175145c2c079585fc530"
 },
 "nbformat": 3,
 "nbformat_minor": 0,
 "worksheets": [
  {
   "cells": [
    {
     "cell_type": "code",
     "collapsed": false,
     "input": [
      "import theano\n",
      "from theano import tensor as T\n",
      "from theano.sandbox.rng_mrg import MRG_RandomStreams as RandomStreams\n",
      "import numpy as np\n",
      "from load import mnist\n"
     ],
     "language": "python",
     "metadata": {},
     "outputs": [],
     "prompt_number": 31
    },
    {
     "cell_type": "code",
     "collapsed": false,
     "input": [
      "srng = RandomStreams()"
     ],
     "language": "python",
     "metadata": {},
     "outputs": [],
     "prompt_number": 32
    },
    {
     "cell_type": "code",
     "collapsed": false,
     "input": [
      "def floatX(X):\n",
      "    return np.asarray(X, dtype=theano.config.floatX)"
     ],
     "language": "python",
     "metadata": {},
     "outputs": [],
     "prompt_number": 33
    },
    {
     "cell_type": "code",
     "collapsed": false,
     "input": [
      "def init_weights(shape):\n",
      "    return theano.shared(floatX(np.random.randn(*shape) * 0.01))"
     ],
     "language": "python",
     "metadata": {},
     "outputs": [],
     "prompt_number": 34
    },
    {
     "cell_type": "code",
     "collapsed": false,
     "input": [
      "## Rectifier: If X below 0, return 0; else return X.\n",
      "def rectify(X):\n",
      "    return T.maximum(X, 0.)"
     ],
     "language": "python",
     "metadata": {},
     "outputs": [],
     "prompt_number": 35
    },
    {
     "cell_type": "code",
     "collapsed": false,
     "input": [
      "## Numerically stable softmax\n",
      "def softmax(X):\n",
      "    e_x = T.exp(X - X.max(axis=1).dimshuffle(0, 'x'))\n",
      "    return e_x / e_x.sum(axis=1).dimshuffle(0, 'x')"
     ],
     "language": "python",
     "metadata": {},
     "outputs": [],
     "prompt_number": 36
    },
    {
     "cell_type": "code",
     "collapsed": false,
     "input": [
      "def RMSprop(cost, params, lr=0.001, rho=0.9, epsilon=1e-6):\n",
      "    grads = T.grad(cost=cost, wrt=params)\n",
      "    updates = []\n",
      "    for p, g in zip(params, grads):\n",
      "        ## A running average of the magnitude of the gradient\n",
      "        acc = theano.shared(p.get_value() * 0.)\n",
      "        acc_new = rho * acc + (1 - rho) * g ** 2\n",
      "        ## Scale the gradient based on the running average\n",
      "        gradient_scaling = T.sqrt(acc_new + epsilon)\n",
      "        g = g / gradient_scaling\n",
      "        updates.append((acc, acc_new))\n",
      "        updates.append((p, p - lr * g))\n",
      "    return updates"
     ],
     "language": "python",
     "metadata": {},
     "outputs": [],
     "prompt_number": 37
    },
    {
     "cell_type": "code",
     "collapsed": false,
     "input": [
      "## Randomly drop values and scale the rest\n",
      "def dropout(X, p=0.):\n",
      "    if p > 0:\n",
      "        retain_prob = 1 - p\n",
      "        X *= srng.binomial(X.shape, p=retain_prob, dtype=theano.config.floatX)\n",
      "        X /= retain_prob\n",
      "    return X"
     ],
     "language": "python",
     "metadata": {},
     "outputs": [],
     "prompt_number": 38
    },
    {
     "cell_type": "code",
     "collapsed": false,
     "input": [
      "## 1. Noise injected into model\n",
      "## 2. Rectifiers now used\n",
      "## 3. 2 hidden layers\n",
      "def model(X, w_h, w_h2, w_o, p_drop_input, p_drop_hidden):\n",
      "    X = dropout(X, p_drop_input)\n",
      "    h = rectify(T.dot(X, w_h))\n",
      "\n",
      "    h = dropout(h, p_drop_hidden)\n",
      "    h2 = rectify(T.dot(h, w_h2))\n",
      "\n",
      "    h2 = dropout(h2, p_drop_hidden)\n",
      "    py_x = softmax(T.dot(h2, w_o))\n",
      "    \n",
      "    return h, h2, py_x"
     ],
     "language": "python",
     "metadata": {},
     "outputs": [],
     "prompt_number": 39
    },
    {
     "cell_type": "code",
     "collapsed": false,
     "input": [
      "train_x, test_x, train_y, test_y = mnist(onehot=True)"
     ],
     "language": "python",
     "metadata": {},
     "outputs": [],
     "prompt_number": 40
    },
    {
     "cell_type": "code",
     "collapsed": false,
     "input": [
      "X = T.fmatrix()\n",
      "Y = T.fmatrix()"
     ],
     "language": "python",
     "metadata": {},
     "outputs": [],
     "prompt_number": 41
    },
    {
     "cell_type": "code",
     "collapsed": false,
     "input": [
      "w_h = init_weights((784, 625))\n",
      "w_h2 = init_weights((625, 625))\n",
      "w_o = init_weights((625, 10))"
     ],
     "language": "python",
     "metadata": {},
     "outputs": [],
     "prompt_number": 42
    },
    {
     "cell_type": "code",
     "collapsed": false,
     "input": [
      "noise_h, noise_h2, noise_py_x = model(X, w_h, w_h2, w_o, 0.2, 0.5)\n",
      "h, h2, py_x = model(X, w_h, w_h2, w_o, 0., 0.)\n",
      "y_x = T.argmax(py_x, axis=1)"
     ],
     "language": "python",
     "metadata": {},
     "outputs": [],
     "prompt_number": 44
    },
    {
     "cell_type": "code",
     "collapsed": false,
     "input": [
      "cost = T.mean(T.nnet.categorical_crossentropy(noise_py_x, Y))\n",
      "params = [w_h, w_h2, w_o]\n",
      "updates = RMSprop(cost, params, lr=0.001)"
     ],
     "language": "python",
     "metadata": {},
     "outputs": [],
     "prompt_number": 45
    },
    {
     "cell_type": "code",
     "collapsed": false,
     "input": [
      "train = theano.function(inputs=[X, Y], outputs=cost, updates=updates, allow_input_downcast=True)\n",
      "predict = theano.function(inputs=[X], outputs=y_x, allow_input_downcast=True)"
     ],
     "language": "python",
     "metadata": {},
     "outputs": [],
     "prompt_number": 46
    },
    {
     "cell_type": "code",
     "collapsed": false,
     "input": [
      "def run_model(max_iter=100):\n",
      "    for i in range(max_iter):\n",
      "        for start, end in zip(range(0, len(train_x), 128), range(128, len(train_x), 128)):\n",
      "            cost = train(train_x[start:end], train_y[start:end])\n",
      "        print np.mean(np.argmax(test_y, axis=1) == predict(test_x))"
     ],
     "language": "python",
     "metadata": {},
     "outputs": [],
     "prompt_number": 49
    },
    {
     "cell_type": "code",
     "collapsed": false,
     "input": [
      "run_model(10)"
     ],
     "language": "python",
     "metadata": {},
     "outputs": [
      {
       "output_type": "stream",
       "stream": "stdout",
       "text": [
        "0.9696\n",
        "0.972"
       ]
      },
      {
       "output_type": "stream",
       "stream": "stdout",
       "text": [
        "\n",
        "0.974"
       ]
      },
      {
       "output_type": "stream",
       "stream": "stdout",
       "text": [
        "\n",
        "0.971"
       ]
      },
      {
       "output_type": "stream",
       "stream": "stdout",
       "text": [
        "\n",
        "0.9751"
       ]
      },
      {
       "output_type": "stream",
       "stream": "stdout",
       "text": [
        "\n",
        "0.9738"
       ]
      },
      {
       "output_type": "stream",
       "stream": "stdout",
       "text": [
        "\n",
        "0.9758"
       ]
      },
      {
       "output_type": "stream",
       "stream": "stdout",
       "text": [
        "\n",
        "0.9763"
       ]
      },
      {
       "output_type": "stream",
       "stream": "stdout",
       "text": [
        "\n",
        "0.9773"
       ]
      },
      {
       "output_type": "stream",
       "stream": "stdout",
       "text": [
        "\n",
        "0.9769"
       ]
      },
      {
       "output_type": "stream",
       "stream": "stdout",
       "text": [
        "\n"
       ]
      }
     ],
     "prompt_number": 50
    },
    {
     "cell_type": "code",
     "collapsed": false,
     "input": [],
     "language": "python",
     "metadata": {},
     "outputs": []
    }
   ],
   "metadata": {}
  }
 ]
}