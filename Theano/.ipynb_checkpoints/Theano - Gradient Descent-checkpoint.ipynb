{
 "metadata": {
  "name": "",
  "signature": "sha256:bfbf5beb881dd583ebf6c757a4850790a6ddb55cbe4cf0303c426e8956a2273a"
 },
 "nbformat": 3,
 "nbformat_minor": 0,
 "worksheets": []
}