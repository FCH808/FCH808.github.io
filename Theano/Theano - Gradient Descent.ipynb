{
 "metadata": {
  "name": "",
  "signature": "sha256:b6893ba9c1ea8afb9b6f10bcc3d5cb98766d063330a410bcddf1331a4accf147"
 },
 "nbformat": 3,
 "nbformat_minor": 0,
 "worksheets": [
  {
   "cells": [
    {
     "cell_type": "code",
     "collapsed": false,
     "input": [
      "%matplotlib inline\n",
      "import theano\n",
      "from theano import tensor as T\n",
      "\"\"\"\n",
      "theano.tensor contains functions for operations on theano variables \n",
      "similar interface to numpy operating on numpy arrays.\n",
      "\"\"\"\n",
      "import numpy as np\n",
      "from matplotlib import pyplot as plt"
     ],
     "language": "python",
     "metadata": {},
     "outputs": [],
     "prompt_number": 89
    },
    {
     "cell_type": "code",
     "collapsed": false,
     "input": [
      "## Generate training data\n",
      "train_x = np.linspace(-1, 1, 101)\n",
      "train_y = 2 * train_x + np.random.randn(*train_x.shape) * 0.33"
     ],
     "language": "python",
     "metadata": {},
     "outputs": [],
     "prompt_number": 90
    },
    {
     "cell_type": "code",
     "collapsed": false,
     "input": [
      "## Symbolic variable initialization\n",
      "X = T.scalar()\n",
      "Y = T.scalar()"
     ],
     "language": "python",
     "metadata": {},
     "outputs": [],
     "prompt_number": 91
    },
    {
     "cell_type": "code",
     "collapsed": false,
     "input": [
      "def model(X, w): # Takes in features X and weights w\n",
      "    return X * w # Just multiplies them together"
     ],
     "language": "python",
     "metadata": {},
     "outputs": [],
     "prompt_number": 92
    },
    {
     "cell_type": "code",
     "collapsed": false,
     "input": [
      "## Theano.shared hybrid variable. Symbolic and real-valued variable. \n",
      "## Parameters for models will be hybrid variables.\n",
      "w = theano.shared(np.asarray(0., dtype=theano.config.floatX)) # Model Parameter Initialization\n",
      "y = model(X, w) # Calculate y using our simple model"
     ],
     "language": "python",
     "metadata": {},
     "outputs": [],
     "prompt_number": 93
    },
    {
     "cell_type": "code",
     "collapsed": false,
     "input": [
      "## Metric to be optimized by model\n",
      "## learning signal for parameter(s)\n",
      "cost = T.mean(T.sqr(y - Y)) # Cost function: Mean Squared Error\n",
      "gradient = T.grad(cost=cost, wrt=w) # Finding the gradient with respect to(wrt) w (our weights)\n",
      "# Update w at the next time step with w - gradient * 0.01 (learning rate)\n",
      "updates = [[w, w - gradient * 0.001]]\n"
     ],
     "language": "python",
     "metadata": {},
     "outputs": [],
     "prompt_number": 97
    },
    {
     "cell_type": "code",
     "collapsed": false,
     "input": [
      "# GPU=float32, CPU=usually float64, allow_input_downcast allows type-casting to same type internally.\n",
      "## Compile a python function\n",
      "train = theano.function(inputs=[X, Y], outputs=[cost, y], updates=updates, allow_input_downcast=True)"
     ],
     "language": "python",
     "metadata": {},
     "outputs": [],
     "prompt_number": 98
    },
    {
     "cell_type": "code",
     "collapsed": false,
     "input": [
      "## Iterate through the data 100 time and train model one each example of input/output pairs.\n",
      "\n",
      "plt.plot(train_x, train_y, 'bo')\n",
      "\n",
      "def run_training(iterations=100):\n",
      "    epoch_cost = []\n",
      "    for i in range(iterations):\n",
      "        for x, y in zip(train_x, train_y):\n",
      "            each_cost, y_predict = train(x, y) # y_predict returned here for testing the function; not used\n",
      "            out_cost = each_cost\n",
      "        epoch_cost.append(float(out_cost))\n",
      "    return(epoch_cost)\n",
      "    \n",
      "costs = run_training(100)\n",
      "plt.figure()\n",
      "plt.plot(costs, 'bo')"
     ],
     "language": "python",
     "metadata": {},
     "outputs": [
      {
       "metadata": {},
       "output_type": "pyout",
       "prompt_number": 101,
       "text": [
        "[<matplotlib.lines.Line2D at 0x16ca9860>]"
       ]
      },
      {
       "metadata": {},
       "output_type": "display_data",
       "png": "[encoded data removed]",
       "text": [
        "<matplotlib.figure.Figure at 0x16e0b240>"
       ]
      },
      {
       "metadata": {},
       "output_type": "display_data",
       "png": "[encoded data removed]",
       "text": [
        "<matplotlib.figure.Figure at 0x16bf3630>"
       ]
      }
     ],
     "prompt_number": 101
    },
    {
     "cell_type": "code",
     "collapsed": false,
     "input": [],
     "language": "python",
     "metadata": {},
     "outputs": []
    }
   ],
   "metadata": {}
  }
 ]
}